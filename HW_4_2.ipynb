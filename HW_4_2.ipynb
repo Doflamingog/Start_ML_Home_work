{
  "cells": [
    {
      "cell_type": "markdown",
      "id": "b6e8a6f5",
      "metadata": {
        "id": "b6e8a6f5"
      },
      "source": [
        "Реализуем градиентный спуск для задачи поиска оптимальных коэффициентов в MSE регрессии!"
      ]
    },
    {
      "cell_type": "code",
      "execution_count": null,
      "id": "561e2dec",
      "metadata": {
        "id": "561e2dec"
      },
      "outputs": [],
      "source": [
        "import numpy as np\n",
        "import pandas as pd\n",
        "import matplotlib.pyplot as plt"
      ]
    },
    {
      "cell_type": "markdown",
      "id": "31b0f0e0",
      "metadata": {
        "id": "31b0f0e0"
      },
      "source": [
        "Имеем 1000 объектов и 10 признаков у каждого (+таргет)!\n",
        "\n",
        "Обучим модель линейной регрессии:\n",
        "\n",
        "$$\n",
        "a(x) = \\beta_1 d_{1} + \\beta_2 d_{2} + \\beta_3 d_{3} + \\beta_4 d_{4} + \\beta_5 d_{5} + \\beta_6 d_{6} + \\beta_7 d_{7} + \\beta_8 d_{8} + \\beta_9 d_{9} + \\beta_{10} d_{10} + \\beta_0\n",
        "$$\n",
        "\n",
        "Которая минимизирует MSE:\n",
        "\n",
        "$$\n",
        "Q(a(X), Y) = \\sum_i^{1000} (a(x_i) - y_i)^2\n",
        "$$"
      ]
    },
    {
      "cell_type": "code",
      "execution_count": null,
      "id": "cb838abe",
      "metadata": {
        "tags": [],
        "colab": {
          "base_uri": "https://localhost:8080/",
          "height": 248
        },
        "id": "cb838abe",
        "outputId": "603c30ee-8b80-41a3-d988-406524145a90"
      },
      "outputs": [
        {
          "output_type": "execute_result",
          "data": {
            "text/plain": [
              "   feature_1  feature_2  feature_3  feature_4  feature_5  feature_6  \\\n",
              "0   0.113768   0.930064   0.330528   0.010987   0.265703   0.699462   \n",
              "1   0.380048   0.485946   0.870232   0.473401   0.454516   0.500864   \n",
              "2   0.768462   0.217706   0.727438   0.718377   0.452155   0.434638   \n",
              "3   0.606637   0.604335   0.540332   0.491236   0.325632   0.206348   \n",
              "4   0.119770   0.469718   0.632829   0.504207   0.238259   0.452457   \n",
              "\n",
              "   feature_7  feature_8  feature_9  feature_10     target  \n",
              "0   0.058465   0.431643   0.650958    0.751820  30.147094  \n",
              "1   0.471723   0.234329   0.072982    0.008372  21.424402  \n",
              "2   0.043989   0.972489   0.450133    0.378157  31.422056  \n",
              "3   0.825767   0.332475   0.955518    0.162811  31.308588  \n",
              "4   0.775360   0.174262   0.117621    0.218883  23.322751  "
            ],
            "text/html": [
              "\n",
              "  <div id=\"df-e47382fe-ba6f-4c9b-a486-2c2d8b295df9\">\n",
              "    <div class=\"colab-df-container\">\n",
              "      <div>\n",
              "<style scoped>\n",
              "    .dataframe tbody tr th:only-of-type {\n",
              "        vertical-align: middle;\n",
              "    }\n",
              "\n",
              "    .dataframe tbody tr th {\n",
              "        vertical-align: top;\n",
              "    }\n",
              "\n",
              "    .dataframe thead th {\n",
              "        text-align: right;\n",
              "    }\n",
              "</style>\n",
              "<table border=\"1\" class=\"dataframe\">\n",
              "  <thead>\n",
              "    <tr style=\"text-align: right;\">\n",
              "      <th></th>\n",
              "      <th>feature_1</th>\n",
              "      <th>feature_2</th>\n",
              "      <th>feature_3</th>\n",
              "      <th>feature_4</th>\n",
              "      <th>feature_5</th>\n",
              "      <th>feature_6</th>\n",
              "      <th>feature_7</th>\n",
              "      <th>feature_8</th>\n",
              "      <th>feature_9</th>\n",
              "      <th>feature_10</th>\n",
              "      <th>target</th>\n",
              "    </tr>\n",
              "  </thead>\n",
              "  <tbody>\n",
              "    <tr>\n",
              "      <th>0</th>\n",
              "      <td>0.113768</td>\n",
              "      <td>0.930064</td>\n",
              "      <td>0.330528</td>\n",
              "      <td>0.010987</td>\n",
              "      <td>0.265703</td>\n",
              "      <td>0.699462</td>\n",
              "      <td>0.058465</td>\n",
              "      <td>0.431643</td>\n",
              "      <td>0.650958</td>\n",
              "      <td>0.751820</td>\n",
              "      <td>30.147094</td>\n",
              "    </tr>\n",
              "    <tr>\n",
              "      <th>1</th>\n",
              "      <td>0.380048</td>\n",
              "      <td>0.485946</td>\n",
              "      <td>0.870232</td>\n",
              "      <td>0.473401</td>\n",
              "      <td>0.454516</td>\n",
              "      <td>0.500864</td>\n",
              "      <td>0.471723</td>\n",
              "      <td>0.234329</td>\n",
              "      <td>0.072982</td>\n",
              "      <td>0.008372</td>\n",
              "      <td>21.424402</td>\n",
              "    </tr>\n",
              "    <tr>\n",
              "      <th>2</th>\n",
              "      <td>0.768462</td>\n",
              "      <td>0.217706</td>\n",
              "      <td>0.727438</td>\n",
              "      <td>0.718377</td>\n",
              "      <td>0.452155</td>\n",
              "      <td>0.434638</td>\n",
              "      <td>0.043989</td>\n",
              "      <td>0.972489</td>\n",
              "      <td>0.450133</td>\n",
              "      <td>0.378157</td>\n",
              "      <td>31.422056</td>\n",
              "    </tr>\n",
              "    <tr>\n",
              "      <th>3</th>\n",
              "      <td>0.606637</td>\n",
              "      <td>0.604335</td>\n",
              "      <td>0.540332</td>\n",
              "      <td>0.491236</td>\n",
              "      <td>0.325632</td>\n",
              "      <td>0.206348</td>\n",
              "      <td>0.825767</td>\n",
              "      <td>0.332475</td>\n",
              "      <td>0.955518</td>\n",
              "      <td>0.162811</td>\n",
              "      <td>31.308588</td>\n",
              "    </tr>\n",
              "    <tr>\n",
              "      <th>4</th>\n",
              "      <td>0.119770</td>\n",
              "      <td>0.469718</td>\n",
              "      <td>0.632829</td>\n",
              "      <td>0.504207</td>\n",
              "      <td>0.238259</td>\n",
              "      <td>0.452457</td>\n",
              "      <td>0.775360</td>\n",
              "      <td>0.174262</td>\n",
              "      <td>0.117621</td>\n",
              "      <td>0.218883</td>\n",
              "      <td>23.322751</td>\n",
              "    </tr>\n",
              "  </tbody>\n",
              "</table>\n",
              "</div>\n",
              "      <button class=\"colab-df-convert\" onclick=\"convertToInteractive('df-e47382fe-ba6f-4c9b-a486-2c2d8b295df9')\"\n",
              "              title=\"Convert this dataframe to an interactive table.\"\n",
              "              style=\"display:none;\">\n",
              "        \n",
              "  <svg xmlns=\"http://www.w3.org/2000/svg\" height=\"24px\"viewBox=\"0 0 24 24\"\n",
              "       width=\"24px\">\n",
              "    <path d=\"M0 0h24v24H0V0z\" fill=\"none\"/>\n",
              "    <path d=\"M18.56 5.44l.94 2.06.94-2.06 2.06-.94-2.06-.94-.94-2.06-.94 2.06-2.06.94zm-11 1L8.5 8.5l.94-2.06 2.06-.94-2.06-.94L8.5 2.5l-.94 2.06-2.06.94zm10 10l.94 2.06.94-2.06 2.06-.94-2.06-.94-.94-2.06-.94 2.06-2.06.94z\"/><path d=\"M17.41 7.96l-1.37-1.37c-.4-.4-.92-.59-1.43-.59-.52 0-1.04.2-1.43.59L10.3 9.45l-7.72 7.72c-.78.78-.78 2.05 0 2.83L4 21.41c.39.39.9.59 1.41.59.51 0 1.02-.2 1.41-.59l7.78-7.78 2.81-2.81c.8-.78.8-2.07 0-2.86zM5.41 20L4 18.59l7.72-7.72 1.47 1.35L5.41 20z\"/>\n",
              "  </svg>\n",
              "      </button>\n",
              "      \n",
              "  <style>\n",
              "    .colab-df-container {\n",
              "      display:flex;\n",
              "      flex-wrap:wrap;\n",
              "      gap: 12px;\n",
              "    }\n",
              "\n",
              "    .colab-df-convert {\n",
              "      background-color: #E8F0FE;\n",
              "      border: none;\n",
              "      border-radius: 50%;\n",
              "      cursor: pointer;\n",
              "      display: none;\n",
              "      fill: #1967D2;\n",
              "      height: 32px;\n",
              "      padding: 0 0 0 0;\n",
              "      width: 32px;\n",
              "    }\n",
              "\n",
              "    .colab-df-convert:hover {\n",
              "      background-color: #E2EBFA;\n",
              "      box-shadow: 0px 1px 2px rgba(60, 64, 67, 0.3), 0px 1px 3px 1px rgba(60, 64, 67, 0.15);\n",
              "      fill: #174EA6;\n",
              "    }\n",
              "\n",
              "    [theme=dark] .colab-df-convert {\n",
              "      background-color: #3B4455;\n",
              "      fill: #D2E3FC;\n",
              "    }\n",
              "\n",
              "    [theme=dark] .colab-df-convert:hover {\n",
              "      background-color: #434B5C;\n",
              "      box-shadow: 0px 1px 3px 1px rgba(0, 0, 0, 0.15);\n",
              "      filter: drop-shadow(0px 1px 2px rgba(0, 0, 0, 0.3));\n",
              "      fill: #FFFFFF;\n",
              "    }\n",
              "  </style>\n",
              "\n",
              "      <script>\n",
              "        const buttonEl =\n",
              "          document.querySelector('#df-e47382fe-ba6f-4c9b-a486-2c2d8b295df9 button.colab-df-convert');\n",
              "        buttonEl.style.display =\n",
              "          google.colab.kernel.accessAllowed ? 'block' : 'none';\n",
              "\n",
              "        async function convertToInteractive(key) {\n",
              "          const element = document.querySelector('#df-e47382fe-ba6f-4c9b-a486-2c2d8b295df9');\n",
              "          const dataTable =\n",
              "            await google.colab.kernel.invokeFunction('convertToInteractive',\n",
              "                                                     [key], {});\n",
              "          if (!dataTable) return;\n",
              "\n",
              "          const docLinkHtml = 'Like what you see? Visit the ' +\n",
              "            '<a target=\"_blank\" href=https://colab.research.google.com/notebooks/data_table.ipynb>data table notebook</a>'\n",
              "            + ' to learn more about interactive tables.';\n",
              "          element.innerHTML = '';\n",
              "          dataTable['output_type'] = 'display_data';\n",
              "          await google.colab.output.renderOutput(dataTable, element);\n",
              "          const docLink = document.createElement('div');\n",
              "          docLink.innerHTML = docLinkHtml;\n",
              "          element.appendChild(docLink);\n",
              "        }\n",
              "      </script>\n",
              "    </div>\n",
              "  </div>\n",
              "  "
            ]
          },
          "metadata": {},
          "execution_count": 2
        }
      ],
      "source": [
        "data = pd.read_csv('/content/data-2.csv')\n",
        "\n",
        "data.head()"
      ]
    },
    {
      "cell_type": "code",
      "source": [
        "\n"
      ],
      "metadata": {
        "id": "lGVagbkyB4Cl"
      },
      "id": "lGVagbkyB4Cl",
      "execution_count": null,
      "outputs": []
    },
    {
      "cell_type": "code",
      "source": [],
      "metadata": {
        "id": "BdBJ7JEtCAYH"
      },
      "id": "BdBJ7JEtCAYH",
      "execution_count": null,
      "outputs": []
    },
    {
      "cell_type": "markdown",
      "id": "81c8251b",
      "metadata": {
        "id": "81c8251b"
      },
      "source": [
        "Обучим коэффициенты линейной регрессии с помощью библиотеки <a href=\"https://scikit-learn.org/stable/modules/generated/sklearn.linear_model.LinearRegression.html\"> **sklearn** </a>\n",
        "\n",
        "Отдельно выведем оценку свободного коэффициента  ($\\beta_0$ при $d_0 = 1$)"
      ]
    },
    {
      "cell_type": "code",
      "execution_count": null,
      "id": "89990a05",
      "metadata": {
        "colab": {
          "base_uri": "https://localhost:8080/"
        },
        "id": "89990a05",
        "outputId": "dcd2d221-3727-416c-9a99-9458d2f830a8"
      },
      "outputs": [
        {
          "output_type": "execute_result",
          "data": {
            "text/plain": [
              "LinearRegression()"
            ]
          },
          "metadata": {},
          "execution_count": 3
        }
      ],
      "source": [
        "from sklearn.linear_model import LinearRegression\n",
        "\n",
        "X = data.drop(columns = [\"target\"])\n",
        "Y = data[\"target\"]\n",
        "model = LinearRegression()\n",
        "model.fit(X,Y)"
      ]
    },
    {
      "cell_type": "code",
      "source": [
        "model.coef_"
      ],
      "metadata": {
        "colab": {
          "base_uri": "https://localhost:8080/"
        },
        "id": "3swy_e_hBB0A",
        "outputId": "df61810e-c7f9-42d1-876e-31a861214cd9"
      },
      "id": "3swy_e_hBB0A",
      "execution_count": null,
      "outputs": [
        {
          "output_type": "execute_result",
          "data": {
            "text/plain": [
              "array([ 1.,  2.,  3.,  4.,  5.,  6.,  7.,  8.,  9., 10.])"
            ]
          },
          "metadata": {},
          "execution_count": 4
        }
      ]
    },
    {
      "cell_type": "code",
      "source": [
        "model.intercept_"
      ],
      "metadata": {
        "colab": {
          "base_uri": "https://localhost:8080/"
        },
        "id": "4Kg2e1hbBE5_",
        "outputId": "4627a3f6-e36d-48b2-d3b7-5ed02a4168ca"
      },
      "id": "4Kg2e1hbBE5_",
      "execution_count": null,
      "outputs": [
        {
          "output_type": "execute_result",
          "data": {
            "text/plain": [
              "4.373157038707131"
            ]
          },
          "metadata": {},
          "execution_count": 5
        }
      ]
    },
    {
      "cell_type": "markdown",
      "id": "810352b6",
      "metadata": {
        "id": "810352b6"
      },
      "source": [
        "Теперь вам необходимо реализовать класс для оптимизации коэффициентов линейной регрессии МНК.\n",
        "Подразумевается, что на вход алгоритм будет принимать следующие параметры:\n",
        "\n",
        "- 2 pandas датафрейма **samples** и **targets**, содержащих матрицу объектов и ветор ответов соответственно\n",
        "- значение **learning rate**, который корректирует длину вектора-градиента (чтобы он не взорвался)\n",
        "- значение **threshold**'а для критерия останова (когда мы считаем, что мы сошлись к оптимуму)\n",
        "- параметр **copy**, который позволяет либо делать изменения in-place в датафрейме, подающимся в класс, если изменения матрицы объектов в принципе при обучении имеются. Или же копировать объект при инициализации класса и возвращать новый объект, если требуется.\n",
        "\n",
        "Он будет состоять из следующих важных компонент-методов:\n",
        "\n",
        "- **add_constant_feature**: добавляет колонку с названием *constant* из единичек к переданному датафрейму **samples**. Это позволяет оценить свободный коэффициент $\\beta_0$.\n",
        "\n",
        "- **calculate_mse_loss**: вычисляет при текущих весах **self.beta** значение среднеквадратической ошибки.\n",
        "\n",
        "- **calculate_gradient**: вычисляет при текущих весах вектор-градиент по функционалу.\n",
        "\n",
        "- **iteration**: производит итерацию градиентного спуска, то есть обновляет веса модели, в соответствии с установленным **learning_rate = $\\eta$**: $\\beta^{(n+1)} = \\beta^{(n)} - \\eta \\cdot \\nabla Q(\\beta^{(n)})$\n",
        "\n",
        "- **learn**: производит итерации обучения до того момента, пока не сработает критерий останова обучения. В этот раз критерием останова будет следующее событие: во время крайней итерации изменение в функционале качества модели составило значение меньшее, чем **self.threshold**. Иными словами, $|Q(\\beta^{(n)}) - Q(\\beta^{(n+1)})| < threshold$.\n",
        "\n",
        "P.S. установите в **__init__** аттрибут экземпляра с названием **iteration_loss_dict**, который будет устроен следующим образом: на каждой итерации мы будем добавлять в словарь пару ключ-значение, где ключем будет номер итерации $n$, а значением - среднеквадратическая ошибка в точке $\\beta^{(n)}$. Это пригодится нам в будущем для визуализации."
      ]
    },
    {
      "cell_type": "markdown",
      "id": "35843be6",
      "metadata": {
        "id": "35843be6"
      },
      "source": [
        "### Hint: пример вычисления производной"
      ]
    },
    {
      "cell_type": "markdown",
      "id": "988445ce",
      "metadata": {
        "id": "988445ce"
      },
      "source": [
        "$$\n",
        "Q(a, X) = \\frac{1}{N}\\cdot\\sum_{i=1}^N (\\beta_1 \\cdot d_{i1} + ... + \\beta_n \\cdot d_{in} - y_i)^2\n",
        "$$\n",
        "\n",
        "Выше - минимизируемая функция. Она зависит от n переменных: $\\beta_1, ..., \\beta_n$. Вектор-градиент - матрица с одной строчкой, состоящей из производных 1го порядка по всем переменным.\n",
        "\n",
        "$$\n",
        "\\nabla Q(a, X) = (Q'_{\\beta_1} \\;\\;\\; Q'_{\\beta_2} \\;\\;\\; ... \\;\\;\\; Q'_{\\beta_{n-1}}  \\;\\;\\;  Q'_{\\beta_n})\n",
        "$$\n",
        "\n",
        "Пример вычисления производной по первой переменной:\n",
        "\n",
        "$$\n",
        "Q'_{\\beta_1} = \\frac{2}{N} \\cdot \\sum_{i=1}^N d_{i1} (\\beta_1 \\cdot d_{i1} + ... + \\beta_{n} \\cdot d_{in} - y_i)\n",
        "$$\n",
        "\n",
        "Скажем, для нашего датасета X, Y вычислим эту саму производную при начальных единичных коэффициентах $\\beta_{start} = (1 \\;\\;\\; 1 \\;\\;\\; ...)$"
      ]
    },
    {
      "cell_type": "markdown",
      "id": "f43f8015",
      "metadata": {
        "id": "f43f8015"
      },
      "source": [
        "Получим для каждого объекта в начале выражение из скобочек: \n",
        "$$\n",
        "\\beta_1 \\cdot d_{i1} + ... + \\beta_{n} \\cdot d_{in} - y_i\n",
        "$$"
      ]
    },
    {
      "cell_type": "code",
      "execution_count": null,
      "id": "a0d4db7a",
      "metadata": {
        "id": "a0d4db7a"
      },
      "outputs": [],
      "source": [
        "### Инициализируем точку для коэффициентов в виде вектора из единичек\n",
        "initial_betas = np.ones(X.shape[1])\n",
        "\n",
        "### Получим выражение выше для каждого объекта. \n",
        "### Для этого скалярно перемножим строчки из X на наши beta\n",
        "\n",
        "scalar_value = np.dot(X, initial_betas.reshape(-1, 1)).ravel()\n",
        "scalar_value = (scalar_value - Y).values"
      ]
    },
    {
      "cell_type": "markdown",
      "id": "86c57541",
      "metadata": {
        "id": "86c57541"
      },
      "source": [
        "Теперь полученное значение для каждого объекта умножим на соответствующее значение признака $d_1$:\n",
        "\n",
        "$$\n",
        "d_{i1} \\cdot (\\beta_1 \\cdot d_{i1} + ... + \\beta_{n} \\cdot d_{in} - y_i)\n",
        "$$"
      ]
    },
    {
      "cell_type": "code",
      "execution_count": null,
      "id": "daba3af2",
      "metadata": {
        "tags": [],
        "id": "daba3af2"
      },
      "outputs": [],
      "source": [
        "### Возьмем столбик со значениями 1 признака\n",
        "\n",
        "d_i1 = X.values[:, 0]\n",
        "\n",
        "### Умножим каждый объект на соответствующее значение признака\n",
        "scalar_value = scalar_value * d_i1"
      ]
    },
    {
      "cell_type": "code",
      "execution_count": null,
      "id": "095c35ea",
      "metadata": {
        "colab": {
          "base_uri": "https://localhost:8080/"
        },
        "id": "095c35ea",
        "outputId": "0d651174-a971-455a-9786-244edba4f168"
      },
      "outputs": [
        {
          "output_type": "execute_result",
          "data": {
            "text/plain": [
              "-27.62384887912409"
            ]
          },
          "metadata": {},
          "execution_count": 8
        }
      ],
      "source": [
        "### Наконец, умножим все на 2 и усреднимся, \n",
        "### чтобы получить значение производной по первому параметру\n",
        "\n",
        "2 * np.mean(scalar_value)"
      ]
    },
    {
      "cell_type": "code",
      "source": [
        "X"
      ],
      "metadata": {
        "colab": {
          "base_uri": "https://localhost:8080/",
          "height": 419
        },
        "id": "B-2ou705LQrE",
        "outputId": "a3d77c15-c97d-49d1-dcf1-3b26e92f6791"
      },
      "id": "B-2ou705LQrE",
      "execution_count": null,
      "outputs": [
        {
          "output_type": "execute_result",
          "data": {
            "text/plain": [
              "     feature_1  feature_2  feature_3  feature_4  feature_5  feature_6  \\\n",
              "0     0.113768   0.930064   0.330528   0.010987   0.265703   0.699462   \n",
              "1     0.380048   0.485946   0.870232   0.473401   0.454516   0.500864   \n",
              "2     0.768462   0.217706   0.727438   0.718377   0.452155   0.434638   \n",
              "3     0.606637   0.604335   0.540332   0.491236   0.325632   0.206348   \n",
              "4     0.119770   0.469718   0.632829   0.504207   0.238259   0.452457   \n",
              "..         ...        ...        ...        ...        ...        ...   \n",
              "995   0.538751   0.072868   0.337400   0.531014   0.240128   0.652470   \n",
              "996   0.898252   0.169217   0.750159   0.155727   0.844080   0.403090   \n",
              "997   0.813122   0.251505   0.284456   0.314093   0.869697   0.995674   \n",
              "998   0.722563   0.533463   0.747446   0.973052   0.462915   0.959898   \n",
              "999   0.396518   0.816638   0.757140   0.139869   0.111217   0.183774   \n",
              "\n",
              "     feature_7  feature_8  feature_9  feature_10  \n",
              "0     0.058465   0.431643   0.650958    0.751820  \n",
              "1     0.471723   0.234329   0.072982    0.008372  \n",
              "2     0.043989   0.972489   0.450133    0.378157  \n",
              "3     0.825767   0.332475   0.955518    0.162811  \n",
              "4     0.775360   0.174262   0.117621    0.218883  \n",
              "..         ...        ...        ...         ...  \n",
              "995   0.772777   0.062364   0.860766    0.594596  \n",
              "996   0.098818   0.360846   0.613283    0.323710  \n",
              "997   0.971214   0.324628   0.584621    0.020221  \n",
              "998   0.561589   0.059606   0.599894    0.407610  \n",
              "999   0.291408   0.693623   0.631675    0.446675  \n",
              "\n",
              "[1000 rows x 10 columns]"
            ],
            "text/html": [
              "\n",
              "  <div id=\"df-61fb54ec-5eca-49b3-821d-dd76c7aa0b77\">\n",
              "    <div class=\"colab-df-container\">\n",
              "      <div>\n",
              "<style scoped>\n",
              "    .dataframe tbody tr th:only-of-type {\n",
              "        vertical-align: middle;\n",
              "    }\n",
              "\n",
              "    .dataframe tbody tr th {\n",
              "        vertical-align: top;\n",
              "    }\n",
              "\n",
              "    .dataframe thead th {\n",
              "        text-align: right;\n",
              "    }\n",
              "</style>\n",
              "<table border=\"1\" class=\"dataframe\">\n",
              "  <thead>\n",
              "    <tr style=\"text-align: right;\">\n",
              "      <th></th>\n",
              "      <th>feature_1</th>\n",
              "      <th>feature_2</th>\n",
              "      <th>feature_3</th>\n",
              "      <th>feature_4</th>\n",
              "      <th>feature_5</th>\n",
              "      <th>feature_6</th>\n",
              "      <th>feature_7</th>\n",
              "      <th>feature_8</th>\n",
              "      <th>feature_9</th>\n",
              "      <th>feature_10</th>\n",
              "    </tr>\n",
              "  </thead>\n",
              "  <tbody>\n",
              "    <tr>\n",
              "      <th>0</th>\n",
              "      <td>0.113768</td>\n",
              "      <td>0.930064</td>\n",
              "      <td>0.330528</td>\n",
              "      <td>0.010987</td>\n",
              "      <td>0.265703</td>\n",
              "      <td>0.699462</td>\n",
              "      <td>0.058465</td>\n",
              "      <td>0.431643</td>\n",
              "      <td>0.650958</td>\n",
              "      <td>0.751820</td>\n",
              "    </tr>\n",
              "    <tr>\n",
              "      <th>1</th>\n",
              "      <td>0.380048</td>\n",
              "      <td>0.485946</td>\n",
              "      <td>0.870232</td>\n",
              "      <td>0.473401</td>\n",
              "      <td>0.454516</td>\n",
              "      <td>0.500864</td>\n",
              "      <td>0.471723</td>\n",
              "      <td>0.234329</td>\n",
              "      <td>0.072982</td>\n",
              "      <td>0.008372</td>\n",
              "    </tr>\n",
              "    <tr>\n",
              "      <th>2</th>\n",
              "      <td>0.768462</td>\n",
              "      <td>0.217706</td>\n",
              "      <td>0.727438</td>\n",
              "      <td>0.718377</td>\n",
              "      <td>0.452155</td>\n",
              "      <td>0.434638</td>\n",
              "      <td>0.043989</td>\n",
              "      <td>0.972489</td>\n",
              "      <td>0.450133</td>\n",
              "      <td>0.378157</td>\n",
              "    </tr>\n",
              "    <tr>\n",
              "      <th>3</th>\n",
              "      <td>0.606637</td>\n",
              "      <td>0.604335</td>\n",
              "      <td>0.540332</td>\n",
              "      <td>0.491236</td>\n",
              "      <td>0.325632</td>\n",
              "      <td>0.206348</td>\n",
              "      <td>0.825767</td>\n",
              "      <td>0.332475</td>\n",
              "      <td>0.955518</td>\n",
              "      <td>0.162811</td>\n",
              "    </tr>\n",
              "    <tr>\n",
              "      <th>4</th>\n",
              "      <td>0.119770</td>\n",
              "      <td>0.469718</td>\n",
              "      <td>0.632829</td>\n",
              "      <td>0.504207</td>\n",
              "      <td>0.238259</td>\n",
              "      <td>0.452457</td>\n",
              "      <td>0.775360</td>\n",
              "      <td>0.174262</td>\n",
              "      <td>0.117621</td>\n",
              "      <td>0.218883</td>\n",
              "    </tr>\n",
              "    <tr>\n",
              "      <th>...</th>\n",
              "      <td>...</td>\n",
              "      <td>...</td>\n",
              "      <td>...</td>\n",
              "      <td>...</td>\n",
              "      <td>...</td>\n",
              "      <td>...</td>\n",
              "      <td>...</td>\n",
              "      <td>...</td>\n",
              "      <td>...</td>\n",
              "      <td>...</td>\n",
              "    </tr>\n",
              "    <tr>\n",
              "      <th>995</th>\n",
              "      <td>0.538751</td>\n",
              "      <td>0.072868</td>\n",
              "      <td>0.337400</td>\n",
              "      <td>0.531014</td>\n",
              "      <td>0.240128</td>\n",
              "      <td>0.652470</td>\n",
              "      <td>0.772777</td>\n",
              "      <td>0.062364</td>\n",
              "      <td>0.860766</td>\n",
              "      <td>0.594596</td>\n",
              "    </tr>\n",
              "    <tr>\n",
              "      <th>996</th>\n",
              "      <td>0.898252</td>\n",
              "      <td>0.169217</td>\n",
              "      <td>0.750159</td>\n",
              "      <td>0.155727</td>\n",
              "      <td>0.844080</td>\n",
              "      <td>0.403090</td>\n",
              "      <td>0.098818</td>\n",
              "      <td>0.360846</td>\n",
              "      <td>0.613283</td>\n",
              "      <td>0.323710</td>\n",
              "    </tr>\n",
              "    <tr>\n",
              "      <th>997</th>\n",
              "      <td>0.813122</td>\n",
              "      <td>0.251505</td>\n",
              "      <td>0.284456</td>\n",
              "      <td>0.314093</td>\n",
              "      <td>0.869697</td>\n",
              "      <td>0.995674</td>\n",
              "      <td>0.971214</td>\n",
              "      <td>0.324628</td>\n",
              "      <td>0.584621</td>\n",
              "      <td>0.020221</td>\n",
              "    </tr>\n",
              "    <tr>\n",
              "      <th>998</th>\n",
              "      <td>0.722563</td>\n",
              "      <td>0.533463</td>\n",
              "      <td>0.747446</td>\n",
              "      <td>0.973052</td>\n",
              "      <td>0.462915</td>\n",
              "      <td>0.959898</td>\n",
              "      <td>0.561589</td>\n",
              "      <td>0.059606</td>\n",
              "      <td>0.599894</td>\n",
              "      <td>0.407610</td>\n",
              "    </tr>\n",
              "    <tr>\n",
              "      <th>999</th>\n",
              "      <td>0.396518</td>\n",
              "      <td>0.816638</td>\n",
              "      <td>0.757140</td>\n",
              "      <td>0.139869</td>\n",
              "      <td>0.111217</td>\n",
              "      <td>0.183774</td>\n",
              "      <td>0.291408</td>\n",
              "      <td>0.693623</td>\n",
              "      <td>0.631675</td>\n",
              "      <td>0.446675</td>\n",
              "    </tr>\n",
              "  </tbody>\n",
              "</table>\n",
              "<p>1000 rows × 10 columns</p>\n",
              "</div>\n",
              "      <button class=\"colab-df-convert\" onclick=\"convertToInteractive('df-61fb54ec-5eca-49b3-821d-dd76c7aa0b77')\"\n",
              "              title=\"Convert this dataframe to an interactive table.\"\n",
              "              style=\"display:none;\">\n",
              "        \n",
              "  <svg xmlns=\"http://www.w3.org/2000/svg\" height=\"24px\"viewBox=\"0 0 24 24\"\n",
              "       width=\"24px\">\n",
              "    <path d=\"M0 0h24v24H0V0z\" fill=\"none\"/>\n",
              "    <path d=\"M18.56 5.44l.94 2.06.94-2.06 2.06-.94-2.06-.94-.94-2.06-.94 2.06-2.06.94zm-11 1L8.5 8.5l.94-2.06 2.06-.94-2.06-.94L8.5 2.5l-.94 2.06-2.06.94zm10 10l.94 2.06.94-2.06 2.06-.94-2.06-.94-.94-2.06-.94 2.06-2.06.94z\"/><path d=\"M17.41 7.96l-1.37-1.37c-.4-.4-.92-.59-1.43-.59-.52 0-1.04.2-1.43.59L10.3 9.45l-7.72 7.72c-.78.78-.78 2.05 0 2.83L4 21.41c.39.39.9.59 1.41.59.51 0 1.02-.2 1.41-.59l7.78-7.78 2.81-2.81c.8-.78.8-2.07 0-2.86zM5.41 20L4 18.59l7.72-7.72 1.47 1.35L5.41 20z\"/>\n",
              "  </svg>\n",
              "      </button>\n",
              "      \n",
              "  <style>\n",
              "    .colab-df-container {\n",
              "      display:flex;\n",
              "      flex-wrap:wrap;\n",
              "      gap: 12px;\n",
              "    }\n",
              "\n",
              "    .colab-df-convert {\n",
              "      background-color: #E8F0FE;\n",
              "      border: none;\n",
              "      border-radius: 50%;\n",
              "      cursor: pointer;\n",
              "      display: none;\n",
              "      fill: #1967D2;\n",
              "      height: 32px;\n",
              "      padding: 0 0 0 0;\n",
              "      width: 32px;\n",
              "    }\n",
              "\n",
              "    .colab-df-convert:hover {\n",
              "      background-color: #E2EBFA;\n",
              "      box-shadow: 0px 1px 2px rgba(60, 64, 67, 0.3), 0px 1px 3px 1px rgba(60, 64, 67, 0.15);\n",
              "      fill: #174EA6;\n",
              "    }\n",
              "\n",
              "    [theme=dark] .colab-df-convert {\n",
              "      background-color: #3B4455;\n",
              "      fill: #D2E3FC;\n",
              "    }\n",
              "\n",
              "    [theme=dark] .colab-df-convert:hover {\n",
              "      background-color: #434B5C;\n",
              "      box-shadow: 0px 1px 3px 1px rgba(0, 0, 0, 0.15);\n",
              "      filter: drop-shadow(0px 1px 2px rgba(0, 0, 0, 0.3));\n",
              "      fill: #FFFFFF;\n",
              "    }\n",
              "  </style>\n",
              "\n",
              "      <script>\n",
              "        const buttonEl =\n",
              "          document.querySelector('#df-61fb54ec-5eca-49b3-821d-dd76c7aa0b77 button.colab-df-convert');\n",
              "        buttonEl.style.display =\n",
              "          google.colab.kernel.accessAllowed ? 'block' : 'none';\n",
              "\n",
              "        async function convertToInteractive(key) {\n",
              "          const element = document.querySelector('#df-61fb54ec-5eca-49b3-821d-dd76c7aa0b77');\n",
              "          const dataTable =\n",
              "            await google.colab.kernel.invokeFunction('convertToInteractive',\n",
              "                                                     [key], {});\n",
              "          if (!dataTable) return;\n",
              "\n",
              "          const docLinkHtml = 'Like what you see? Visit the ' +\n",
              "            '<a target=\"_blank\" href=https://colab.research.google.com/notebooks/data_table.ipynb>data table notebook</a>'\n",
              "            + ' to learn more about interactive tables.';\n",
              "          element.innerHTML = '';\n",
              "          dataTable['output_type'] = 'display_data';\n",
              "          await google.colab.output.renderOutput(dataTable, element);\n",
              "          const docLink = document.createElement('div');\n",
              "          docLink.innerHTML = docLinkHtml;\n",
              "          element.appendChild(docLink);\n",
              "        }\n",
              "      </script>\n",
              "    </div>\n",
              "  </div>\n",
              "  "
            ]
          },
          "metadata": {},
          "execution_count": 9
        }
      ]
    },
    {
      "cell_type": "markdown",
      "id": "ba722ac2",
      "metadata": {
        "id": "ba722ac2"
      },
      "source": [
        "### Эта логика поможем Вам при реализации класса!"
      ]
    },
    {
      "cell_type": "markdown",
      "id": "9ed5b4a8",
      "metadata": {
        "id": "9ed5b4a8"
      },
      "source": [
        "learn(self)\n",
        "\n",
        "метод возвращает итоговую среднеквадратическую ошибку.\n",
        "метод итеративно вычисляет среднеквадратическую ошибку и вектор-градиент. номер итерации и MSE записываются в словарь *iteration_loss_dict*. критерий останова срабатывает тогда, когда абсолютное значение разницы двух последних MSE меньше *self.threshold*."
      ]
    },
    {
      "cell_type": "code",
      "execution_count": null,
      "id": "cd667639",
      "metadata": {
        "id": "cd667639"
      },
      "outputs": [],
      "source": [
        "class GradientDescentMse:\n",
        "    \"\"\"\n",
        "    Базовый класс для реализации градиентного спуска в задаче линейной МНК регрессии \n",
        "    \"\"\"\n",
        "\n",
        "    def __init__(self, samples: pd.DataFrame, targets: pd.DataFrame,\n",
        "                 learning_rate: float = 1e-3, threshold = 1e-6, copy: bool = True):\n",
        "        \"\"\"\n",
        "        self.samples - матрица признаков\n",
        "        self.targets - вектор таргетов\n",
        "        self.beta - вектор из изначальными весами модели == коэффициентами бета (состоит из единиц)\n",
        "        self.learning_rate - параметр *learning_rate* для корректировки нормы градиента\n",
        "        self.threshold - величина, меньше которой изменение в loss-функции означает остановку градиентного спуска\n",
        "        iteration_loss_dict - словарь, который будет хранить номер итерации и соответствующую MSE\n",
        "        copy: копирование матрицы признаков или создание изменения in-place\n",
        "        \"\"\"\n",
        "        self.samples = samples\n",
        "        self.targets = targets\n",
        "        self.beta = np.ones(11)\n",
        "        self.learning_rate = learning_rate\n",
        "        self.threshold = threshold\n",
        "        self.iteration_loss_dict = {}\n",
        "\n",
        "        \n",
        "    def add_constant_feature(self):\n",
        "      self.samples[\"constant\"] = 1\n",
        "    \n",
        "        ### Your code is here\n",
        "        \n",
        "    def calculate_mse_loss(self) -> float:\n",
        "      return ((np.dot(self.samples,self.beta) - self.targets)**2).mean()\n",
        "      \n",
        "        ### Your code is here\n",
        "\n",
        "    def calculate_gradient(self) -> np.ndarray:\n",
        "      return (np.dot((np.dot(self.samples,self.beta) - self.targets),self.samples) * 2) / 1000\n",
        "        \n",
        "        ### Your code is here\n",
        "    \n",
        "    \n",
        "    def iteration(self):\n",
        "        self.beta = self.beta - self.learning_rate * self.calculate_gradient()\n",
        "\n",
        "    def return_mse(self):\n",
        "      return self.iteration_loss_dict\n",
        "        ### Your code is here\n",
        "        \n",
        "    def learn(self):\n",
        "      a = 0\n",
        "      mse = self.calculate_mse_loss()\n",
        "      self.iteration_loss_dict[a] = mse\n",
        "      self.iteration()\n",
        "      mse_new = self.calculate_mse_loss()\n",
        "      a+=1\n",
        "      self.iteration_loss_dict[a] = mse_new\n",
        "      while abs(mse - mse_new) > self.threshold:\n",
        "          a+=1\n",
        "          mse = self.calculate_mse_loss()\n",
        "          self.iteration()\n",
        "          mse_new = self.calculate_mse_loss()\n",
        "          self.iteration_loss_dict[a] = mse_new\n",
        "         \n",
        "          \n",
        "    \n",
        "          \n",
        "\n",
        "\n",
        "      "
      ]
    },
    {
      "cell_type": "markdown",
      "id": "53a31edf",
      "metadata": {
        "id": "53a31edf"
      },
      "source": [
        "Обучим коэффициенты линейной модели с помощью реализованного нами градиентного спуска, не забыв добавить свободную переменную. Получились ли такие же коэффициенты, как и при использовании **LinearRegression** из **sklearn**? Если нет, то почему они отличаются, на Ваш взгляд, и сильно ли?"
      ]
    },
    {
      "cell_type": "code",
      "execution_count": null,
      "id": "72f86135",
      "metadata": {
        "id": "72f86135"
      },
      "outputs": [],
      "source": [
        "GD = GradientDescentMse(samples=X, targets=Y)\n",
        "GD.add_constant_feature()\n",
        "GD.learn()"
      ]
    },
    {
      "cell_type": "code",
      "execution_count": null,
      "id": "cad96ba3",
      "metadata": {
        "colab": {
          "base_uri": "https://localhost:8080/"
        },
        "id": "cad96ba3",
        "outputId": "c3376e08-4bbf-4478-deca-5b2399dd0bd6"
      },
      "outputs": [
        {
          "output_type": "stream",
          "name": "stdout",
          "text": [
            "Веса модели при переменных d0, d1, ..., d10 равны соответственно: \n",
            "\n",
            "[0.88733305 1.90100713 2.88063607 3.87662612 4.89623507 5.89126182\n",
            " 6.89254811 7.90311947 8.87580109 9.86109585 4.94854733]\n"
          ]
        }
      ],
      "source": [
        "print('Веса модели при переменных d0, d1, ..., d10 равны соответственно: \\n\\n' + str(GD.beta))"
      ]
    },
    {
      "cell_type": "code",
      "source": [
        "GD.beta[10]"
      ],
      "metadata": {
        "colab": {
          "base_uri": "https://localhost:8080/"
        },
        "id": "ETk1dY13L2KJ",
        "outputId": "40df4ca5-6551-42f4-cd1f-fb3608458a57"
      },
      "id": "ETk1dY13L2KJ",
      "execution_count": null,
      "outputs": [
        {
          "output_type": "execute_result",
          "data": {
            "text/plain": [
              "4.9485473336344254"
            ]
          },
          "metadata": {},
          "execution_count": 13
        }
      ]
    },
    {
      "cell_type": "code",
      "source": [],
      "metadata": {
        "id": "-m1wz8UyOgIa"
      },
      "id": "-m1wz8UyOgIa",
      "execution_count": null,
      "outputs": []
    },
    {
      "cell_type": "code",
      "source": [
        "GD.calculate_gradient()"
      ],
      "metadata": {
        "colab": {
          "base_uri": "https://localhost:8080/"
        },
        "id": "t-JY3_RdM7ch",
        "outputId": "4445ec6e-0a91-4b12-c635-190eb1486c76"
      },
      "id": "t-JY3_RdM7ch",
      "execution_count": null,
      "outputs": [
        {
          "output_type": "execute_result",
          "data": {
            "text/plain": [
              "array([-0.00454284, -0.00449589, -0.00523407, -0.00557494, -0.00477765,\n",
              "       -0.00522574, -0.00529531, -0.00485967, -0.00608349, -0.00669635,\n",
              "        0.02677579])"
            ]
          },
          "metadata": {},
          "execution_count": 14
        }
      ]
    },
    {
      "cell_type": "markdown",
      "id": "c4b736b8",
      "metadata": {
        "id": "c4b736b8"
      },
      "source": [
        "Попробуйте теперь изменить значения **learning_rate** и/или **threshold**. Например, установите длину шага $\\eta = 1$. Что произошло и почему такое возможно?"
      ]
    },
    {
      "cell_type": "code",
      "execution_count": null,
      "id": "00ab9388",
      "metadata": {
        "id": "00ab9388"
      },
      "outputs": [],
      "source": [
        "### Your code is here"
      ]
    },
    {
      "cell_type": "markdown",
      "id": "46812339",
      "metadata": {
        "id": "46812339"
      },
      "source": [
        "В машинном обучении зачастую исследуют так называемые **траектории обучения** (или **learning paths**). Это графики, показывающие, как во время обучения при каждой следующей итерации изменялось значение минимизируемого функционала. Постройте такие траектории для различных **learning rate**'ов и **threshold**'ов. Советуем использовать для этого разобранный на занятиях **add_subplot** метод. \n",
        "\n",
        "Возьмите следующие **threshold**'ы: 1e-2, 1e-3, 1e-4, 1e-5\n",
        "\n",
        "И следующие значения **learning rate**'а: 1e-1, 5e-2, 1e-2, 5e-3, 1e-3\n",
        "\n",
        "У вас должен получиться примерно такой график (см. ниже, значения среднеквадратической ошибки мы намеренно замазали оранжевыми квадратиками, чтобы не спойлерить вам результаты).\n",
        "\n",
        "Как и подобает хорошим Data Scientist'ам, не забывайте подписывать графики, оси, а так же делать элементы ваших визуализаций читаемыми и видимыми. Советуем пересмотреть методы и параметры форматирования из лекции.\n",
        "\n",
        "При какой комбинации **threshold** - **learning rate** из возможных предложенных выше, получается достигнуть меньшего значения нашей минимизируемой функции? Запишите каждой из значений в легенде на графиках.\n"
      ]
    },
    {
      "cell_type": "code",
      "source": [
        "import matplotlib.pyplot as plt\n",
        "import numpy as np"
      ],
      "metadata": {
        "id": "oIeSb2zsyO8T"
      },
      "id": "oIeSb2zsyO8T",
      "execution_count": null,
      "outputs": []
    },
    {
      "cell_type": "code",
      "source": [
        "fig = plt.figure()\n",
        "\n",
        "fig.set_size_inches(15, 10)"
      ],
      "metadata": {
        "colab": {
          "base_uri": "https://localhost:8080/",
          "height": 34
        },
        "id": "pVu29Cj-y6S9",
        "outputId": "a4c36497-1db0-41bb-b083-5fcada439892"
      },
      "id": "pVu29Cj-y6S9",
      "execution_count": null,
      "outputs": [
        {
          "output_type": "display_data",
          "data": {
            "text/plain": [
              "<Figure size 1080x720 with 0 Axes>"
            ]
          },
          "metadata": {}
        }
      ]
    },
    {
      "cell_type": "code",
      "source": [
        "a = {1:2,\n",
        "     2:3,\n",
        "     4:3,\n",
        "     6:7,\n",
        "     }"
      ],
      "metadata": {
        "id": "xOglqqsM0aPD"
      },
      "id": "xOglqqsM0aPD",
      "execution_count": null,
      "outputs": []
    },
    {
      "cell_type": "code",
      "source": [
        "list(a.keys())[-1]"
      ],
      "metadata": {
        "colab": {
          "base_uri": "https://localhost:8080/"
        },
        "id": "v9JBL3Rl0f1g",
        "outputId": "0f4e6e14-7723-48a2-96ac-3ba01cec08ab"
      },
      "id": "v9JBL3Rl0f1g",
      "execution_count": null,
      "outputs": [
        {
          "output_type": "execute_result",
          "data": {
            "text/plain": [
              "6"
            ]
          },
          "metadata": {},
          "execution_count": 19
        }
      ]
    },
    {
      "cell_type": "code",
      "execution_count": null,
      "id": "e4fdc89d",
      "metadata": {
        "tags": [],
        "id": "e4fdc89d"
      },
      "outputs": [],
      "source": [
        "tresh = [1e-2, 1e-3, 1e-4, 1e-5]\n",
        "learn = [1e-1, 5e-2, 1e-2, 5e-3, 1e-3]\n",
        "section = [1,2,3,4]\n"
      ]
    },
    {
      "cell_type": "code",
      "execution_count": null,
      "id": "76c03570",
      "metadata": {
        "id": "76c03570"
      },
      "outputs": [],
      "source": [
        "min_t = 0\n",
        "min_l = 0\n",
        "min_e = 1000000\n",
        "for t in tresh:\n",
        "  for l in learn:\n",
        "    GD = GradientDescentMse(samples=X, targets=Y,learning_rate= l,threshold= t)\n",
        "    GD.add_constant_feature()\n",
        "    GD.learn()\n",
        "    a = GD.return_mse()\n",
        "    if list(a.keys())[-1] < min_e:\n",
        "      min_e = list(a.keys())[-1]\n",
        "      min_t = t\n",
        "      min_l = l\n",
        "\n",
        "\n",
        "\n",
        "    \n",
        "\n"
      ]
    },
    {
      "cell_type": "code",
      "source": [
        "min_l"
      ],
      "metadata": {
        "colab": {
          "base_uri": "https://localhost:8080/"
        },
        "id": "aG7RhQMC2H86",
        "outputId": "c1b649bb-4f5f-403d-c1e7-be567abd8e35"
      },
      "id": "aG7RhQMC2H86",
      "execution_count": null,
      "outputs": [
        {
          "output_type": "execute_result",
          "data": {
            "text/plain": [
              "0.1"
            ]
          },
          "metadata": {},
          "execution_count": 33
        }
      ]
    }
  ],
  "metadata": {
    "kernelspec": {
      "display_name": "Python 3 (ipykernel)",
      "language": "python",
      "name": "python3"
    },
    "language_info": {
      "codemirror_mode": {
        "name": "ipython",
        "version": 3
      },
      "file_extension": ".py",
      "mimetype": "text/x-python",
      "name": "python",
      "nbconvert_exporter": "python",
      "pygments_lexer": "ipython3",
      "version": "3.9.7"
    },
    "colab": {
      "provenance": []
    }
  },
  "nbformat": 4,
  "nbformat_minor": 5
}