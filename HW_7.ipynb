{
  "cells": [
    {
      "cell_type": "markdown",
      "id": "1a40efc0",
      "metadata": {
        "id": "1a40efc0"
      },
      "source": [
        "### В данном уроке мы выделим еще несколько потенциально важных фичей из изначального датасета и попробуем применить изученные методы отбора признаков к итоговому датасету."
      ]
    },
    {
      "cell_type": "code",
      "source": [
        "from google.colab import drive\n",
        "drive.mount('/content/drive')"
      ],
      "metadata": {
        "colab": {
          "base_uri": "https://localhost:8080/"
        },
        "id": "PdcWVxnmTz4S",
        "outputId": "8ba38f21-a7b6-4d62-883c-8c47227a2b45"
      },
      "id": "PdcWVxnmTz4S",
      "execution_count": 1,
      "outputs": [
        {
          "output_type": "stream",
          "name": "stdout",
          "text": [
            "Mounted at /content/drive\n"
          ]
        }
      ]
    },
    {
      "cell_type": "code",
      "execution_count": 2,
      "id": "1c2b72ac",
      "metadata": {
        "colab": {
          "base_uri": "https://localhost:8080/",
          "height": 235
        },
        "id": "1c2b72ac",
        "outputId": "7370e152-eac0-447a-920b-4d05bec44f39"
      },
      "outputs": [
        {
          "output_type": "execute_result",
          "data": {
            "text/plain": [
              "           vendor_id  passenger_count  store_and_fwd_flag  distance_km  \\\n",
              "id                                                                       \n",
              "id2875421          1       930.399753                   0     1.500479   \n",
              "id2377394          0       930.399753                   0     1.807119   \n",
              "id3858529          1       930.399753                   0     6.392080   \n",
              "id3504673          1       930.399753                   0     1.487155   \n",
              "id2181028          1       930.399753                   0     1.189925   \n",
              "\n",
              "           log_trip_duration  \n",
              "id                            \n",
              "id2875421           6.122493  \n",
              "id2377394           6.498282  \n",
              "id3858529           7.661527  \n",
              "id3504673           6.063785  \n",
              "id2181028           6.077642  "
            ],
            "text/html": [
              "\n",
              "  <div id=\"df-dcd04430-8f7d-4945-bff1-3f964d713238\">\n",
              "    <div class=\"colab-df-container\">\n",
              "      <div>\n",
              "<style scoped>\n",
              "    .dataframe tbody tr th:only-of-type {\n",
              "        vertical-align: middle;\n",
              "    }\n",
              "\n",
              "    .dataframe tbody tr th {\n",
              "        vertical-align: top;\n",
              "    }\n",
              "\n",
              "    .dataframe thead th {\n",
              "        text-align: right;\n",
              "    }\n",
              "</style>\n",
              "<table border=\"1\" class=\"dataframe\">\n",
              "  <thead>\n",
              "    <tr style=\"text-align: right;\">\n",
              "      <th></th>\n",
              "      <th>vendor_id</th>\n",
              "      <th>passenger_count</th>\n",
              "      <th>store_and_fwd_flag</th>\n",
              "      <th>distance_km</th>\n",
              "      <th>log_trip_duration</th>\n",
              "    </tr>\n",
              "    <tr>\n",
              "      <th>id</th>\n",
              "      <th></th>\n",
              "      <th></th>\n",
              "      <th></th>\n",
              "      <th></th>\n",
              "      <th></th>\n",
              "    </tr>\n",
              "  </thead>\n",
              "  <tbody>\n",
              "    <tr>\n",
              "      <th>id2875421</th>\n",
              "      <td>1</td>\n",
              "      <td>930.399753</td>\n",
              "      <td>0</td>\n",
              "      <td>1.500479</td>\n",
              "      <td>6.122493</td>\n",
              "    </tr>\n",
              "    <tr>\n",
              "      <th>id2377394</th>\n",
              "      <td>0</td>\n",
              "      <td>930.399753</td>\n",
              "      <td>0</td>\n",
              "      <td>1.807119</td>\n",
              "      <td>6.498282</td>\n",
              "    </tr>\n",
              "    <tr>\n",
              "      <th>id3858529</th>\n",
              "      <td>1</td>\n",
              "      <td>930.399753</td>\n",
              "      <td>0</td>\n",
              "      <td>6.392080</td>\n",
              "      <td>7.661527</td>\n",
              "    </tr>\n",
              "    <tr>\n",
              "      <th>id3504673</th>\n",
              "      <td>1</td>\n",
              "      <td>930.399753</td>\n",
              "      <td>0</td>\n",
              "      <td>1.487155</td>\n",
              "      <td>6.063785</td>\n",
              "    </tr>\n",
              "    <tr>\n",
              "      <th>id2181028</th>\n",
              "      <td>1</td>\n",
              "      <td>930.399753</td>\n",
              "      <td>0</td>\n",
              "      <td>1.189925</td>\n",
              "      <td>6.077642</td>\n",
              "    </tr>\n",
              "  </tbody>\n",
              "</table>\n",
              "</div>\n",
              "      <button class=\"colab-df-convert\" onclick=\"convertToInteractive('df-dcd04430-8f7d-4945-bff1-3f964d713238')\"\n",
              "              title=\"Convert this dataframe to an interactive table.\"\n",
              "              style=\"display:none;\">\n",
              "        \n",
              "  <svg xmlns=\"http://www.w3.org/2000/svg\" height=\"24px\"viewBox=\"0 0 24 24\"\n",
              "       width=\"24px\">\n",
              "    <path d=\"M0 0h24v24H0V0z\" fill=\"none\"/>\n",
              "    <path d=\"M18.56 5.44l.94 2.06.94-2.06 2.06-.94-2.06-.94-.94-2.06-.94 2.06-2.06.94zm-11 1L8.5 8.5l.94-2.06 2.06-.94-2.06-.94L8.5 2.5l-.94 2.06-2.06.94zm10 10l.94 2.06.94-2.06 2.06-.94-2.06-.94-.94-2.06-.94 2.06-2.06.94z\"/><path d=\"M17.41 7.96l-1.37-1.37c-.4-.4-.92-.59-1.43-.59-.52 0-1.04.2-1.43.59L10.3 9.45l-7.72 7.72c-.78.78-.78 2.05 0 2.83L4 21.41c.39.39.9.59 1.41.59.51 0 1.02-.2 1.41-.59l7.78-7.78 2.81-2.81c.8-.78.8-2.07 0-2.86zM5.41 20L4 18.59l7.72-7.72 1.47 1.35L5.41 20z\"/>\n",
              "  </svg>\n",
              "      </button>\n",
              "      \n",
              "  <style>\n",
              "    .colab-df-container {\n",
              "      display:flex;\n",
              "      flex-wrap:wrap;\n",
              "      gap: 12px;\n",
              "    }\n",
              "\n",
              "    .colab-df-convert {\n",
              "      background-color: #E8F0FE;\n",
              "      border: none;\n",
              "      border-radius: 50%;\n",
              "      cursor: pointer;\n",
              "      display: none;\n",
              "      fill: #1967D2;\n",
              "      height: 32px;\n",
              "      padding: 0 0 0 0;\n",
              "      width: 32px;\n",
              "    }\n",
              "\n",
              "    .colab-df-convert:hover {\n",
              "      background-color: #E2EBFA;\n",
              "      box-shadow: 0px 1px 2px rgba(60, 64, 67, 0.3), 0px 1px 3px 1px rgba(60, 64, 67, 0.15);\n",
              "      fill: #174EA6;\n",
              "    }\n",
              "\n",
              "    [theme=dark] .colab-df-convert {\n",
              "      background-color: #3B4455;\n",
              "      fill: #D2E3FC;\n",
              "    }\n",
              "\n",
              "    [theme=dark] .colab-df-convert:hover {\n",
              "      background-color: #434B5C;\n",
              "      box-shadow: 0px 1px 3px 1px rgba(0, 0, 0, 0.15);\n",
              "      filter: drop-shadow(0px 1px 2px rgba(0, 0, 0, 0.3));\n",
              "      fill: #FFFFFF;\n",
              "    }\n",
              "  </style>\n",
              "\n",
              "      <script>\n",
              "        const buttonEl =\n",
              "          document.querySelector('#df-dcd04430-8f7d-4945-bff1-3f964d713238 button.colab-df-convert');\n",
              "        buttonEl.style.display =\n",
              "          google.colab.kernel.accessAllowed ? 'block' : 'none';\n",
              "\n",
              "        async function convertToInteractive(key) {\n",
              "          const element = document.querySelector('#df-dcd04430-8f7d-4945-bff1-3f964d713238');\n",
              "          const dataTable =\n",
              "            await google.colab.kernel.invokeFunction('convertToInteractive',\n",
              "                                                     [key], {});\n",
              "          if (!dataTable) return;\n",
              "\n",
              "          const docLinkHtml = 'Like what you see? Visit the ' +\n",
              "            '<a target=\"_blank\" href=https://colab.research.google.com/notebooks/data_table.ipynb>data table notebook</a>'\n",
              "            + ' to learn more about interactive tables.';\n",
              "          element.innerHTML = '';\n",
              "          dataTable['output_type'] = 'display_data';\n",
              "          await google.colab.output.renderOutput(dataTable, element);\n",
              "          const docLink = document.createElement('div');\n",
              "          docLink.innerHTML = docLinkHtml;\n",
              "          element.appendChild(docLink);\n",
              "        }\n",
              "      </script>\n",
              "    </div>\n",
              "  </div>\n",
              "  "
            ]
          },
          "metadata": {},
          "execution_count": 2
        }
      ],
      "source": [
        "import numpy as np\n",
        "import pandas as pd\n",
        "\n",
        "processed_data = pd.read_csv('/content/drive/MyDrive/csv/processed_data-4.csv', index_col='id')\n",
        "\n",
        "processed_data.head()"
      ]
    },
    {
      "cell_type": "code",
      "execution_count": 3,
      "id": "98e1d22d",
      "metadata": {
        "colab": {
          "base_uri": "https://localhost:8080/",
          "height": 353
        },
        "id": "98e1d22d",
        "outputId": "c1c70965-addd-464f-f707-bc3fcdab3255"
      },
      "outputs": [
        {
          "output_type": "execute_result",
          "data": {
            "text/plain": [
              "          id  vendor_id      pickup_datetime     dropoff_datetime  \\\n",
              "0  id2875421          2  2016-03-14 17:24:55  2016-03-14 17:32:30   \n",
              "1  id2377394          1  2016-06-12 00:43:35  2016-06-12 00:54:38   \n",
              "2  id3858529          2  2016-01-19 11:35:24  2016-01-19 12:10:48   \n",
              "3  id3504673          2  2016-04-06 19:32:31  2016-04-06 19:39:40   \n",
              "4  id2181028          2  2016-03-26 13:30:55  2016-03-26 13:38:10   \n",
              "\n",
              "   passenger_count  pickup_longitude  pickup_latitude  dropoff_longitude  \\\n",
              "0                1        -73.982155        40.767937         -73.964630   \n",
              "1                1        -73.980415        40.738564         -73.999481   \n",
              "2                1        -73.979027        40.763939         -74.005333   \n",
              "3                1        -74.010040        40.719971         -74.012268   \n",
              "4                1        -73.973053        40.793209         -73.972923   \n",
              "\n",
              "   dropoff_latitude store_and_fwd_flag  \n",
              "0         40.765602                  N  \n",
              "1         40.731152                  N  \n",
              "2         40.710087                  N  \n",
              "3         40.706718                  N  \n",
              "4         40.782520                  N  "
            ],
            "text/html": [
              "\n",
              "  <div id=\"df-b2902ac0-65fd-49ba-8806-53d46381f8a8\">\n",
              "    <div class=\"colab-df-container\">\n",
              "      <div>\n",
              "<style scoped>\n",
              "    .dataframe tbody tr th:only-of-type {\n",
              "        vertical-align: middle;\n",
              "    }\n",
              "\n",
              "    .dataframe tbody tr th {\n",
              "        vertical-align: top;\n",
              "    }\n",
              "\n",
              "    .dataframe thead th {\n",
              "        text-align: right;\n",
              "    }\n",
              "</style>\n",
              "<table border=\"1\" class=\"dataframe\">\n",
              "  <thead>\n",
              "    <tr style=\"text-align: right;\">\n",
              "      <th></th>\n",
              "      <th>id</th>\n",
              "      <th>vendor_id</th>\n",
              "      <th>pickup_datetime</th>\n",
              "      <th>dropoff_datetime</th>\n",
              "      <th>passenger_count</th>\n",
              "      <th>pickup_longitude</th>\n",
              "      <th>pickup_latitude</th>\n",
              "      <th>dropoff_longitude</th>\n",
              "      <th>dropoff_latitude</th>\n",
              "      <th>store_and_fwd_flag</th>\n",
              "    </tr>\n",
              "  </thead>\n",
              "  <tbody>\n",
              "    <tr>\n",
              "      <th>0</th>\n",
              "      <td>id2875421</td>\n",
              "      <td>2</td>\n",
              "      <td>2016-03-14 17:24:55</td>\n",
              "      <td>2016-03-14 17:32:30</td>\n",
              "      <td>1</td>\n",
              "      <td>-73.982155</td>\n",
              "      <td>40.767937</td>\n",
              "      <td>-73.964630</td>\n",
              "      <td>40.765602</td>\n",
              "      <td>N</td>\n",
              "    </tr>\n",
              "    <tr>\n",
              "      <th>1</th>\n",
              "      <td>id2377394</td>\n",
              "      <td>1</td>\n",
              "      <td>2016-06-12 00:43:35</td>\n",
              "      <td>2016-06-12 00:54:38</td>\n",
              "      <td>1</td>\n",
              "      <td>-73.980415</td>\n",
              "      <td>40.738564</td>\n",
              "      <td>-73.999481</td>\n",
              "      <td>40.731152</td>\n",
              "      <td>N</td>\n",
              "    </tr>\n",
              "    <tr>\n",
              "      <th>2</th>\n",
              "      <td>id3858529</td>\n",
              "      <td>2</td>\n",
              "      <td>2016-01-19 11:35:24</td>\n",
              "      <td>2016-01-19 12:10:48</td>\n",
              "      <td>1</td>\n",
              "      <td>-73.979027</td>\n",
              "      <td>40.763939</td>\n",
              "      <td>-74.005333</td>\n",
              "      <td>40.710087</td>\n",
              "      <td>N</td>\n",
              "    </tr>\n",
              "    <tr>\n",
              "      <th>3</th>\n",
              "      <td>id3504673</td>\n",
              "      <td>2</td>\n",
              "      <td>2016-04-06 19:32:31</td>\n",
              "      <td>2016-04-06 19:39:40</td>\n",
              "      <td>1</td>\n",
              "      <td>-74.010040</td>\n",
              "      <td>40.719971</td>\n",
              "      <td>-74.012268</td>\n",
              "      <td>40.706718</td>\n",
              "      <td>N</td>\n",
              "    </tr>\n",
              "    <tr>\n",
              "      <th>4</th>\n",
              "      <td>id2181028</td>\n",
              "      <td>2</td>\n",
              "      <td>2016-03-26 13:30:55</td>\n",
              "      <td>2016-03-26 13:38:10</td>\n",
              "      <td>1</td>\n",
              "      <td>-73.973053</td>\n",
              "      <td>40.793209</td>\n",
              "      <td>-73.972923</td>\n",
              "      <td>40.782520</td>\n",
              "      <td>N</td>\n",
              "    </tr>\n",
              "  </tbody>\n",
              "</table>\n",
              "</div>\n",
              "      <button class=\"colab-df-convert\" onclick=\"convertToInteractive('df-b2902ac0-65fd-49ba-8806-53d46381f8a8')\"\n",
              "              title=\"Convert this dataframe to an interactive table.\"\n",
              "              style=\"display:none;\">\n",
              "        \n",
              "  <svg xmlns=\"http://www.w3.org/2000/svg\" height=\"24px\"viewBox=\"0 0 24 24\"\n",
              "       width=\"24px\">\n",
              "    <path d=\"M0 0h24v24H0V0z\" fill=\"none\"/>\n",
              "    <path d=\"M18.56 5.44l.94 2.06.94-2.06 2.06-.94-2.06-.94-.94-2.06-.94 2.06-2.06.94zm-11 1L8.5 8.5l.94-2.06 2.06-.94-2.06-.94L8.5 2.5l-.94 2.06-2.06.94zm10 10l.94 2.06.94-2.06 2.06-.94-2.06-.94-.94-2.06-.94 2.06-2.06.94z\"/><path d=\"M17.41 7.96l-1.37-1.37c-.4-.4-.92-.59-1.43-.59-.52 0-1.04.2-1.43.59L10.3 9.45l-7.72 7.72c-.78.78-.78 2.05 0 2.83L4 21.41c.39.39.9.59 1.41.59.51 0 1.02-.2 1.41-.59l7.78-7.78 2.81-2.81c.8-.78.8-2.07 0-2.86zM5.41 20L4 18.59l7.72-7.72 1.47 1.35L5.41 20z\"/>\n",
              "  </svg>\n",
              "      </button>\n",
              "      \n",
              "  <style>\n",
              "    .colab-df-container {\n",
              "      display:flex;\n",
              "      flex-wrap:wrap;\n",
              "      gap: 12px;\n",
              "    }\n",
              "\n",
              "    .colab-df-convert {\n",
              "      background-color: #E8F0FE;\n",
              "      border: none;\n",
              "      border-radius: 50%;\n",
              "      cursor: pointer;\n",
              "      display: none;\n",
              "      fill: #1967D2;\n",
              "      height: 32px;\n",
              "      padding: 0 0 0 0;\n",
              "      width: 32px;\n",
              "    }\n",
              "\n",
              "    .colab-df-convert:hover {\n",
              "      background-color: #E2EBFA;\n",
              "      box-shadow: 0px 1px 2px rgba(60, 64, 67, 0.3), 0px 1px 3px 1px rgba(60, 64, 67, 0.15);\n",
              "      fill: #174EA6;\n",
              "    }\n",
              "\n",
              "    [theme=dark] .colab-df-convert {\n",
              "      background-color: #3B4455;\n",
              "      fill: #D2E3FC;\n",
              "    }\n",
              "\n",
              "    [theme=dark] .colab-df-convert:hover {\n",
              "      background-color: #434B5C;\n",
              "      box-shadow: 0px 1px 3px 1px rgba(0, 0, 0, 0.15);\n",
              "      filter: drop-shadow(0px 1px 2px rgba(0, 0, 0, 0.3));\n",
              "      fill: #FFFFFF;\n",
              "    }\n",
              "  </style>\n",
              "\n",
              "      <script>\n",
              "        const buttonEl =\n",
              "          document.querySelector('#df-b2902ac0-65fd-49ba-8806-53d46381f8a8 button.colab-df-convert');\n",
              "        buttonEl.style.display =\n",
              "          google.colab.kernel.accessAllowed ? 'block' : 'none';\n",
              "\n",
              "        async function convertToInteractive(key) {\n",
              "          const element = document.querySelector('#df-b2902ac0-65fd-49ba-8806-53d46381f8a8');\n",
              "          const dataTable =\n",
              "            await google.colab.kernel.invokeFunction('convertToInteractive',\n",
              "                                                     [key], {});\n",
              "          if (!dataTable) return;\n",
              "\n",
              "          const docLinkHtml = 'Like what you see? Visit the ' +\n",
              "            '<a target=\"_blank\" href=https://colab.research.google.com/notebooks/data_table.ipynb>data table notebook</a>'\n",
              "            + ' to learn more about interactive tables.';\n",
              "          element.innerHTML = '';\n",
              "          dataTable['output_type'] = 'display_data';\n",
              "          await google.colab.output.renderOutput(dataTable, element);\n",
              "          const docLink = document.createElement('div');\n",
              "          docLink.innerHTML = docLinkHtml;\n",
              "          element.appendChild(docLink);\n",
              "        }\n",
              "      </script>\n",
              "    </div>\n",
              "  </div>\n",
              "  "
            ]
          },
          "metadata": {},
          "execution_count": 3
        }
      ],
      "source": [
        "initial_data = pd.read_csv('/content/drive/MyDrive/csv/taxi_dataset.csv')\n",
        "\n",
        "initial_data.head()"
      ]
    },
    {
      "cell_type": "code",
      "execution_count": 4,
      "id": "e7b57453",
      "metadata": {
        "colab": {
          "base_uri": "https://localhost:8080/"
        },
        "id": "e7b57453",
        "outputId": "2740b704-eaa0-43d6-de32-fd370ab9c342"
      },
      "outputs": [
        {
          "output_type": "execute_result",
          "data": {
            "text/plain": [
              "True"
            ]
          },
          "metadata": {},
          "execution_count": 4
        }
      ],
      "source": [
        "initial_data.shape[0] == processed_data.shape[0]"
      ]
    },
    {
      "cell_type": "code",
      "execution_count": 5,
      "id": "ab7ef9d7",
      "metadata": {
        "id": "ab7ef9d7"
      },
      "outputs": [],
      "source": [
        "### Вернем в датасет колонку pickup_datetime\n",
        "\n",
        "initial_data = initial_data.set_index('id')\n",
        "\n",
        "processed_data = pd.merge(processed_data, initial_data['pickup_datetime'],\n",
        "                          left_index=True, right_index=True)"
      ]
    },
    {
      "cell_type": "code",
      "source": [],
      "metadata": {
        "id": "5Vdvwe6VfMWm"
      },
      "id": "5Vdvwe6VfMWm",
      "execution_count": 5,
      "outputs": []
    },
    {
      "cell_type": "code",
      "execution_count": 6,
      "id": "71718ddd",
      "metadata": {
        "colab": {
          "base_uri": "https://localhost:8080/",
          "height": 235
        },
        "id": "71718ddd",
        "outputId": "3162323a-0cae-48af-8c6e-f9747799c519"
      },
      "outputs": [
        {
          "output_type": "execute_result",
          "data": {
            "text/plain": [
              "           vendor_id  passenger_count  store_and_fwd_flag  distance_km  \\\n",
              "id                                                                       \n",
              "id2875421          1       930.399753                   0     1.500479   \n",
              "id2377394          0       930.399753                   0     1.807119   \n",
              "id3858529          1       930.399753                   0     6.392080   \n",
              "id3504673          1       930.399753                   0     1.487155   \n",
              "id2181028          1       930.399753                   0     1.189925   \n",
              "\n",
              "           log_trip_duration      pickup_datetime  \n",
              "id                                                 \n",
              "id2875421           6.122493  2016-03-14 17:24:55  \n",
              "id2377394           6.498282  2016-06-12 00:43:35  \n",
              "id3858529           7.661527  2016-01-19 11:35:24  \n",
              "id3504673           6.063785  2016-04-06 19:32:31  \n",
              "id2181028           6.077642  2016-03-26 13:30:55  "
            ],
            "text/html": [
              "\n",
              "  <div id=\"df-0b476268-daf4-4b18-abe4-4b3a14243adb\">\n",
              "    <div class=\"colab-df-container\">\n",
              "      <div>\n",
              "<style scoped>\n",
              "    .dataframe tbody tr th:only-of-type {\n",
              "        vertical-align: middle;\n",
              "    }\n",
              "\n",
              "    .dataframe tbody tr th {\n",
              "        vertical-align: top;\n",
              "    }\n",
              "\n",
              "    .dataframe thead th {\n",
              "        text-align: right;\n",
              "    }\n",
              "</style>\n",
              "<table border=\"1\" class=\"dataframe\">\n",
              "  <thead>\n",
              "    <tr style=\"text-align: right;\">\n",
              "      <th></th>\n",
              "      <th>vendor_id</th>\n",
              "      <th>passenger_count</th>\n",
              "      <th>store_and_fwd_flag</th>\n",
              "      <th>distance_km</th>\n",
              "      <th>log_trip_duration</th>\n",
              "      <th>pickup_datetime</th>\n",
              "    </tr>\n",
              "    <tr>\n",
              "      <th>id</th>\n",
              "      <th></th>\n",
              "      <th></th>\n",
              "      <th></th>\n",
              "      <th></th>\n",
              "      <th></th>\n",
              "      <th></th>\n",
              "    </tr>\n",
              "  </thead>\n",
              "  <tbody>\n",
              "    <tr>\n",
              "      <th>id2875421</th>\n",
              "      <td>1</td>\n",
              "      <td>930.399753</td>\n",
              "      <td>0</td>\n",
              "      <td>1.500479</td>\n",
              "      <td>6.122493</td>\n",
              "      <td>2016-03-14 17:24:55</td>\n",
              "    </tr>\n",
              "    <tr>\n",
              "      <th>id2377394</th>\n",
              "      <td>0</td>\n",
              "      <td>930.399753</td>\n",
              "      <td>0</td>\n",
              "      <td>1.807119</td>\n",
              "      <td>6.498282</td>\n",
              "      <td>2016-06-12 00:43:35</td>\n",
              "    </tr>\n",
              "    <tr>\n",
              "      <th>id3858529</th>\n",
              "      <td>1</td>\n",
              "      <td>930.399753</td>\n",
              "      <td>0</td>\n",
              "      <td>6.392080</td>\n",
              "      <td>7.661527</td>\n",
              "      <td>2016-01-19 11:35:24</td>\n",
              "    </tr>\n",
              "    <tr>\n",
              "      <th>id3504673</th>\n",
              "      <td>1</td>\n",
              "      <td>930.399753</td>\n",
              "      <td>0</td>\n",
              "      <td>1.487155</td>\n",
              "      <td>6.063785</td>\n",
              "      <td>2016-04-06 19:32:31</td>\n",
              "    </tr>\n",
              "    <tr>\n",
              "      <th>id2181028</th>\n",
              "      <td>1</td>\n",
              "      <td>930.399753</td>\n",
              "      <td>0</td>\n",
              "      <td>1.189925</td>\n",
              "      <td>6.077642</td>\n",
              "      <td>2016-03-26 13:30:55</td>\n",
              "    </tr>\n",
              "  </tbody>\n",
              "</table>\n",
              "</div>\n",
              "      <button class=\"colab-df-convert\" onclick=\"convertToInteractive('df-0b476268-daf4-4b18-abe4-4b3a14243adb')\"\n",
              "              title=\"Convert this dataframe to an interactive table.\"\n",
              "              style=\"display:none;\">\n",
              "        \n",
              "  <svg xmlns=\"http://www.w3.org/2000/svg\" height=\"24px\"viewBox=\"0 0 24 24\"\n",
              "       width=\"24px\">\n",
              "    <path d=\"M0 0h24v24H0V0z\" fill=\"none\"/>\n",
              "    <path d=\"M18.56 5.44l.94 2.06.94-2.06 2.06-.94-2.06-.94-.94-2.06-.94 2.06-2.06.94zm-11 1L8.5 8.5l.94-2.06 2.06-.94-2.06-.94L8.5 2.5l-.94 2.06-2.06.94zm10 10l.94 2.06.94-2.06 2.06-.94-2.06-.94-.94-2.06-.94 2.06-2.06.94z\"/><path d=\"M17.41 7.96l-1.37-1.37c-.4-.4-.92-.59-1.43-.59-.52 0-1.04.2-1.43.59L10.3 9.45l-7.72 7.72c-.78.78-.78 2.05 0 2.83L4 21.41c.39.39.9.59 1.41.59.51 0 1.02-.2 1.41-.59l7.78-7.78 2.81-2.81c.8-.78.8-2.07 0-2.86zM5.41 20L4 18.59l7.72-7.72 1.47 1.35L5.41 20z\"/>\n",
              "  </svg>\n",
              "      </button>\n",
              "      \n",
              "  <style>\n",
              "    .colab-df-container {\n",
              "      display:flex;\n",
              "      flex-wrap:wrap;\n",
              "      gap: 12px;\n",
              "    }\n",
              "\n",
              "    .colab-df-convert {\n",
              "      background-color: #E8F0FE;\n",
              "      border: none;\n",
              "      border-radius: 50%;\n",
              "      cursor: pointer;\n",
              "      display: none;\n",
              "      fill: #1967D2;\n",
              "      height: 32px;\n",
              "      padding: 0 0 0 0;\n",
              "      width: 32px;\n",
              "    }\n",
              "\n",
              "    .colab-df-convert:hover {\n",
              "      background-color: #E2EBFA;\n",
              "      box-shadow: 0px 1px 2px rgba(60, 64, 67, 0.3), 0px 1px 3px 1px rgba(60, 64, 67, 0.15);\n",
              "      fill: #174EA6;\n",
              "    }\n",
              "\n",
              "    [theme=dark] .colab-df-convert {\n",
              "      background-color: #3B4455;\n",
              "      fill: #D2E3FC;\n",
              "    }\n",
              "\n",
              "    [theme=dark] .colab-df-convert:hover {\n",
              "      background-color: #434B5C;\n",
              "      box-shadow: 0px 1px 3px 1px rgba(0, 0, 0, 0.15);\n",
              "      filter: drop-shadow(0px 1px 2px rgba(0, 0, 0, 0.3));\n",
              "      fill: #FFFFFF;\n",
              "    }\n",
              "  </style>\n",
              "\n",
              "      <script>\n",
              "        const buttonEl =\n",
              "          document.querySelector('#df-0b476268-daf4-4b18-abe4-4b3a14243adb button.colab-df-convert');\n",
              "        buttonEl.style.display =\n",
              "          google.colab.kernel.accessAllowed ? 'block' : 'none';\n",
              "\n",
              "        async function convertToInteractive(key) {\n",
              "          const element = document.querySelector('#df-0b476268-daf4-4b18-abe4-4b3a14243adb');\n",
              "          const dataTable =\n",
              "            await google.colab.kernel.invokeFunction('convertToInteractive',\n",
              "                                                     [key], {});\n",
              "          if (!dataTable) return;\n",
              "\n",
              "          const docLinkHtml = 'Like what you see? Visit the ' +\n",
              "            '<a target=\"_blank\" href=https://colab.research.google.com/notebooks/data_table.ipynb>data table notebook</a>'\n",
              "            + ' to learn more about interactive tables.';\n",
              "          element.innerHTML = '';\n",
              "          dataTable['output_type'] = 'display_data';\n",
              "          await google.colab.output.renderOutput(dataTable, element);\n",
              "          const docLink = document.createElement('div');\n",
              "          docLink.innerHTML = docLinkHtml;\n",
              "          element.appendChild(docLink);\n",
              "        }\n",
              "      </script>\n",
              "    </div>\n",
              "  </div>\n",
              "  "
            ]
          },
          "metadata": {},
          "execution_count": 6
        }
      ],
      "source": [
        "processed_data.head()"
      ]
    },
    {
      "cell_type": "markdown",
      "id": "8584e7c2",
      "metadata": {
        "id": "8584e7c2"
      },
      "source": [
        "Напомним, **pickup_datetime** - время начала поездки.\n",
        "\n",
        "Кажется, что в зависимости от месяца/дня недели/времени суток движение на дорогах может отличаться. Как из-за погодных условий, так и из-за загруженности транспорта. Поэтому, есть подозрение, что будет полезно выделить ряд признаков из колонки **pickup_datetime**. Давайте исследуем зависимость нашей таргетной переменной от указанных факторов."
      ]
    },
    {
      "cell_type": "code",
      "execution_count": 7,
      "id": "be3da956",
      "metadata": {
        "id": "be3da956"
      },
      "outputs": [],
      "source": [
        "processed_data['pickup_datetime'] = pd.to_datetime(processed_data['pickup_datetime'])\n",
        "\n",
        "processed_data['date'] = processed_data.pickup_datetime.dt.date\n",
        "processed_data['day_of_week'] = processed_data.pickup_datetime.dt.dayofweek\n",
        "processed_data['hour'] = processed_data.pickup_datetime.dt.hour\n",
        "processed_data['month'] = processed_data.pickup_datetime.dt.month"
      ]
    },
    {
      "cell_type": "code",
      "execution_count": 8,
      "id": "df01fb66",
      "metadata": {
        "colab": {
          "base_uri": "https://localhost:8080/",
          "height": 235
        },
        "id": "df01fb66",
        "outputId": "46a3c283-8d45-4abb-a5cd-805da8f0aad0"
      },
      "outputs": [
        {
          "output_type": "execute_result",
          "data": {
            "text/plain": [
              "           vendor_id  passenger_count  store_and_fwd_flag  distance_km  \\\n",
              "id                                                                       \n",
              "id2875421          1       930.399753                   0     1.500479   \n",
              "id2377394          0       930.399753                   0     1.807119   \n",
              "id3858529          1       930.399753                   0     6.392080   \n",
              "id3504673          1       930.399753                   0     1.487155   \n",
              "id2181028          1       930.399753                   0     1.189925   \n",
              "\n",
              "           log_trip_duration     pickup_datetime        date  day_of_week  \\\n",
              "id                                                                          \n",
              "id2875421           6.122493 2016-03-14 17:24:55  2016-03-14            0   \n",
              "id2377394           6.498282 2016-06-12 00:43:35  2016-06-12            6   \n",
              "id3858529           7.661527 2016-01-19 11:35:24  2016-01-19            1   \n",
              "id3504673           6.063785 2016-04-06 19:32:31  2016-04-06            2   \n",
              "id2181028           6.077642 2016-03-26 13:30:55  2016-03-26            5   \n",
              "\n",
              "           hour  month  \n",
              "id                      \n",
              "id2875421    17      3  \n",
              "id2377394     0      6  \n",
              "id3858529    11      1  \n",
              "id3504673    19      4  \n",
              "id2181028    13      3  "
            ],
            "text/html": [
              "\n",
              "  <div id=\"df-2243f47f-7b86-43d8-8461-b83558c20ca2\">\n",
              "    <div class=\"colab-df-container\">\n",
              "      <div>\n",
              "<style scoped>\n",
              "    .dataframe tbody tr th:only-of-type {\n",
              "        vertical-align: middle;\n",
              "    }\n",
              "\n",
              "    .dataframe tbody tr th {\n",
              "        vertical-align: top;\n",
              "    }\n",
              "\n",
              "    .dataframe thead th {\n",
              "        text-align: right;\n",
              "    }\n",
              "</style>\n",
              "<table border=\"1\" class=\"dataframe\">\n",
              "  <thead>\n",
              "    <tr style=\"text-align: right;\">\n",
              "      <th></th>\n",
              "      <th>vendor_id</th>\n",
              "      <th>passenger_count</th>\n",
              "      <th>store_and_fwd_flag</th>\n",
              "      <th>distance_km</th>\n",
              "      <th>log_trip_duration</th>\n",
              "      <th>pickup_datetime</th>\n",
              "      <th>date</th>\n",
              "      <th>day_of_week</th>\n",
              "      <th>hour</th>\n",
              "      <th>month</th>\n",
              "    </tr>\n",
              "    <tr>\n",
              "      <th>id</th>\n",
              "      <th></th>\n",
              "      <th></th>\n",
              "      <th></th>\n",
              "      <th></th>\n",
              "      <th></th>\n",
              "      <th></th>\n",
              "      <th></th>\n",
              "      <th></th>\n",
              "      <th></th>\n",
              "      <th></th>\n",
              "    </tr>\n",
              "  </thead>\n",
              "  <tbody>\n",
              "    <tr>\n",
              "      <th>id2875421</th>\n",
              "      <td>1</td>\n",
              "      <td>930.399753</td>\n",
              "      <td>0</td>\n",
              "      <td>1.500479</td>\n",
              "      <td>6.122493</td>\n",
              "      <td>2016-03-14 17:24:55</td>\n",
              "      <td>2016-03-14</td>\n",
              "      <td>0</td>\n",
              "      <td>17</td>\n",
              "      <td>3</td>\n",
              "    </tr>\n",
              "    <tr>\n",
              "      <th>id2377394</th>\n",
              "      <td>0</td>\n",
              "      <td>930.399753</td>\n",
              "      <td>0</td>\n",
              "      <td>1.807119</td>\n",
              "      <td>6.498282</td>\n",
              "      <td>2016-06-12 00:43:35</td>\n",
              "      <td>2016-06-12</td>\n",
              "      <td>6</td>\n",
              "      <td>0</td>\n",
              "      <td>6</td>\n",
              "    </tr>\n",
              "    <tr>\n",
              "      <th>id3858529</th>\n",
              "      <td>1</td>\n",
              "      <td>930.399753</td>\n",
              "      <td>0</td>\n",
              "      <td>6.392080</td>\n",
              "      <td>7.661527</td>\n",
              "      <td>2016-01-19 11:35:24</td>\n",
              "      <td>2016-01-19</td>\n",
              "      <td>1</td>\n",
              "      <td>11</td>\n",
              "      <td>1</td>\n",
              "    </tr>\n",
              "    <tr>\n",
              "      <th>id3504673</th>\n",
              "      <td>1</td>\n",
              "      <td>930.399753</td>\n",
              "      <td>0</td>\n",
              "      <td>1.487155</td>\n",
              "      <td>6.063785</td>\n",
              "      <td>2016-04-06 19:32:31</td>\n",
              "      <td>2016-04-06</td>\n",
              "      <td>2</td>\n",
              "      <td>19</td>\n",
              "      <td>4</td>\n",
              "    </tr>\n",
              "    <tr>\n",
              "      <th>id2181028</th>\n",
              "      <td>1</td>\n",
              "      <td>930.399753</td>\n",
              "      <td>0</td>\n",
              "      <td>1.189925</td>\n",
              "      <td>6.077642</td>\n",
              "      <td>2016-03-26 13:30:55</td>\n",
              "      <td>2016-03-26</td>\n",
              "      <td>5</td>\n",
              "      <td>13</td>\n",
              "      <td>3</td>\n",
              "    </tr>\n",
              "  </tbody>\n",
              "</table>\n",
              "</div>\n",
              "      <button class=\"colab-df-convert\" onclick=\"convertToInteractive('df-2243f47f-7b86-43d8-8461-b83558c20ca2')\"\n",
              "              title=\"Convert this dataframe to an interactive table.\"\n",
              "              style=\"display:none;\">\n",
              "        \n",
              "  <svg xmlns=\"http://www.w3.org/2000/svg\" height=\"24px\"viewBox=\"0 0 24 24\"\n",
              "       width=\"24px\">\n",
              "    <path d=\"M0 0h24v24H0V0z\" fill=\"none\"/>\n",
              "    <path d=\"M18.56 5.44l.94 2.06.94-2.06 2.06-.94-2.06-.94-.94-2.06-.94 2.06-2.06.94zm-11 1L8.5 8.5l.94-2.06 2.06-.94-2.06-.94L8.5 2.5l-.94 2.06-2.06.94zm10 10l.94 2.06.94-2.06 2.06-.94-2.06-.94-.94-2.06-.94 2.06-2.06.94z\"/><path d=\"M17.41 7.96l-1.37-1.37c-.4-.4-.92-.59-1.43-.59-.52 0-1.04.2-1.43.59L10.3 9.45l-7.72 7.72c-.78.78-.78 2.05 0 2.83L4 21.41c.39.39.9.59 1.41.59.51 0 1.02-.2 1.41-.59l7.78-7.78 2.81-2.81c.8-.78.8-2.07 0-2.86zM5.41 20L4 18.59l7.72-7.72 1.47 1.35L5.41 20z\"/>\n",
              "  </svg>\n",
              "      </button>\n",
              "      \n",
              "  <style>\n",
              "    .colab-df-container {\n",
              "      display:flex;\n",
              "      flex-wrap:wrap;\n",
              "      gap: 12px;\n",
              "    }\n",
              "\n",
              "    .colab-df-convert {\n",
              "      background-color: #E8F0FE;\n",
              "      border: none;\n",
              "      border-radius: 50%;\n",
              "      cursor: pointer;\n",
              "      display: none;\n",
              "      fill: #1967D2;\n",
              "      height: 32px;\n",
              "      padding: 0 0 0 0;\n",
              "      width: 32px;\n",
              "    }\n",
              "\n",
              "    .colab-df-convert:hover {\n",
              "      background-color: #E2EBFA;\n",
              "      box-shadow: 0px 1px 2px rgba(60, 64, 67, 0.3), 0px 1px 3px 1px rgba(60, 64, 67, 0.15);\n",
              "      fill: #174EA6;\n",
              "    }\n",
              "\n",
              "    [theme=dark] .colab-df-convert {\n",
              "      background-color: #3B4455;\n",
              "      fill: #D2E3FC;\n",
              "    }\n",
              "\n",
              "    [theme=dark] .colab-df-convert:hover {\n",
              "      background-color: #434B5C;\n",
              "      box-shadow: 0px 1px 3px 1px rgba(0, 0, 0, 0.15);\n",
              "      filter: drop-shadow(0px 1px 2px rgba(0, 0, 0, 0.3));\n",
              "      fill: #FFFFFF;\n",
              "    }\n",
              "  </style>\n",
              "\n",
              "      <script>\n",
              "        const buttonEl =\n",
              "          document.querySelector('#df-2243f47f-7b86-43d8-8461-b83558c20ca2 button.colab-df-convert');\n",
              "        buttonEl.style.display =\n",
              "          google.colab.kernel.accessAllowed ? 'block' : 'none';\n",
              "\n",
              "        async function convertToInteractive(key) {\n",
              "          const element = document.querySelector('#df-2243f47f-7b86-43d8-8461-b83558c20ca2');\n",
              "          const dataTable =\n",
              "            await google.colab.kernel.invokeFunction('convertToInteractive',\n",
              "                                                     [key], {});\n",
              "          if (!dataTable) return;\n",
              "\n",
              "          const docLinkHtml = 'Like what you see? Visit the ' +\n",
              "            '<a target=\"_blank\" href=https://colab.research.google.com/notebooks/data_table.ipynb>data table notebook</a>'\n",
              "            + ' to learn more about interactive tables.';\n",
              "          element.innerHTML = '';\n",
              "          dataTable['output_type'] = 'display_data';\n",
              "          await google.colab.output.renderOutput(dataTable, element);\n",
              "          const docLink = document.createElement('div');\n",
              "          docLink.innerHTML = docLinkHtml;\n",
              "          element.appendChild(docLink);\n",
              "        }\n",
              "      </script>\n",
              "    </div>\n",
              "  </div>\n",
              "  "
            ]
          },
          "metadata": {},
          "execution_count": 8
        }
      ],
      "source": [
        "processed_data.head()"
      ]
    },
    {
      "cell_type": "code",
      "source": [],
      "metadata": {
        "id": "YYh7XvIj8B4q"
      },
      "id": "YYh7XvIj8B4q",
      "execution_count": 8,
      "outputs": []
    },
    {
      "cell_type": "code",
      "source": [
        "mean_for_day = processed_data.groupby([\"month\",\"day_of_week\"])[\"log_trip_duration\"].mean()\n",
        "s= []\n",
        "for i in processed_data[\"month\"].unique():\n",
        "  sum = 0\n",
        "  for j in processed_data[\"day_of_week\"].unique():\n",
        "    sum += mean_for_day[i,j]\n",
        "  s.append(sum/7)\n",
        "\n",
        "s"
      ],
      "metadata": {
        "colab": {
          "base_uri": "https://localhost:8080/"
        },
        "id": "3zo_Qqdcdi6h",
        "outputId": "2855b22b-3ac2-40a7-a2cd-9517a2a1bec9"
      },
      "id": "3zo_Qqdcdi6h",
      "execution_count": 9,
      "outputs": [
        {
          "output_type": "execute_result",
          "data": {
            "text/plain": [
              "[6.4467694710347825,\n",
              " 6.511301696663935,\n",
              " 6.420208091416461,\n",
              " 6.480458968347699,\n",
              " 6.509189076158315,\n",
              " 6.423008873560799]"
            ]
          },
          "metadata": {},
          "execution_count": 9
        }
      ]
    },
    {
      "cell_type": "markdown",
      "id": "558e6a9c",
      "metadata": {
        "id": "558e6a9c"
      },
      "source": [
        "Исследуем, когда и сколько поездок было совершено. \n",
        "\n",
        "Начнем с графиков, показывающих количество поездок в зависимости от времени суток/даты и т.д.\n",
        "\n",
        "Так же полезно сразу показать и среднее значение таргетной переменной."
      ]
    },
    {
      "cell_type": "code",
      "execution_count": 10,
      "id": "7228773f",
      "metadata": {
        "colab": {
          "base_uri": "https://localhost:8080/",
          "height": 741
        },
        "id": "7228773f",
        "outputId": "d6eaefc8-6117-44eb-ab3a-4ba02a481880"
      },
      "outputs": [
        {
          "output_type": "display_data",
          "data": {
            "text/plain": [
              "<Figure size 1152x720 with 2 Axes>"
            ],
            "image/png": "[encoded data removed]"
          },
          "metadata": {
            "needs_background": "light"
          }
        }
      ],
      "source": [
        "import matplotlib.pyplot as plt\n",
        "\n",
        "fig = plt.figure()\n",
        "\n",
        "fig.set_size_inches(16, 10)\n",
        "\n",
        "ax_1 = fig.add_subplot(1, 2, 1)\n",
        "plt.hist(processed_data['date'], bins=processed_data.date.unique().shape[0])\n",
        "plt.ylim((4000, 10000))\n",
        "\n",
        "ax_2 = fig.add_subplot(1, 2, 2)\n",
        "plt.bar(sorted(list(processed_data['date'].unique())), \n",
        "        processed_data.groupby('date', as_index=False)['log_trip_duration'].mean()['log_trip_duration'],\n",
        "        width=1)\n",
        "plt.ylim((6, 7))\n",
        "\n",
        "fig.tight_layout()\n",
        "\n",
        "ax_1.set(title = 'Количество поездок по датам')\n",
        "ax_2.set(title = 'Средняя логарифмированная продолжительность поездок по датам')\n",
        "\n",
        "plt.show()"
      ]
    },
    {
      "cell_type": "code",
      "source": [
        "processed_data.groupby('date', as_index=False)['log_trip_duration'].count()['log_trip_duration'].sort_values()"
      ],
      "metadata": {
        "colab": {
          "base_uri": "https://localhost:8080/"
        },
        "id": "2o0VGVDE8pQX",
        "outputId": "78a662db-c3cb-4aca-c44c-ae5433593888"
      },
      "id": "2o0VGVDE8pQX",
      "execution_count": 11,
      "outputs": [
        {
          "output_type": "execute_result",
          "data": {
            "text/plain": [
              "22     1648\n",
              "23     3383\n",
              "150    5570\n",
              "24     6084\n",
              "2      6353\n",
              "       ... \n",
              "43     9309\n",
              "92     9325\n",
              "64     9597\n",
              "106    9602\n",
              "99     9796\n",
              "Name: log_trip_duration, Length: 182, dtype: int64"
            ]
          },
          "metadata": {},
          "execution_count": 11
        }
      ]
    },
    {
      "cell_type": "markdown",
      "id": "b34f8ab1",
      "metadata": {
        "id": "b34f8ab1"
      },
      "source": [
        "Кажется, что внутри недели есть некоторая зависимость таргета от дня недели. \n",
        "\n",
        "Такая же зависимость может оказаться и внутри дня (в завимости от часов).\n",
        "\n",
        "Предлагаю исследовать эту зависимость подробнее.\n",
        "\n",
        "Изобразите следующие графики зависимостей:\n",
        "\n",
        "- Количество поездок/Средняя продолжительность поездки vs День недели\n",
        "- Количество поездок/Средняя продолжительность поездки vs время суток\n",
        "- Средняя продолжительность поездки vs время суток для каждого дня недели (например, нарисовав с разными цветами и, соответственно, легендами)\n",
        "- Аналогичные графики, используя информацию о месяце, внутри которого была совершена поездка.\n",
        "- Ящики с усами для различных: времени суток, дня недели, месяца\n",
        "\n",
        "Используйте любые доступные инструменты pyplot!\n",
        "\n",
        "Далее, на основе полученных результатов, мы будем принимать решение о создании новых признаков.\n",
        "\n",
        "EDA можно использовать не только для того, чтобы понять, какие фичи можно убрать из датасета. Но и для выделения базовых признаков. Этим и займемся!\n",
        "\n",
        "P.S. Сами графики мы проверять у Вас не будем. Зато для ответа на устные вопросы понадобятся, поэтому, в любом случае, крайне рекомендуем поупражняться. Поэтому рисовать все графики не обязательно - ограничьтесь теми, которые помогут Вам ответить на тестовые вопросы.\n",
        "\n",
        "**Hint**: обратите внимание на сильную просадку в январе. Почему она могла произойти - можно прочитать <a href=\"https://en.wikipedia.org/wiki/January_2016_United_States_blizzard\"> здесь</a>. В будущем можно будет создать бинарный признак \"произошла ли поездка во время сильного снегопада\".\n"
      ]
    },
    {
      "cell_type": "code",
      "execution_count": 12,
      "id": "99713b2a",
      "metadata": {
        "colab": {
          "base_uri": "https://localhost:8080/",
          "height": 391
        },
        "id": "99713b2a",
        "outputId": "c3d2a2c6-c50c-4d84-e9ae-0d0e57cc2183"
      },
      "outputs": [
        {
          "output_type": "execute_result",
          "data": {
            "text/plain": [
              "<BarContainer object of 7 artists>"
            ]
          },
          "metadata": {},
          "execution_count": 12
        },
        {
          "output_type": "display_data",
          "data": {
            "text/plain": [
              "<Figure size 864x432 with 1 Axes>"
            ],
            "image/png": "[encoded data removed]"
          },
          "metadata": {
            "needs_background": "light"
          }
        }
      ],
      "source": [
        "### Your code is here\n",
        "fig = plt.figure()\n",
        "fig.set_size_inches(12,6)\n",
        "plt.bar(sorted(list(processed_data.day_of_week.unique())),processed_data.groupby('day_of_week', as_index=False)['log_trip_duration'].mean()['log_trip_duration'])\n",
        "\n",
        "\n"
      ]
    },
    {
      "cell_type": "code",
      "source": [
        "fig = plt.figure()\n",
        "fig.set_size_inches(12,6)\n",
        "plt.bar(sorted(list(processed_data.month.unique())),processed_data.groupby('month', as_index=False)['log_trip_duration'].mean()['log_trip_duration'])"
      ],
      "metadata": {
        "colab": {
          "base_uri": "https://localhost:8080/",
          "height": 391
        },
        "id": "R1Up20dJj4CV",
        "outputId": "e6579c60-e183-4caa-d592-e5245e6b7234"
      },
      "id": "R1Up20dJj4CV",
      "execution_count": 13,
      "outputs": [
        {
          "output_type": "execute_result",
          "data": {
            "text/plain": [
              "<BarContainer object of 6 artists>"
            ]
          },
          "metadata": {},
          "execution_count": 13
        },
        {
          "output_type": "display_data",
          "data": {
            "text/plain": [
              "<Figure size 864x432 with 1 Axes>"
            ],
            "image/png": "[encoded data removed]"
          },
          "metadata": {
            "needs_background": "light"
          }
        }
      ]
    },
    {
      "cell_type": "code",
      "source": [
        "fig = plt.figure()\n",
        "fig.set_size_inches(12,6)\n",
        "plt.bar(sorted(list(processed_data.hour.unique())),processed_data.groupby('hour', as_index=False)['log_trip_duration'].mean()['log_trip_duration'])"
      ],
      "metadata": {
        "colab": {
          "base_uri": "https://localhost:8080/",
          "height": 391
        },
        "id": "_P0kvFNFkIB0",
        "outputId": "682616cb-b008-4d9a-81cb-e192555c169e"
      },
      "id": "_P0kvFNFkIB0",
      "execution_count": 14,
      "outputs": [
        {
          "output_type": "execute_result",
          "data": {
            "text/plain": [
              "<BarContainer object of 24 artists>"
            ]
          },
          "metadata": {},
          "execution_count": 14
        },
        {
          "output_type": "display_data",
          "data": {
            "text/plain": [
              "<Figure size 864x432 with 1 Axes>"
            ],
            "image/png": "[encoded data removed]"
          },
          "metadata": {
            "needs_background": "light"
          }
        }
      ]
    },
    {
      "cell_type": "code",
      "source": [
        "fig = plt.figure()\n",
        "fig.set_size_inches(12,6)\n",
        "plt.boxplot(processed_data.log_trip_duration)"
      ],
      "metadata": {
        "colab": {
          "base_uri": "https://localhost:8080/",
          "height": 510
        },
        "id": "TLUcDD2ZkwrU",
        "outputId": "22fe3af4-e242-4d79-b5dd-9746072a7123"
      },
      "id": "TLUcDD2ZkwrU",
      "execution_count": 15,
      "outputs": [
        {
          "output_type": "execute_result",
          "data": {
            "text/plain": [
              "{'whiskers': [<matplotlib.lines.Line2D at 0x7feb0dbc3590>,\n",
              "  <matplotlib.lines.Line2D at 0x7feb0d116390>],\n",
              " 'caps': [<matplotlib.lines.Line2D at 0x7feb0d06dd10>,\n",
              "  <matplotlib.lines.Line2D at 0x7feb0d0bf590>],\n",
              " 'boxes': [<matplotlib.lines.Line2D at 0x7feb0d07cdd0>],\n",
              " 'medians': [<matplotlib.lines.Line2D at 0x7feb0d0a2210>],\n",
              " 'fliers': [<matplotlib.lines.Line2D at 0x7feb0d12ff90>],\n",
              " 'means': []}"
            ]
          },
          "metadata": {},
          "execution_count": 15
        },
        {
          "output_type": "display_data",
          "data": {
            "text/plain": [
              "<Figure size 864x432 with 1 Axes>"
            ],
            "image/png": "[encoded data removed]"
          },
          "metadata": {
            "needs_background": "light"
          }
        }
      ]
    },
    {
      "cell_type": "code",
      "source": [
        "import seaborn as sns\n",
        "color = sns.color_palette()\n",
        "fig = plt.figure()\n",
        "fig.set_size_inches(12,6)\n",
        "\n",
        "%matplotlib inline"
      ],
      "metadata": {
        "id": "m_-GbqTCv0ZW"
      },
      "id": "m_-GbqTCv0ZW",
      "execution_count": 16,
      "outputs": []
    },
    {
      "cell_type": "code",
      "source": [
        "sns.boxplot(x = \"day_of_week\",y = 'log_trip_duration',data = processed_data)\n",
        "\n",
        "\n",
        "\n"
      ],
      "metadata": {
        "colab": {
          "base_uri": "https://localhost:8080/",
          "height": 297
        },
        "id": "S9xAh2QYtk9Q",
        "outputId": "d09e57db-bc73-40c6-f0a6-9cdd8ddb7066"
      },
      "id": "S9xAh2QYtk9Q",
      "execution_count": 17,
      "outputs": [
        {
          "output_type": "execute_result",
          "data": {
            "text/plain": [
              "<matplotlib.axes._subplots.AxesSubplot at 0x7feafe752390>"
            ]
          },
          "metadata": {},
          "execution_count": 17
        },
        {
          "output_type": "display_data",
          "data": {
            "text/plain": [
              "<Figure size 432x288 with 1 Axes>"
            ],
            "image/png": "[encoded data removed]"
          },
          "metadata": {
            "needs_background": "light"
          }
        }
      ]
    },
    {
      "cell_type": "code",
      "source": [
        "sns.boxplot(x = \"month\",y = 'log_trip_duration',data = processed_data)"
      ],
      "metadata": {
        "colab": {
          "base_uri": "https://localhost:8080/",
          "height": 296
        },
        "id": "yw575vK8wara",
        "outputId": "52c1af22-bab3-4a36-b5b8-3738b3159f26"
      },
      "id": "yw575vK8wara",
      "execution_count": 18,
      "outputs": [
        {
          "output_type": "execute_result",
          "data": {
            "text/plain": [
              "<matplotlib.axes._subplots.AxesSubplot at 0x7feafe5f2e50>"
            ]
          },
          "metadata": {},
          "execution_count": 18
        },
        {
          "output_type": "display_data",
          "data": {
            "text/plain": [
              "<Figure size 432x288 with 1 Axes>"
            ],
            "image/png": "[encoded data removed]"
          },
          "metadata": {
            "needs_background": "light"
          }
        }
      ]
    },
    {
      "cell_type": "code",
      "source": [
        "sns.boxplot(x =\"hour\",y = 'log_trip_duration',data = processed_data)"
      ],
      "metadata": {
        "colab": {
          "base_uri": "https://localhost:8080/",
          "height": 296
        },
        "id": "Ae88dWSNwehQ",
        "outputId": "65864e4b-5a83-4485-c277-a618590009d4"
      },
      "id": "Ae88dWSNwehQ",
      "execution_count": 19,
      "outputs": [
        {
          "output_type": "execute_result",
          "data": {
            "text/plain": [
              "<matplotlib.axes._subplots.AxesSubplot at 0x7feafe55de50>"
            ]
          },
          "metadata": {},
          "execution_count": 19
        },
        {
          "output_type": "display_data",
          "data": {
            "text/plain": [
              "<Figure size 432x288 with 1 Axes>"
            ],
            "image/png": "[encoded data removed]"
          },
          "metadata": {
            "needs_background": "light"
          }
        }
      ]
    },
    {
      "cell_type": "markdown",
      "id": "174a22f0",
      "metadata": {
        "id": "174a22f0"
      },
      "source": [
        "Кажется, что полученные выводы из графиков выше достаточны для того, чтобы посчитать признаки, связанные с временем/датой поездки, достаточно важными. На их основе выделим еще пару.\n",
        "\n",
        "Добавьте следующие бинарные признаки:\n",
        "\n",
        "\n",
        "1. Была ли в день поездки буря (основываясь на единственном обнаруженном таком дне)\n",
        "2. Является ли время поездки статистически самым проблемным, то есть час пиком?\n",
        "\n",
        "Для создания 2ой фичи используйте следующую логику: посчитаем для каждой пары \"день недели\"-\"время суток\" среднее значение таргета. Найдем топ-10 самых \"больших\" пар. Если поездка была совершена во входящее в этот топ время, то ставим 1. Иначе - 0. Получается бинарный признак.\n",
        "\n",
        "P.S. назовите колонки **anomaly** и **traffic_jam**"
      ]
    },
    {
      "cell_type": "code",
      "execution_count": 20,
      "id": "4602427d",
      "metadata": {
        "id": "4602427d",
        "colab": {
          "base_uri": "https://localhost:8080/"
        },
        "outputId": "1d2fa138-8c16-478f-d1da-d7a77cbc4b15"
      },
      "outputs": [
        {
          "output_type": "stream",
          "name": "stderr",
          "text": [
            "/usr/local/lib/python3.7/dist-packages/ipykernel_launcher.py:4: FutureWarning: Series.dt.weekofyear and Series.dt.week have been deprecated.  Please use Series.dt.isocalendar().week instead.\n",
            "  after removing the cwd from sys.path.\n"
          ]
        }
      ],
      "source": [
        "### Создадим первый бинарный признак\n",
        "### Your code is here\n",
        "processed_data[\"anomaly\"] = 0\n",
        "processed_data[\"week\"] = processed_data.pickup_datetime.dt.week\n",
        "processed_data.loc[((processed_data.week == 3)& (processed_data.day_of_week == 5)),\"anomaly\"] = 1"
      ]
    },
    {
      "cell_type": "code",
      "source": [
        "processed_data = processed_data.drop(columns = \"week\")"
      ],
      "metadata": {
        "id": "BiKJ3gWeAe01"
      },
      "id": "BiKJ3gWeAe01",
      "execution_count": 21,
      "outputs": []
    },
    {
      "cell_type": "code",
      "source": [
        "processed_data"
      ],
      "metadata": {
        "colab": {
          "base_uri": "https://localhost:8080/",
          "height": 450
        },
        "id": "zgpUhzYvAaGg",
        "outputId": "126dd812-2cc7-4d33-afd6-5987f657f78c"
      },
      "id": "zgpUhzYvAaGg",
      "execution_count": 22,
      "outputs": [
        {
          "output_type": "execute_result",
          "data": {
            "text/plain": [
              "           vendor_id  passenger_count  store_and_fwd_flag  distance_km  \\\n",
              "id                                                                       \n",
              "id2875421          1       930.399753                   0     1.500479   \n",
              "id2377394          0       930.399753                   0     1.807119   \n",
              "id3858529          1       930.399753                   0     6.392080   \n",
              "id3504673          1       930.399753                   0     1.487155   \n",
              "id2181028          1       930.399753                   0     1.189925   \n",
              "...              ...              ...                 ...          ...   \n",
              "id2376096          1      1053.529749                   0     1.226296   \n",
              "id1049543          0       930.399753                   0     6.056935   \n",
              "id2304944          1       930.399753                   0     7.832952   \n",
              "id2714485          0       930.399753                   0     1.093786   \n",
              "id1209952          0       930.399753                   0     1.135453   \n",
              "\n",
              "           log_trip_duration     pickup_datetime        date  day_of_week  \\\n",
              "id                                                                          \n",
              "id2875421           6.122493 2016-03-14 17:24:55  2016-03-14            0   \n",
              "id2377394           6.498282 2016-06-12 00:43:35  2016-06-12            6   \n",
              "id3858529           7.661527 2016-01-19 11:35:24  2016-01-19            1   \n",
              "id3504673           6.063785 2016-04-06 19:32:31  2016-04-06            2   \n",
              "id2181028           6.077642 2016-03-26 13:30:55  2016-03-26            5   \n",
              "...                      ...                 ...         ...          ...   \n",
              "id2376096           6.658011 2016-04-08 13:31:04  2016-04-08            4   \n",
              "id1049543           6.486161 2016-01-10 07:35:15  2016-01-10            6   \n",
              "id2304944           6.639876 2016-04-22 06:57:41  2016-04-22            4   \n",
              "id2714485           5.924256 2016-01-05 15:56:26  2016-01-05            1   \n",
              "id1209952           5.293305 2016-04-05 14:44:25  2016-04-05            1   \n",
              "\n",
              "           hour  month  anomaly  \n",
              "id                               \n",
              "id2875421    17      3        0  \n",
              "id2377394     0      6        0  \n",
              "id3858529    11      1        0  \n",
              "id3504673    19      4        0  \n",
              "id2181028    13      3        0  \n",
              "...         ...    ...      ...  \n",
              "id2376096    13      4        0  \n",
              "id1049543     7      1        0  \n",
              "id2304944     6      4        0  \n",
              "id2714485    15      1        0  \n",
              "id1209952    14      4        0  \n",
              "\n",
              "[1458644 rows x 11 columns]"
            ],
            "text/html": [
              "\n",
              "  <div id=\"df-453dfe57-c877-4abc-87cf-cd8ff1da5173\">\n",
              "    <div class=\"colab-df-container\">\n",
              "      <div>\n",
              "<style scoped>\n",
              "    .dataframe tbody tr th:only-of-type {\n",
              "        vertical-align: middle;\n",
              "    }\n",
              "\n",
              "    .dataframe tbody tr th {\n",
              "        vertical-align: top;\n",
              "    }\n",
              "\n",
              "    .dataframe thead th {\n",
              "        text-align: right;\n",
              "    }\n",
              "</style>\n",
              "<table border=\"1\" class=\"dataframe\">\n",
              "  <thead>\n",
              "    <tr style=\"text-align: right;\">\n",
              "      <th></th>\n",
              "      <th>vendor_id</th>\n",
              "      <th>passenger_count</th>\n",
              "      <th>store_and_fwd_flag</th>\n",
              "      <th>distance_km</th>\n",
              "      <th>log_trip_duration</th>\n",
              "      <th>pickup_datetime</th>\n",
              "      <th>date</th>\n",
              "      <th>day_of_week</th>\n",
              "      <th>hour</th>\n",
              "      <th>month</th>\n",
              "      <th>anomaly</th>\n",
              "    </tr>\n",
              "    <tr>\n",
              "      <th>id</th>\n",
              "      <th></th>\n",
              "      <th></th>\n",
              "      <th></th>\n",
              "      <th></th>\n",
              "      <th></th>\n",
              "      <th></th>\n",
              "      <th></th>\n",
              "      <th></th>\n",
              "      <th></th>\n",
              "      <th></th>\n",
              "      <th></th>\n",
              "    </tr>\n",
              "  </thead>\n",
              "  <tbody>\n",
              "    <tr>\n",
              "      <th>id2875421</th>\n",
              "      <td>1</td>\n",
              "      <td>930.399753</td>\n",
              "      <td>0</td>\n",
              "      <td>1.500479</td>\n",
              "      <td>6.122493</td>\n",
              "      <td>2016-03-14 17:24:55</td>\n",
              "      <td>2016-03-14</td>\n",
              "      <td>0</td>\n",
              "      <td>17</td>\n",
              "      <td>3</td>\n",
              "      <td>0</td>\n",
              "    </tr>\n",
              "    <tr>\n",
              "      <th>id2377394</th>\n",
              "      <td>0</td>\n",
              "      <td>930.399753</td>\n",
              "      <td>0</td>\n",
              "      <td>1.807119</td>\n",
              "      <td>6.498282</td>\n",
              "      <td>2016-06-12 00:43:35</td>\n",
              "      <td>2016-06-12</td>\n",
              "      <td>6</td>\n",
              "      <td>0</td>\n",
              "      <td>6</td>\n",
              "      <td>0</td>\n",
              "    </tr>\n",
              "    <tr>\n",
              "      <th>id3858529</th>\n",
              "      <td>1</td>\n",
              "      <td>930.399753</td>\n",
              "      <td>0</td>\n",
              "      <td>6.392080</td>\n",
              "      <td>7.661527</td>\n",
              "      <td>2016-01-19 11:35:24</td>\n",
              "      <td>2016-01-19</td>\n",
              "      <td>1</td>\n",
              "      <td>11</td>\n",
              "      <td>1</td>\n",
              "      <td>0</td>\n",
              "    </tr>\n",
              "    <tr>\n",
              "      <th>id3504673</th>\n",
              "      <td>1</td>\n",
              "      <td>930.399753</td>\n",
              "      <td>0</td>\n",
              "      <td>1.487155</td>\n",
              "      <td>6.063785</td>\n",
              "      <td>2016-04-06 19:32:31</td>\n",
              "      <td>2016-04-06</td>\n",
              "      <td>2</td>\n",
              "      <td>19</td>\n",
              "      <td>4</td>\n",
              "      <td>0</td>\n",
              "    </tr>\n",
              "    <tr>\n",
              "      <th>id2181028</th>\n",
              "      <td>1</td>\n",
              "      <td>930.399753</td>\n",
              "      <td>0</td>\n",
              "      <td>1.189925</td>\n",
              "      <td>6.077642</td>\n",
              "      <td>2016-03-26 13:30:55</td>\n",
              "      <td>2016-03-26</td>\n",
              "      <td>5</td>\n",
              "      <td>13</td>\n",
              "      <td>3</td>\n",
              "      <td>0</td>\n",
              "    </tr>\n",
              "    <tr>\n",
              "      <th>...</th>\n",
              "      <td>...</td>\n",
              "      <td>...</td>\n",
              "      <td>...</td>\n",
              "      <td>...</td>\n",
              "      <td>...</td>\n",
              "      <td>...</td>\n",
              "      <td>...</td>\n",
              "      <td>...</td>\n",
              "      <td>...</td>\n",
              "      <td>...</td>\n",
              "      <td>...</td>\n",
              "    </tr>\n",
              "    <tr>\n",
              "      <th>id2376096</th>\n",
              "      <td>1</td>\n",
              "      <td>1053.529749</td>\n",
              "      <td>0</td>\n",
              "      <td>1.226296</td>\n",
              "      <td>6.658011</td>\n",
              "      <td>2016-04-08 13:31:04</td>\n",
              "      <td>2016-04-08</td>\n",
              "      <td>4</td>\n",
              "      <td>13</td>\n",
              "      <td>4</td>\n",
              "      <td>0</td>\n",
              "    </tr>\n",
              "    <tr>\n",
              "      <th>id1049543</th>\n",
              "      <td>0</td>\n",
              "      <td>930.399753</td>\n",
              "      <td>0</td>\n",
              "      <td>6.056935</td>\n",
              "      <td>6.486161</td>\n",
              "      <td>2016-01-10 07:35:15</td>\n",
              "      <td>2016-01-10</td>\n",
              "      <td>6</td>\n",
              "      <td>7</td>\n",
              "      <td>1</td>\n",
              "      <td>0</td>\n",
              "    </tr>\n",
              "    <tr>\n",
              "      <th>id2304944</th>\n",
              "      <td>1</td>\n",
              "      <td>930.399753</td>\n",
              "      <td>0</td>\n",
              "      <td>7.832952</td>\n",
              "      <td>6.639876</td>\n",
              "      <td>2016-04-22 06:57:41</td>\n",
              "      <td>2016-04-22</td>\n",
              "      <td>4</td>\n",
              "      <td>6</td>\n",
              "      <td>4</td>\n",
              "      <td>0</td>\n",
              "    </tr>\n",
              "    <tr>\n",
              "      <th>id2714485</th>\n",
              "      <td>0</td>\n",
              "      <td>930.399753</td>\n",
              "      <td>0</td>\n",
              "      <td>1.093786</td>\n",
              "      <td>5.924256</td>\n",
              "      <td>2016-01-05 15:56:26</td>\n",
              "      <td>2016-01-05</td>\n",
              "      <td>1</td>\n",
              "      <td>15</td>\n",
              "      <td>1</td>\n",
              "      <td>0</td>\n",
              "    </tr>\n",
              "    <tr>\n",
              "      <th>id1209952</th>\n",
              "      <td>0</td>\n",
              "      <td>930.399753</td>\n",
              "      <td>0</td>\n",
              "      <td>1.135453</td>\n",
              "      <td>5.293305</td>\n",
              "      <td>2016-04-05 14:44:25</td>\n",
              "      <td>2016-04-05</td>\n",
              "      <td>1</td>\n",
              "      <td>14</td>\n",
              "      <td>4</td>\n",
              "      <td>0</td>\n",
              "    </tr>\n",
              "  </tbody>\n",
              "</table>\n",
              "<p>1458644 rows × 11 columns</p>\n",
              "</div>\n",
              "      <button class=\"colab-df-convert\" onclick=\"convertToInteractive('df-453dfe57-c877-4abc-87cf-cd8ff1da5173')\"\n",
              "              title=\"Convert this dataframe to an interactive table.\"\n",
              "              style=\"display:none;\">\n",
              "        \n",
              "  <svg xmlns=\"http://www.w3.org/2000/svg\" height=\"24px\"viewBox=\"0 0 24 24\"\n",
              "       width=\"24px\">\n",
              "    <path d=\"M0 0h24v24H0V0z\" fill=\"none\"/>\n",
              "    <path d=\"M18.56 5.44l.94 2.06.94-2.06 2.06-.94-2.06-.94-.94-2.06-.94 2.06-2.06.94zm-11 1L8.5 8.5l.94-2.06 2.06-.94-2.06-.94L8.5 2.5l-.94 2.06-2.06.94zm10 10l.94 2.06.94-2.06 2.06-.94-2.06-.94-.94-2.06-.94 2.06-2.06.94z\"/><path d=\"M17.41 7.96l-1.37-1.37c-.4-.4-.92-.59-1.43-.59-.52 0-1.04.2-1.43.59L10.3 9.45l-7.72 7.72c-.78.78-.78 2.05 0 2.83L4 21.41c.39.39.9.59 1.41.59.51 0 1.02-.2 1.41-.59l7.78-7.78 2.81-2.81c.8-.78.8-2.07 0-2.86zM5.41 20L4 18.59l7.72-7.72 1.47 1.35L5.41 20z\"/>\n",
              "  </svg>\n",
              "      </button>\n",
              "      \n",
              "  <style>\n",
              "    .colab-df-container {\n",
              "      display:flex;\n",
              "      flex-wrap:wrap;\n",
              "      gap: 12px;\n",
              "    }\n",
              "\n",
              "    .colab-df-convert {\n",
              "      background-color: #E8F0FE;\n",
              "      border: none;\n",
              "      border-radius: 50%;\n",
              "      cursor: pointer;\n",
              "      display: none;\n",
              "      fill: #1967D2;\n",
              "      height: 32px;\n",
              "      padding: 0 0 0 0;\n",
              "      width: 32px;\n",
              "    }\n",
              "\n",
              "    .colab-df-convert:hover {\n",
              "      background-color: #E2EBFA;\n",
              "      box-shadow: 0px 1px 2px rgba(60, 64, 67, 0.3), 0px 1px 3px 1px rgba(60, 64, 67, 0.15);\n",
              "      fill: #174EA6;\n",
              "    }\n",
              "\n",
              "    [theme=dark] .colab-df-convert {\n",
              "      background-color: #3B4455;\n",
              "      fill: #D2E3FC;\n",
              "    }\n",
              "\n",
              "    [theme=dark] .colab-df-convert:hover {\n",
              "      background-color: #434B5C;\n",
              "      box-shadow: 0px 1px 3px 1px rgba(0, 0, 0, 0.15);\n",
              "      filter: drop-shadow(0px 1px 2px rgba(0, 0, 0, 0.3));\n",
              "      fill: #FFFFFF;\n",
              "    }\n",
              "  </style>\n",
              "\n",
              "      <script>\n",
              "        const buttonEl =\n",
              "          document.querySelector('#df-453dfe57-c877-4abc-87cf-cd8ff1da5173 button.colab-df-convert');\n",
              "        buttonEl.style.display =\n",
              "          google.colab.kernel.accessAllowed ? 'block' : 'none';\n",
              "\n",
              "        async function convertToInteractive(key) {\n",
              "          const element = document.querySelector('#df-453dfe57-c877-4abc-87cf-cd8ff1da5173');\n",
              "          const dataTable =\n",
              "            await google.colab.kernel.invokeFunction('convertToInteractive',\n",
              "                                                     [key], {});\n",
              "          if (!dataTable) return;\n",
              "\n",
              "          const docLinkHtml = 'Like what you see? Visit the ' +\n",
              "            '<a target=\"_blank\" href=https://colab.research.google.com/notebooks/data_table.ipynb>data table notebook</a>'\n",
              "            + ' to learn more about interactive tables.';\n",
              "          element.innerHTML = '';\n",
              "          dataTable['output_type'] = 'display_data';\n",
              "          await google.colab.output.renderOutput(dataTable, element);\n",
              "          const docLink = document.createElement('div');\n",
              "          docLink.innerHTML = docLinkHtml;\n",
              "          element.appendChild(docLink);\n",
              "        }\n",
              "      </script>\n",
              "    </div>\n",
              "  </div>\n",
              "  "
            ]
          },
          "metadata": {},
          "execution_count": 22
        }
      ]
    },
    {
      "cell_type": "code",
      "source": [],
      "metadata": {
        "id": "vkSB4CRz7L6m"
      },
      "id": "vkSB4CRz7L6m",
      "execution_count": 22,
      "outputs": []
    },
    {
      "cell_type": "code",
      "source": [],
      "metadata": {
        "id": "0oSJp89p4DqL"
      },
      "id": "0oSJp89p4DqL",
      "execution_count": 22,
      "outputs": []
    },
    {
      "cell_type": "code",
      "execution_count": 23,
      "id": "50c8bf30",
      "metadata": {
        "id": "50c8bf30"
      },
      "outputs": [],
      "source": [
        "### Создадим второй бинарный признак\n",
        "### Your code is here\n",
        "#a = [x for x in processed_data.groupby([\"day_of_week\",\"hour\"])[\"log_trip_duration\"].count().sort_values(ascending = False).head(10).index]\n",
        "s = [x for x in processed_data.groupby([\"day_of_week\",\"hour\"])[\"log_trip_duration\"].mean().sort_values(ascending = False).head(10).index]"
      ]
    },
    {
      "cell_type": "code",
      "source": [],
      "metadata": {
        "id": "fPtqT4C34ZkG"
      },
      "id": "fPtqT4C34ZkG",
      "execution_count": 23,
      "outputs": []
    },
    {
      "cell_type": "code",
      "source": [],
      "metadata": {
        "id": "SA_81LY-K7UM"
      },
      "id": "SA_81LY-K7UM",
      "execution_count": 23,
      "outputs": []
    },
    {
      "cell_type": "code",
      "execution_count": 24,
      "id": "9b6b6ff8",
      "metadata": {
        "colab": {
          "base_uri": "https://localhost:8080/",
          "height": 664
        },
        "id": "9b6b6ff8",
        "outputId": "09e015c9-61de-4872-ebed-c8981ca14a24"
      },
      "outputs": [
        {
          "output_type": "execute_result",
          "data": {
            "text/plain": [
              "           vendor_id  passenger_count  store_and_fwd_flag  distance_km  \\\n",
              "id                                                                       \n",
              "id2875421          1       930.399753                   0     1.500479   \n",
              "id2377394          0       930.399753                   0     1.807119   \n",
              "id3858529          1       930.399753                   0     6.392080   \n",
              "id3504673          1       930.399753                   0     1.487155   \n",
              "id2181028          1       930.399753                   0     1.189925   \n",
              "...              ...              ...                 ...          ...   \n",
              "id2376096          1      1053.529749                   0     1.226296   \n",
              "id1049543          0       930.399753                   0     6.056935   \n",
              "id2304944          1       930.399753                   0     7.832952   \n",
              "id2714485          0       930.399753                   0     1.093786   \n",
              "id1209952          0       930.399753                   0     1.135453   \n",
              "\n",
              "           log_trip_duration     pickup_datetime        date  day_of_week  \\\n",
              "id                                                                          \n",
              "id2875421           6.122493 2016-03-14 17:24:55  2016-03-14            0   \n",
              "id2377394           6.498282 2016-06-12 00:43:35  2016-06-12            6   \n",
              "id3858529           7.661527 2016-01-19 11:35:24  2016-01-19            1   \n",
              "id3504673           6.063785 2016-04-06 19:32:31  2016-04-06            2   \n",
              "id2181028           6.077642 2016-03-26 13:30:55  2016-03-26            5   \n",
              "...                      ...                 ...         ...          ...   \n",
              "id2376096           6.658011 2016-04-08 13:31:04  2016-04-08            4   \n",
              "id1049543           6.486161 2016-01-10 07:35:15  2016-01-10            6   \n",
              "id2304944           6.639876 2016-04-22 06:57:41  2016-04-22            4   \n",
              "id2714485           5.924256 2016-01-05 15:56:26  2016-01-05            1   \n",
              "id1209952           5.293305 2016-04-05 14:44:25  2016-04-05            1   \n",
              "\n",
              "           hour  month  anomaly  traffic_jam  \n",
              "id                                            \n",
              "id2875421    17      3        0            0  \n",
              "id2377394     0      6        0            0  \n",
              "id3858529    11      1        0            0  \n",
              "id3504673    19      4        0            0  \n",
              "id2181028    13      3        0            0  \n",
              "...         ...    ...      ...          ...  \n",
              "id2376096    13      4        0            0  \n",
              "id1049543     7      1        0            0  \n",
              "id2304944     6      4        0            0  \n",
              "id2714485    15      1        0            0  \n",
              "id1209952    14      4        0            0  \n",
              "\n",
              "[1458644 rows x 12 columns]"
            ],
            "text/html": [
              "\n",
              "  <div id=\"df-758e9f1b-0b3c-4f20-914c-108e5287e413\">\n",
              "    <div class=\"colab-df-container\">\n",
              "      <div>\n",
              "<style scoped>\n",
              "    .dataframe tbody tr th:only-of-type {\n",
              "        vertical-align: middle;\n",
              "    }\n",
              "\n",
              "    .dataframe tbody tr th {\n",
              "        vertical-align: top;\n",
              "    }\n",
              "\n",
              "    .dataframe thead th {\n",
              "        text-align: right;\n",
              "    }\n",
              "</style>\n",
              "<table border=\"1\" class=\"dataframe\">\n",
              "  <thead>\n",
              "    <tr style=\"text-align: right;\">\n",
              "      <th></th>\n",
              "      <th>vendor_id</th>\n",
              "      <th>passenger_count</th>\n",
              "      <th>store_and_fwd_flag</th>\n",
              "      <th>distance_km</th>\n",
              "      <th>log_trip_duration</th>\n",
              "      <th>pickup_datetime</th>\n",
              "      <th>date</th>\n",
              "      <th>day_of_week</th>\n",
              "      <th>hour</th>\n",
              "      <th>month</th>\n",
              "      <th>anomaly</th>\n",
              "      <th>traffic_jam</th>\n",
              "    </tr>\n",
              "    <tr>\n",
              "      <th>id</th>\n",
              "      <th></th>\n",
              "      <th></th>\n",
              "      <th></th>\n",
              "      <th></th>\n",
              "      <th></th>\n",
              "      <th></th>\n",
              "      <th></th>\n",
              "      <th></th>\n",
              "      <th></th>\n",
              "      <th></th>\n",
              "      <th></th>\n",
              "      <th></th>\n",
              "    </tr>\n",
              "  </thead>\n",
              "  <tbody>\n",
              "    <tr>\n",
              "      <th>id2875421</th>\n",
              "      <td>1</td>\n",
              "      <td>930.399753</td>\n",
              "      <td>0</td>\n",
              "      <td>1.500479</td>\n",
              "      <td>6.122493</td>\n",
              "      <td>2016-03-14 17:24:55</td>\n",
              "      <td>2016-03-14</td>\n",
              "      <td>0</td>\n",
              "      <td>17</td>\n",
              "      <td>3</td>\n",
              "      <td>0</td>\n",
              "      <td>0</td>\n",
              "    </tr>\n",
              "    <tr>\n",
              "      <th>id2377394</th>\n",
              "      <td>0</td>\n",
              "      <td>930.399753</td>\n",
              "      <td>0</td>\n",
              "      <td>1.807119</td>\n",
              "      <td>6.498282</td>\n",
              "      <td>2016-06-12 00:43:35</td>\n",
              "      <td>2016-06-12</td>\n",
              "      <td>6</td>\n",
              "      <td>0</td>\n",
              "      <td>6</td>\n",
              "      <td>0</td>\n",
              "      <td>0</td>\n",
              "    </tr>\n",
              "    <tr>\n",
              "      <th>id3858529</th>\n",
              "      <td>1</td>\n",
              "      <td>930.399753</td>\n",
              "      <td>0</td>\n",
              "      <td>6.392080</td>\n",
              "      <td>7.661527</td>\n",
              "      <td>2016-01-19 11:35:24</td>\n",
              "      <td>2016-01-19</td>\n",
              "      <td>1</td>\n",
              "      <td>11</td>\n",
              "      <td>1</td>\n",
              "      <td>0</td>\n",
              "      <td>0</td>\n",
              "    </tr>\n",
              "    <tr>\n",
              "      <th>id3504673</th>\n",
              "      <td>1</td>\n",
              "      <td>930.399753</td>\n",
              "      <td>0</td>\n",
              "      <td>1.487155</td>\n",
              "      <td>6.063785</td>\n",
              "      <td>2016-04-06 19:32:31</td>\n",
              "      <td>2016-04-06</td>\n",
              "      <td>2</td>\n",
              "      <td>19</td>\n",
              "      <td>4</td>\n",
              "      <td>0</td>\n",
              "      <td>0</td>\n",
              "    </tr>\n",
              "    <tr>\n",
              "      <th>id2181028</th>\n",
              "      <td>1</td>\n",
              "      <td>930.399753</td>\n",
              "      <td>0</td>\n",
              "      <td>1.189925</td>\n",
              "      <td>6.077642</td>\n",
              "      <td>2016-03-26 13:30:55</td>\n",
              "      <td>2016-03-26</td>\n",
              "      <td>5</td>\n",
              "      <td>13</td>\n",
              "      <td>3</td>\n",
              "      <td>0</td>\n",
              "      <td>0</td>\n",
              "    </tr>\n",
              "    <tr>\n",
              "      <th>...</th>\n",
              "      <td>...</td>\n",
              "      <td>...</td>\n",
              "      <td>...</td>\n",
              "      <td>...</td>\n",
              "      <td>...</td>\n",
              "      <td>...</td>\n",
              "      <td>...</td>\n",
              "      <td>...</td>\n",
              "      <td>...</td>\n",
              "      <td>...</td>\n",
              "      <td>...</td>\n",
              "      <td>...</td>\n",
              "    </tr>\n",
              "    <tr>\n",
              "      <th>id2376096</th>\n",
              "      <td>1</td>\n",
              "      <td>1053.529749</td>\n",
              "      <td>0</td>\n",
              "      <td>1.226296</td>\n",
              "      <td>6.658011</td>\n",
              "      <td>2016-04-08 13:31:04</td>\n",
              "      <td>2016-04-08</td>\n",
              "      <td>4</td>\n",
              "      <td>13</td>\n",
              "      <td>4</td>\n",
              "      <td>0</td>\n",
              "      <td>0</td>\n",
              "    </tr>\n",
              "    <tr>\n",
              "      <th>id1049543</th>\n",
              "      <td>0</td>\n",
              "      <td>930.399753</td>\n",
              "      <td>0</td>\n",
              "      <td>6.056935</td>\n",
              "      <td>6.486161</td>\n",
              "      <td>2016-01-10 07:35:15</td>\n",
              "      <td>2016-01-10</td>\n",
              "      <td>6</td>\n",
              "      <td>7</td>\n",
              "      <td>1</td>\n",
              "      <td>0</td>\n",
              "      <td>0</td>\n",
              "    </tr>\n",
              "    <tr>\n",
              "      <th>id2304944</th>\n",
              "      <td>1</td>\n",
              "      <td>930.399753</td>\n",
              "      <td>0</td>\n",
              "      <td>7.832952</td>\n",
              "      <td>6.639876</td>\n",
              "      <td>2016-04-22 06:57:41</td>\n",
              "      <td>2016-04-22</td>\n",
              "      <td>4</td>\n",
              "      <td>6</td>\n",
              "      <td>4</td>\n",
              "      <td>0</td>\n",
              "      <td>0</td>\n",
              "    </tr>\n",
              "    <tr>\n",
              "      <th>id2714485</th>\n",
              "      <td>0</td>\n",
              "      <td>930.399753</td>\n",
              "      <td>0</td>\n",
              "      <td>1.093786</td>\n",
              "      <td>5.924256</td>\n",
              "      <td>2016-01-05 15:56:26</td>\n",
              "      <td>2016-01-05</td>\n",
              "      <td>1</td>\n",
              "      <td>15</td>\n",
              "      <td>1</td>\n",
              "      <td>0</td>\n",
              "      <td>0</td>\n",
              "    </tr>\n",
              "    <tr>\n",
              "      <th>id1209952</th>\n",
              "      <td>0</td>\n",
              "      <td>930.399753</td>\n",
              "      <td>0</td>\n",
              "      <td>1.135453</td>\n",
              "      <td>5.293305</td>\n",
              "      <td>2016-04-05 14:44:25</td>\n",
              "      <td>2016-04-05</td>\n",
              "      <td>1</td>\n",
              "      <td>14</td>\n",
              "      <td>4</td>\n",
              "      <td>0</td>\n",
              "      <td>0</td>\n",
              "    </tr>\n",
              "  </tbody>\n",
              "</table>\n",
              "<p>1458644 rows × 12 columns</p>\n",
              "</div>\n",
              "      <button class=\"colab-df-convert\" onclick=\"convertToInteractive('df-758e9f1b-0b3c-4f20-914c-108e5287e413')\"\n",
              "              title=\"Convert this dataframe to an interactive table.\"\n",
              "              style=\"display:none;\">\n",
              "        \n",
              "  <svg xmlns=\"http://www.w3.org/2000/svg\" height=\"24px\"viewBox=\"0 0 24 24\"\n",
              "       width=\"24px\">\n",
              "    <path d=\"M0 0h24v24H0V0z\" fill=\"none\"/>\n",
              "    <path d=\"M18.56 5.44l.94 2.06.94-2.06 2.06-.94-2.06-.94-.94-2.06-.94 2.06-2.06.94zm-11 1L8.5 8.5l.94-2.06 2.06-.94-2.06-.94L8.5 2.5l-.94 2.06-2.06.94zm10 10l.94 2.06.94-2.06 2.06-.94-2.06-.94-.94-2.06-.94 2.06-2.06.94z\"/><path d=\"M17.41 7.96l-1.37-1.37c-.4-.4-.92-.59-1.43-.59-.52 0-1.04.2-1.43.59L10.3 9.45l-7.72 7.72c-.78.78-.78 2.05 0 2.83L4 21.41c.39.39.9.59 1.41.59.51 0 1.02-.2 1.41-.59l7.78-7.78 2.81-2.81c.8-.78.8-2.07 0-2.86zM5.41 20L4 18.59l7.72-7.72 1.47 1.35L5.41 20z\"/>\n",
              "  </svg>\n",
              "      </button>\n",
              "      \n",
              "  <style>\n",
              "    .colab-df-container {\n",
              "      display:flex;\n",
              "      flex-wrap:wrap;\n",
              "      gap: 12px;\n",
              "    }\n",
              "\n",
              "    .colab-df-convert {\n",
              "      background-color: #E8F0FE;\n",
              "      border: none;\n",
              "      border-radius: 50%;\n",
              "      cursor: pointer;\n",
              "      display: none;\n",
              "      fill: #1967D2;\n",
              "      height: 32px;\n",
              "      padding: 0 0 0 0;\n",
              "      width: 32px;\n",
              "    }\n",
              "\n",
              "    .colab-df-convert:hover {\n",
              "      background-color: #E2EBFA;\n",
              "      box-shadow: 0px 1px 2px rgba(60, 64, 67, 0.3), 0px 1px 3px 1px rgba(60, 64, 67, 0.15);\n",
              "      fill: #174EA6;\n",
              "    }\n",
              "\n",
              "    [theme=dark] .colab-df-convert {\n",
              "      background-color: #3B4455;\n",
              "      fill: #D2E3FC;\n",
              "    }\n",
              "\n",
              "    [theme=dark] .colab-df-convert:hover {\n",
              "      background-color: #434B5C;\n",
              "      box-shadow: 0px 1px 3px 1px rgba(0, 0, 0, 0.15);\n",
              "      filter: drop-shadow(0px 1px 2px rgba(0, 0, 0, 0.3));\n",
              "      fill: #FFFFFF;\n",
              "    }\n",
              "  </style>\n",
              "\n",
              "      <script>\n",
              "        const buttonEl =\n",
              "          document.querySelector('#df-758e9f1b-0b3c-4f20-914c-108e5287e413 button.colab-df-convert');\n",
              "        buttonEl.style.display =\n",
              "          google.colab.kernel.accessAllowed ? 'block' : 'none';\n",
              "\n",
              "        async function convertToInteractive(key) {\n",
              "          const element = document.querySelector('#df-758e9f1b-0b3c-4f20-914c-108e5287e413');\n",
              "          const dataTable =\n",
              "            await google.colab.kernel.invokeFunction('convertToInteractive',\n",
              "                                                     [key], {});\n",
              "          if (!dataTable) return;\n",
              "\n",
              "          const docLinkHtml = 'Like what you see? Visit the ' +\n",
              "            '<a target=\"_blank\" href=https://colab.research.google.com/notebooks/data_table.ipynb>data table notebook</a>'\n",
              "            + ' to learn more about interactive tables.';\n",
              "          element.innerHTML = '';\n",
              "          dataTable['output_type'] = 'display_data';\n",
              "          await google.colab.output.renderOutput(dataTable, element);\n",
              "          const docLink = document.createElement('div');\n",
              "          docLink.innerHTML = docLinkHtml;\n",
              "          element.appendChild(docLink);\n",
              "        }\n",
              "      </script>\n",
              "    </div>\n",
              "  </div>\n",
              "  "
            ]
          },
          "metadata": {},
          "execution_count": 24
        }
      ],
      "source": [
        "processed_data[\"traffic_jam\"] = 0\n",
        "processed_data"
      ]
    },
    {
      "cell_type": "code",
      "source": [
        "for i in s:\n",
        "  processed_data.loc[((processed_data.day_of_week == i[0]) & (processed_data.hour == i[1])),\"traffic_jam\"] = 1"
      ],
      "metadata": {
        "id": "a27sTues5Xgu"
      },
      "id": "a27sTues5Xgu",
      "execution_count": 25,
      "outputs": []
    },
    {
      "cell_type": "markdown",
      "id": "ce55afbe",
      "metadata": {
        "id": "ce55afbe"
      },
      "source": [
        "Теперь колонки **pickup_datetime**, **date** можно убрать. А про оставшиеся **day_of_week**, **hour**, **month** необходимо подумать:\n",
        "\n",
        "- С одной стороны, первые две можно убрать, так как на их основе была создана колонка **traffic_jam**\n",
        "- С другой стороны, зависимость с колонкой **traffic_jam** нелинейная, поэтому можно попробовать использовать все фичи в комбинации. Конечно, лучше попробовать оба варианта и проэкспериментировать, но ради упрощения - оставим все колонки. Хоть **day_of_week**, **hour** и описываются числами, мы понимаем, что это скорее категориальные фичи. Потому что, например, отношение между 23:00 и 00:00 не такое же, как между числами 23 и 0. Закодируем их с помощью OneHotEncoder. \n",
        "- Последняя (**month**) очевидно категориальная. Можно закодировать ее тоже через OneHotEncoder."
      ]
    },
    {
      "cell_type": "code",
      "execution_count": 26,
      "id": "4c8c84ff",
      "metadata": {
        "id": "4c8c84ff"
      },
      "outputs": [],
      "source": [
        "processed_data = processed_data.drop(['pickup_datetime', 'date'], axis=1)"
      ]
    },
    {
      "cell_type": "code",
      "execution_count": 27,
      "id": "bef9a151",
      "metadata": {
        "id": "bef9a151"
      },
      "outputs": [],
      "source": [
        "### Делаем OneHotEncoding и конкатим с processed_data\n",
        "\n",
        "processed_data = pd.get_dummies(data=processed_data, columns=[col for col in ['day_of_week', 'hour', 'month']], drop_first=True)"
      ]
    },
    {
      "cell_type": "code",
      "source": [
        "processed_data.head(5)"
      ],
      "metadata": {
        "colab": {
          "base_uri": "https://localhost:8080/",
          "height": 328
        },
        "id": "evoljmT-FuvA",
        "outputId": "b400db70-24db-4641-8162-cc57ded5d63e"
      },
      "id": "evoljmT-FuvA",
      "execution_count": 28,
      "outputs": [
        {
          "output_type": "execute_result",
          "data": {
            "text/plain": [
              "           vendor_id  passenger_count  store_and_fwd_flag  distance_km  \\\n",
              "id                                                                       \n",
              "id2875421          1       930.399753                   0     1.500479   \n",
              "id2377394          0       930.399753                   0     1.807119   \n",
              "id3858529          1       930.399753                   0     6.392080   \n",
              "id3504673          1       930.399753                   0     1.487155   \n",
              "id2181028          1       930.399753                   0     1.189925   \n",
              "\n",
              "           log_trip_duration  anomaly  traffic_jam  day_of_week_1  \\\n",
              "id                                                                  \n",
              "id2875421           6.122493        0            0              0   \n",
              "id2377394           6.498282        0            0              0   \n",
              "id3858529           7.661527        0            1              1   \n",
              "id3504673           6.063785        0            0              0   \n",
              "id2181028           6.077642        0            0              0   \n",
              "\n",
              "           day_of_week_2  day_of_week_3  ...  hour_19  hour_20  hour_21  \\\n",
              "id                                       ...                              \n",
              "id2875421              0              0  ...        0        0        0   \n",
              "id2377394              0              0  ...        0        0        0   \n",
              "id3858529              0              0  ...        0        0        0   \n",
              "id3504673              1              0  ...        1        0        0   \n",
              "id2181028              0              0  ...        0        0        0   \n",
              "\n",
              "           hour_22  hour_23  month_2  month_3  month_4  month_5  month_6  \n",
              "id                                                                        \n",
              "id2875421        0        0        0        1        0        0        0  \n",
              "id2377394        0        0        0        0        0        0        1  \n",
              "id3858529        0        0        0        0        0        0        0  \n",
              "id3504673        0        0        0        0        1        0        0  \n",
              "id2181028        0        0        0        1        0        0        0  \n",
              "\n",
              "[5 rows x 41 columns]"
            ],
            "text/html": [
              "\n",
              "  <div id=\"df-0a0b6f70-15bf-4dc3-a83d-8f83c9e54ee6\">\n",
              "    <div class=\"colab-df-container\">\n",
              "      <div>\n",
              "<style scoped>\n",
              "    .dataframe tbody tr th:only-of-type {\n",
              "        vertical-align: middle;\n",
              "    }\n",
              "\n",
              "    .dataframe tbody tr th {\n",
              "        vertical-align: top;\n",
              "    }\n",
              "\n",
              "    .dataframe thead th {\n",
              "        text-align: right;\n",
              "    }\n",
              "</style>\n",
              "<table border=\"1\" class=\"dataframe\">\n",
              "  <thead>\n",
              "    <tr style=\"text-align: right;\">\n",
              "      <th></th>\n",
              "      <th>vendor_id</th>\n",
              "      <th>passenger_count</th>\n",
              "      <th>store_and_fwd_flag</th>\n",
              "      <th>distance_km</th>\n",
              "      <th>log_trip_duration</th>\n",
              "      <th>anomaly</th>\n",
              "      <th>traffic_jam</th>\n",
              "      <th>day_of_week_1</th>\n",
              "      <th>day_of_week_2</th>\n",
              "      <th>day_of_week_3</th>\n",
              "      <th>...</th>\n",
              "      <th>hour_19</th>\n",
              "      <th>hour_20</th>\n",
              "      <th>hour_21</th>\n",
              "      <th>hour_22</th>\n",
              "      <th>hour_23</th>\n",
              "      <th>month_2</th>\n",
              "      <th>month_3</th>\n",
              "      <th>month_4</th>\n",
              "      <th>month_5</th>\n",
              "      <th>month_6</th>\n",
              "    </tr>\n",
              "    <tr>\n",
              "      <th>id</th>\n",
              "      <th></th>\n",
              "      <th></th>\n",
              "      <th></th>\n",
              "      <th></th>\n",
              "      <th></th>\n",
              "      <th></th>\n",
              "      <th></th>\n",
              "      <th></th>\n",
              "      <th></th>\n",
              "      <th></th>\n",
              "      <th></th>\n",
              "      <th></th>\n",
              "      <th></th>\n",
              "      <th></th>\n",
              "      <th></th>\n",
              "      <th></th>\n",
              "      <th></th>\n",
              "      <th></th>\n",
              "      <th></th>\n",
              "      <th></th>\n",
              "      <th></th>\n",
              "    </tr>\n",
              "  </thead>\n",
              "  <tbody>\n",
              "    <tr>\n",
              "      <th>id2875421</th>\n",
              "      <td>1</td>\n",
              "      <td>930.399753</td>\n",
              "      <td>0</td>\n",
              "      <td>1.500479</td>\n",
              "      <td>6.122493</td>\n",
              "      <td>0</td>\n",
              "      <td>0</td>\n",
              "      <td>0</td>\n",
              "      <td>0</td>\n",
              "      <td>0</td>\n",
              "      <td>...</td>\n",
              "      <td>0</td>\n",
              "      <td>0</td>\n",
              "      <td>0</td>\n",
              "      <td>0</td>\n",
              "      <td>0</td>\n",
              "      <td>0</td>\n",
              "      <td>1</td>\n",
              "      <td>0</td>\n",
              "      <td>0</td>\n",
              "      <td>0</td>\n",
              "    </tr>\n",
              "    <tr>\n",
              "      <th>id2377394</th>\n",
              "      <td>0</td>\n",
              "      <td>930.399753</td>\n",
              "      <td>0</td>\n",
              "      <td>1.807119</td>\n",
              "      <td>6.498282</td>\n",
              "      <td>0</td>\n",
              "      <td>0</td>\n",
              "      <td>0</td>\n",
              "      <td>0</td>\n",
              "      <td>0</td>\n",
              "      <td>...</td>\n",
              "      <td>0</td>\n",
              "      <td>0</td>\n",
              "      <td>0</td>\n",
              "      <td>0</td>\n",
              "      <td>0</td>\n",
              "      <td>0</td>\n",
              "      <td>0</td>\n",
              "      <td>0</td>\n",
              "      <td>0</td>\n",
              "      <td>1</td>\n",
              "    </tr>\n",
              "    <tr>\n",
              "      <th>id3858529</th>\n",
              "      <td>1</td>\n",
              "      <td>930.399753</td>\n",
              "      <td>0</td>\n",
              "      <td>6.392080</td>\n",
              "      <td>7.661527</td>\n",
              "      <td>0</td>\n",
              "      <td>1</td>\n",
              "      <td>1</td>\n",
              "      <td>0</td>\n",
              "      <td>0</td>\n",
              "      <td>...</td>\n",
              "      <td>0</td>\n",
              "      <td>0</td>\n",
              "      <td>0</td>\n",
              "      <td>0</td>\n",
              "      <td>0</td>\n",
              "      <td>0</td>\n",
              "      <td>0</td>\n",
              "      <td>0</td>\n",
              "      <td>0</td>\n",
              "      <td>0</td>\n",
              "    </tr>\n",
              "    <tr>\n",
              "      <th>id3504673</th>\n",
              "      <td>1</td>\n",
              "      <td>930.399753</td>\n",
              "      <td>0</td>\n",
              "      <td>1.487155</td>\n",
              "      <td>6.063785</td>\n",
              "      <td>0</td>\n",
              "      <td>0</td>\n",
              "      <td>0</td>\n",
              "      <td>1</td>\n",
              "      <td>0</td>\n",
              "      <td>...</td>\n",
              "      <td>1</td>\n",
              "      <td>0</td>\n",
              "      <td>0</td>\n",
              "      <td>0</td>\n",
              "      <td>0</td>\n",
              "      <td>0</td>\n",
              "      <td>0</td>\n",
              "      <td>1</td>\n",
              "      <td>0</td>\n",
              "      <td>0</td>\n",
              "    </tr>\n",
              "    <tr>\n",
              "      <th>id2181028</th>\n",
              "      <td>1</td>\n",
              "      <td>930.399753</td>\n",
              "      <td>0</td>\n",
              "      <td>1.189925</td>\n",
              "      <td>6.077642</td>\n",
              "      <td>0</td>\n",
              "      <td>0</td>\n",
              "      <td>0</td>\n",
              "      <td>0</td>\n",
              "      <td>0</td>\n",
              "      <td>...</td>\n",
              "      <td>0</td>\n",
              "      <td>0</td>\n",
              "      <td>0</td>\n",
              "      <td>0</td>\n",
              "      <td>0</td>\n",
              "      <td>0</td>\n",
              "      <td>1</td>\n",
              "      <td>0</td>\n",
              "      <td>0</td>\n",
              "      <td>0</td>\n",
              "    </tr>\n",
              "  </tbody>\n",
              "</table>\n",
              "<p>5 rows × 41 columns</p>\n",
              "</div>\n",
              "      <button class=\"colab-df-convert\" onclick=\"convertToInteractive('df-0a0b6f70-15bf-4dc3-a83d-8f83c9e54ee6')\"\n",
              "              title=\"Convert this dataframe to an interactive table.\"\n",
              "              style=\"display:none;\">\n",
              "        \n",
              "  <svg xmlns=\"http://www.w3.org/2000/svg\" height=\"24px\"viewBox=\"0 0 24 24\"\n",
              "       width=\"24px\">\n",
              "    <path d=\"M0 0h24v24H0V0z\" fill=\"none\"/>\n",
              "    <path d=\"M18.56 5.44l.94 2.06.94-2.06 2.06-.94-2.06-.94-.94-2.06-.94 2.06-2.06.94zm-11 1L8.5 8.5l.94-2.06 2.06-.94-2.06-.94L8.5 2.5l-.94 2.06-2.06.94zm10 10l.94 2.06.94-2.06 2.06-.94-2.06-.94-.94-2.06-.94 2.06-2.06.94z\"/><path d=\"M17.41 7.96l-1.37-1.37c-.4-.4-.92-.59-1.43-.59-.52 0-1.04.2-1.43.59L10.3 9.45l-7.72 7.72c-.78.78-.78 2.05 0 2.83L4 21.41c.39.39.9.59 1.41.59.51 0 1.02-.2 1.41-.59l7.78-7.78 2.81-2.81c.8-.78.8-2.07 0-2.86zM5.41 20L4 18.59l7.72-7.72 1.47 1.35L5.41 20z\"/>\n",
              "  </svg>\n",
              "      </button>\n",
              "      \n",
              "  <style>\n",
              "    .colab-df-container {\n",
              "      display:flex;\n",
              "      flex-wrap:wrap;\n",
              "      gap: 12px;\n",
              "    }\n",
              "\n",
              "    .colab-df-convert {\n",
              "      background-color: #E8F0FE;\n",
              "      border: none;\n",
              "      border-radius: 50%;\n",
              "      cursor: pointer;\n",
              "      display: none;\n",
              "      fill: #1967D2;\n",
              "      height: 32px;\n",
              "      padding: 0 0 0 0;\n",
              "      width: 32px;\n",
              "    }\n",
              "\n",
              "    .colab-df-convert:hover {\n",
              "      background-color: #E2EBFA;\n",
              "      box-shadow: 0px 1px 2px rgba(60, 64, 67, 0.3), 0px 1px 3px 1px rgba(60, 64, 67, 0.15);\n",
              "      fill: #174EA6;\n",
              "    }\n",
              "\n",
              "    [theme=dark] .colab-df-convert {\n",
              "      background-color: #3B4455;\n",
              "      fill: #D2E3FC;\n",
              "    }\n",
              "\n",
              "    [theme=dark] .colab-df-convert:hover {\n",
              "      background-color: #434B5C;\n",
              "      box-shadow: 0px 1px 3px 1px rgba(0, 0, 0, 0.15);\n",
              "      filter: drop-shadow(0px 1px 2px rgba(0, 0, 0, 0.3));\n",
              "      fill: #FFFFFF;\n",
              "    }\n",
              "  </style>\n",
              "\n",
              "      <script>\n",
              "        const buttonEl =\n",
              "          document.querySelector('#df-0a0b6f70-15bf-4dc3-a83d-8f83c9e54ee6 button.colab-df-convert');\n",
              "        buttonEl.style.display =\n",
              "          google.colab.kernel.accessAllowed ? 'block' : 'none';\n",
              "\n",
              "        async function convertToInteractive(key) {\n",
              "          const element = document.querySelector('#df-0a0b6f70-15bf-4dc3-a83d-8f83c9e54ee6');\n",
              "          const dataTable =\n",
              "            await google.colab.kernel.invokeFunction('convertToInteractive',\n",
              "                                                     [key], {});\n",
              "          if (!dataTable) return;\n",
              "\n",
              "          const docLinkHtml = 'Like what you see? Visit the ' +\n",
              "            '<a target=\"_blank\" href=https://colab.research.google.com/notebooks/data_table.ipynb>data table notebook</a>'\n",
              "            + ' to learn more about interactive tables.';\n",
              "          element.innerHTML = '';\n",
              "          dataTable['output_type'] = 'display_data';\n",
              "          await google.colab.output.renderOutput(dataTable, element);\n",
              "          const docLink = document.createElement('div');\n",
              "          docLink.innerHTML = docLinkHtml;\n",
              "          element.appendChild(docLink);\n",
              "        }\n",
              "      </script>\n",
              "    </div>\n",
              "  </div>\n",
              "  "
            ]
          },
          "metadata": {},
          "execution_count": 28
        }
      ]
    },
    {
      "cell_type": "code",
      "source": [
        "s"
      ],
      "metadata": {
        "id": "Byuv8VHDLAVj",
        "outputId": "bc59d50d-acf8-4176-e4fc-988a67d5fa8d",
        "colab": {
          "base_uri": "https://localhost:8080/"
        }
      },
      "id": "Byuv8VHDLAVj",
      "execution_count": 29,
      "outputs": [
        {
          "output_type": "execute_result",
          "data": {
            "text/plain": [
              "[(3, 14),\n",
              " (3, 15),\n",
              " (2, 15),\n",
              " (2, 11),\n",
              " (2, 13),\n",
              " (2, 14),\n",
              " (1, 11),\n",
              " (3, 11),\n",
              " (4, 15),\n",
              " (3, 16)]"
            ]
          },
          "metadata": {},
          "execution_count": 29
        }
      ]
    },
    {
      "cell_type": "code",
      "source": [
        "processed_data.head(5).to_csv(\"answer\",sep=\",\")"
      ],
      "metadata": {
        "id": "-LE4cl5QZp90"
      },
      "id": "-LE4cl5QZp90",
      "execution_count": 30,
      "outputs": []
    },
    {
      "cell_type": "code",
      "source": [
        "round(processed_data.corr()[\"distance_km\"][\"passenger_count\"],3)"
      ],
      "metadata": {
        "colab": {
          "base_uri": "https://localhost:8080/"
        },
        "id": "IqgIkiS6EG4g",
        "outputId": "e2f37c70-b2d8-4137-d51c-3feaea6f0d6d"
      },
      "id": "IqgIkiS6EG4g",
      "execution_count": 31,
      "outputs": [
        {
          "output_type": "execute_result",
          "data": {
            "text/plain": [
              "0.017"
            ]
          },
          "metadata": {},
          "execution_count": 31
        }
      ]
    },
    {
      "cell_type": "code",
      "source": [
        "X = processed_data.drop(columns = \"log_trip_duration\")\n",
        "y = processed_data[\"log_trip_duration\"]"
      ],
      "metadata": {
        "id": "a_gYXFjXE4fb"
      },
      "id": "a_gYXFjXE4fb",
      "execution_count": 32,
      "outputs": []
    },
    {
      "cell_type": "markdown",
      "source": [],
      "metadata": {
        "id": "mpe0oo8PIiOt"
      },
      "id": "mpe0oo8PIiOt"
    },
    {
      "cell_type": "markdown",
      "id": "38a3d173",
      "metadata": {
        "id": "38a3d173"
      },
      "source": [
        "Что же, мы с Вами научились с помощью EDA визуализаций понимать важность признаков не только постфактум, но и до того, как сформировался финальный датасет - на этапе **выделения базовых фичей**."
      ]
    },
    {
      "cell_type": "markdown",
      "id": "c7b4a7a3",
      "metadata": {
        "id": "c7b4a7a3"
      },
      "source": [
        "Обратимся теперь к методам фильтрации - например, применим корреляционный анализ для одной пары фичей, чтобы понять, нет ли относительно этих колонок в нашем датасете избытка информации. \n",
        "\n",
        "Вспомним так же изначальные вещественные признаки - distance_km, passenger_count\n",
        "\n",
        "Посчитайте корреляцию между ними. Есть ли какие-то основания для беспокойства?"
      ]
    },
    {
      "cell_type": "code",
      "execution_count": 33,
      "id": "4d54ae07",
      "metadata": {
        "id": "4d54ae07",
        "colab": {
          "base_uri": "https://localhost:8080/",
          "height": 328
        },
        "outputId": "e8d5b49d-e784-4f6c-b955-c1f910f5f628"
      },
      "outputs": [
        {
          "output_type": "execute_result",
          "data": {
            "text/plain": [
              "           vendor_id  passenger_count  store_and_fwd_flag  distance_km  \\\n",
              "id                                                                       \n",
              "id2875421          1       930.399753                   0     1.500479   \n",
              "id2377394          0       930.399753                   0     1.807119   \n",
              "id3858529          1       930.399753                   0     6.392080   \n",
              "id3504673          1       930.399753                   0     1.487155   \n",
              "id2181028          1       930.399753                   0     1.189925   \n",
              "\n",
              "           log_trip_duration  anomaly  traffic_jam  day_of_week_1  \\\n",
              "id                                                                  \n",
              "id2875421           6.122493        0            0              0   \n",
              "id2377394           6.498282        0            0              0   \n",
              "id3858529           7.661527        0            1              1   \n",
              "id3504673           6.063785        0            0              0   \n",
              "id2181028           6.077642        0            0              0   \n",
              "\n",
              "           day_of_week_2  day_of_week_3  ...  hour_19  hour_20  hour_21  \\\n",
              "id                                       ...                              \n",
              "id2875421              0              0  ...        0        0        0   \n",
              "id2377394              0              0  ...        0        0        0   \n",
              "id3858529              0              0  ...        0        0        0   \n",
              "id3504673              1              0  ...        1        0        0   \n",
              "id2181028              0              0  ...        0        0        0   \n",
              "\n",
              "           hour_22  hour_23  month_2  month_3  month_4  month_5  month_6  \n",
              "id                                                                        \n",
              "id2875421        0        0        0        1        0        0        0  \n",
              "id2377394        0        0        0        0        0        0        1  \n",
              "id3858529        0        0        0        0        0        0        0  \n",
              "id3504673        0        0        0        0        1        0        0  \n",
              "id2181028        0        0        0        1        0        0        0  \n",
              "\n",
              "[5 rows x 41 columns]"
            ],
            "text/html": [
              "\n",
              "  <div id=\"df-f07e132b-0cb1-4f1c-80f3-fd2b818c3fa6\">\n",
              "    <div class=\"colab-df-container\">\n",
              "      <div>\n",
              "<style scoped>\n",
              "    .dataframe tbody tr th:only-of-type {\n",
              "        vertical-align: middle;\n",
              "    }\n",
              "\n",
              "    .dataframe tbody tr th {\n",
              "        vertical-align: top;\n",
              "    }\n",
              "\n",
              "    .dataframe thead th {\n",
              "        text-align: right;\n",
              "    }\n",
              "</style>\n",
              "<table border=\"1\" class=\"dataframe\">\n",
              "  <thead>\n",
              "    <tr style=\"text-align: right;\">\n",
              "      <th></th>\n",
              "      <th>vendor_id</th>\n",
              "      <th>passenger_count</th>\n",
              "      <th>store_and_fwd_flag</th>\n",
              "      <th>distance_km</th>\n",
              "      <th>log_trip_duration</th>\n",
              "      <th>anomaly</th>\n",
              "      <th>traffic_jam</th>\n",
              "      <th>day_of_week_1</th>\n",
              "      <th>day_of_week_2</th>\n",
              "      <th>day_of_week_3</th>\n",
              "      <th>...</th>\n",
              "      <th>hour_19</th>\n",
              "      <th>hour_20</th>\n",
              "      <th>hour_21</th>\n",
              "      <th>hour_22</th>\n",
              "      <th>hour_23</th>\n",
              "      <th>month_2</th>\n",
              "      <th>month_3</th>\n",
              "      <th>month_4</th>\n",
              "      <th>month_5</th>\n",
              "      <th>month_6</th>\n",
              "    </tr>\n",
              "    <tr>\n",
              "      <th>id</th>\n",
              "      <th></th>\n",
              "      <th></th>\n",
              "      <th></th>\n",
              "      <th></th>\n",
              "      <th></th>\n",
              "      <th></th>\n",
              "      <th></th>\n",
              "      <th></th>\n",
              "      <th></th>\n",
              "      <th></th>\n",
              "      <th></th>\n",
              "      <th></th>\n",
              "      <th></th>\n",
              "      <th></th>\n",
              "      <th></th>\n",
              "      <th></th>\n",
              "      <th></th>\n",
              "      <th></th>\n",
              "      <th></th>\n",
              "      <th></th>\n",
              "      <th></th>\n",
              "    </tr>\n",
              "  </thead>\n",
              "  <tbody>\n",
              "    <tr>\n",
              "      <th>id2875421</th>\n",
              "      <td>1</td>\n",
              "      <td>930.399753</td>\n",
              "      <td>0</td>\n",
              "      <td>1.500479</td>\n",
              "      <td>6.122493</td>\n",
              "      <td>0</td>\n",
              "      <td>0</td>\n",
              "      <td>0</td>\n",
              "      <td>0</td>\n",
              "      <td>0</td>\n",
              "      <td>...</td>\n",
              "      <td>0</td>\n",
              "      <td>0</td>\n",
              "      <td>0</td>\n",
              "      <td>0</td>\n",
              "      <td>0</td>\n",
              "      <td>0</td>\n",
              "      <td>1</td>\n",
              "      <td>0</td>\n",
              "      <td>0</td>\n",
              "      <td>0</td>\n",
              "    </tr>\n",
              "    <tr>\n",
              "      <th>id2377394</th>\n",
              "      <td>0</td>\n",
              "      <td>930.399753</td>\n",
              "      <td>0</td>\n",
              "      <td>1.807119</td>\n",
              "      <td>6.498282</td>\n",
              "      <td>0</td>\n",
              "      <td>0</td>\n",
              "      <td>0</td>\n",
              "      <td>0</td>\n",
              "      <td>0</td>\n",
              "      <td>...</td>\n",
              "      <td>0</td>\n",
              "      <td>0</td>\n",
              "      <td>0</td>\n",
              "      <td>0</td>\n",
              "      <td>0</td>\n",
              "      <td>0</td>\n",
              "      <td>0</td>\n",
              "      <td>0</td>\n",
              "      <td>0</td>\n",
              "      <td>1</td>\n",
              "    </tr>\n",
              "    <tr>\n",
              "      <th>id3858529</th>\n",
              "      <td>1</td>\n",
              "      <td>930.399753</td>\n",
              "      <td>0</td>\n",
              "      <td>6.392080</td>\n",
              "      <td>7.661527</td>\n",
              "      <td>0</td>\n",
              "      <td>1</td>\n",
              "      <td>1</td>\n",
              "      <td>0</td>\n",
              "      <td>0</td>\n",
              "      <td>...</td>\n",
              "      <td>0</td>\n",
              "      <td>0</td>\n",
              "      <td>0</td>\n",
              "      <td>0</td>\n",
              "      <td>0</td>\n",
              "      <td>0</td>\n",
              "      <td>0</td>\n",
              "      <td>0</td>\n",
              "      <td>0</td>\n",
              "      <td>0</td>\n",
              "    </tr>\n",
              "    <tr>\n",
              "      <th>id3504673</th>\n",
              "      <td>1</td>\n",
              "      <td>930.399753</td>\n",
              "      <td>0</td>\n",
              "      <td>1.487155</td>\n",
              "      <td>6.063785</td>\n",
              "      <td>0</td>\n",
              "      <td>0</td>\n",
              "      <td>0</td>\n",
              "      <td>1</td>\n",
              "      <td>0</td>\n",
              "      <td>...</td>\n",
              "      <td>1</td>\n",
              "      <td>0</td>\n",
              "      <td>0</td>\n",
              "      <td>0</td>\n",
              "      <td>0</td>\n",
              "      <td>0</td>\n",
              "      <td>0</td>\n",
              "      <td>1</td>\n",
              "      <td>0</td>\n",
              "      <td>0</td>\n",
              "    </tr>\n",
              "    <tr>\n",
              "      <th>id2181028</th>\n",
              "      <td>1</td>\n",
              "      <td>930.399753</td>\n",
              "      <td>0</td>\n",
              "      <td>1.189925</td>\n",
              "      <td>6.077642</td>\n",
              "      <td>0</td>\n",
              "      <td>0</td>\n",
              "      <td>0</td>\n",
              "      <td>0</td>\n",
              "      <td>0</td>\n",
              "      <td>...</td>\n",
              "      <td>0</td>\n",
              "      <td>0</td>\n",
              "      <td>0</td>\n",
              "      <td>0</td>\n",
              "      <td>0</td>\n",
              "      <td>0</td>\n",
              "      <td>1</td>\n",
              "      <td>0</td>\n",
              "      <td>0</td>\n",
              "      <td>0</td>\n",
              "    </tr>\n",
              "  </tbody>\n",
              "</table>\n",
              "<p>5 rows × 41 columns</p>\n",
              "</div>\n",
              "      <button class=\"colab-df-convert\" onclick=\"convertToInteractive('df-f07e132b-0cb1-4f1c-80f3-fd2b818c3fa6')\"\n",
              "              title=\"Convert this dataframe to an interactive table.\"\n",
              "              style=\"display:none;\">\n",
              "        \n",
              "  <svg xmlns=\"http://www.w3.org/2000/svg\" height=\"24px\"viewBox=\"0 0 24 24\"\n",
              "       width=\"24px\">\n",
              "    <path d=\"M0 0h24v24H0V0z\" fill=\"none\"/>\n",
              "    <path d=\"M18.56 5.44l.94 2.06.94-2.06 2.06-.94-2.06-.94-.94-2.06-.94 2.06-2.06.94zm-11 1L8.5 8.5l.94-2.06 2.06-.94-2.06-.94L8.5 2.5l-.94 2.06-2.06.94zm10 10l.94 2.06.94-2.06 2.06-.94-2.06-.94-.94-2.06-.94 2.06-2.06.94z\"/><path d=\"M17.41 7.96l-1.37-1.37c-.4-.4-.92-.59-1.43-.59-.52 0-1.04.2-1.43.59L10.3 9.45l-7.72 7.72c-.78.78-.78 2.05 0 2.83L4 21.41c.39.39.9.59 1.41.59.51 0 1.02-.2 1.41-.59l7.78-7.78 2.81-2.81c.8-.78.8-2.07 0-2.86zM5.41 20L4 18.59l7.72-7.72 1.47 1.35L5.41 20z\"/>\n",
              "  </svg>\n",
              "      </button>\n",
              "      \n",
              "  <style>\n",
              "    .colab-df-container {\n",
              "      display:flex;\n",
              "      flex-wrap:wrap;\n",
              "      gap: 12px;\n",
              "    }\n",
              "\n",
              "    .colab-df-convert {\n",
              "      background-color: #E8F0FE;\n",
              "      border: none;\n",
              "      border-radius: 50%;\n",
              "      cursor: pointer;\n",
              "      display: none;\n",
              "      fill: #1967D2;\n",
              "      height: 32px;\n",
              "      padding: 0 0 0 0;\n",
              "      width: 32px;\n",
              "    }\n",
              "\n",
              "    .colab-df-convert:hover {\n",
              "      background-color: #E2EBFA;\n",
              "      box-shadow: 0px 1px 2px rgba(60, 64, 67, 0.3), 0px 1px 3px 1px rgba(60, 64, 67, 0.15);\n",
              "      fill: #174EA6;\n",
              "    }\n",
              "\n",
              "    [theme=dark] .colab-df-convert {\n",
              "      background-color: #3B4455;\n",
              "      fill: #D2E3FC;\n",
              "    }\n",
              "\n",
              "    [theme=dark] .colab-df-convert:hover {\n",
              "      background-color: #434B5C;\n",
              "      box-shadow: 0px 1px 3px 1px rgba(0, 0, 0, 0.15);\n",
              "      filter: drop-shadow(0px 1px 2px rgba(0, 0, 0, 0.3));\n",
              "      fill: #FFFFFF;\n",
              "    }\n",
              "  </style>\n",
              "\n",
              "      <script>\n",
              "        const buttonEl =\n",
              "          document.querySelector('#df-f07e132b-0cb1-4f1c-80f3-fd2b818c3fa6 button.colab-df-convert');\n",
              "        buttonEl.style.display =\n",
              "          google.colab.kernel.accessAllowed ? 'block' : 'none';\n",
              "\n",
              "        async function convertToInteractive(key) {\n",
              "          const element = document.querySelector('#df-f07e132b-0cb1-4f1c-80f3-fd2b818c3fa6');\n",
              "          const dataTable =\n",
              "            await google.colab.kernel.invokeFunction('convertToInteractive',\n",
              "                                                     [key], {});\n",
              "          if (!dataTable) return;\n",
              "\n",
              "          const docLinkHtml = 'Like what you see? Visit the ' +\n",
              "            '<a target=\"_blank\" href=https://colab.research.google.com/notebooks/data_table.ipynb>data table notebook</a>'\n",
              "            + ' to learn more about interactive tables.';\n",
              "          element.innerHTML = '';\n",
              "          dataTable['output_type'] = 'display_data';\n",
              "          await google.colab.output.renderOutput(dataTable, element);\n",
              "          const docLink = document.createElement('div');\n",
              "          docLink.innerHTML = docLinkHtml;\n",
              "          element.appendChild(docLink);\n",
              "        }\n",
              "      </script>\n",
              "    </div>\n",
              "  </div>\n",
              "  "
            ]
          },
          "metadata": {},
          "execution_count": 33
        }
      ],
      "source": [
        "processed_data.head()"
      ]
    },
    {
      "cell_type": "code",
      "source": [
        "processed_data.shape"
      ],
      "metadata": {
        "id": "gZz94S5n2BVz",
        "colab": {
          "base_uri": "https://localhost:8080/"
        },
        "outputId": "6b7117aa-f78d-44a5-b9a7-e3beee6f0468"
      },
      "id": "gZz94S5n2BVz",
      "execution_count": 34,
      "outputs": [
        {
          "output_type": "execute_result",
          "data": {
            "text/plain": [
              "(1458644, 41)"
            ]
          },
          "metadata": {},
          "execution_count": 34
        }
      ]
    },
    {
      "cell_type": "code",
      "execution_count": 35,
      "id": "aa1f7faa",
      "metadata": {
        "id": "aa1f7faa"
      },
      "outputs": [],
      "source": [
        "### На данный момент у нас 41 фича\n",
        "### Представим, что хочется сократить их количество до 5.\n",
        "### Воспользуемся для этим каким-нибудь методом обертки\n",
        "### Например, метод прямого отбора\n",
        "\n",
        "### Your code is here\n"
      ]
    },
    {
      "cell_type": "code",
      "source": [
        "from sklearn.linear_model import LinearRegression\n",
        "\n",
        "model = LinearRegression()\n",
        "\n",
        "from sklearn.feature_selection import SequentialFeatureSelector\n",
        "\n",
        "sfs = SequentialFeatureSelector(model, n_features_to_select=5)\n",
        "sfs.fit(X, y)"
      ],
      "metadata": {
        "id": "tPLj4jh92gLx",
        "colab": {
          "base_uri": "https://localhost:8080/"
        },
        "outputId": "b79a2bb6-b0ef-4ac2-b4f2-86db38dd1e02"
      },
      "id": "tPLj4jh92gLx",
      "execution_count": 36,
      "outputs": [
        {
          "output_type": "execute_result",
          "data": {
            "text/plain": [
              "SequentialFeatureSelector(estimator=LinearRegression(), n_features_to_select=5)"
            ]
          },
          "metadata": {},
          "execution_count": 36
        }
      ]
    },
    {
      "cell_type": "code",
      "source": [
        "col_for_model = list(sfs.get_feature_names_out())"
      ],
      "metadata": {
        "id": "2-a4qKxgGQyD"
      },
      "id": "2-a4qKxgGQyD",
      "execution_count": 37,
      "outputs": []
    },
    {
      "cell_type": "code",
      "source": [],
      "metadata": {
        "id": "ZZBC74_IGpBh"
      },
      "id": "ZZBC74_IGpBh",
      "execution_count": 37,
      "outputs": []
    },
    {
      "cell_type": "code",
      "source": [
        "from sklearn.model_selection import train_test_split\n"
      ],
      "metadata": {
        "id": "y7cslcCsG7ra"
      },
      "id": "y7cslcCsG7ra",
      "execution_count": 38,
      "outputs": []
    },
    {
      "cell_type": "code",
      "source": [
        "X_train, X_test, y_train, y_test = train_test_split(X[col_for_model], y, test_size=0.2, random_state=42)"
      ],
      "metadata": {
        "id": "fvr4e6XuHkbR"
      },
      "id": "fvr4e6XuHkbR",
      "execution_count": 39,
      "outputs": []
    },
    {
      "cell_type": "code",
      "source": [
        "model = LinearRegression()"
      ],
      "metadata": {
        "id": "R2KKvWn1Httg"
      },
      "id": "R2KKvWn1Httg",
      "execution_count": 40,
      "outputs": []
    },
    {
      "cell_type": "code",
      "source": [
        "model.fit(X_train,y_train)"
      ],
      "metadata": {
        "colab": {
          "base_uri": "https://localhost:8080/"
        },
        "id": "dqv2BIPtHu2R",
        "outputId": "d4c4f86e-2822-467f-fb64-2c2d5444f526"
      },
      "id": "dqv2BIPtHu2R",
      "execution_count": 41,
      "outputs": [
        {
          "output_type": "execute_result",
          "data": {
            "text/plain": [
              "LinearRegression()"
            ]
          },
          "metadata": {},
          "execution_count": 41
        }
      ]
    },
    {
      "cell_type": "code",
      "source": [
        "ans = model.predict(X_test)"
      ],
      "metadata": {
        "id": "cUPimvLyH1A1"
      },
      "id": "cUPimvLyH1A1",
      "execution_count": 42,
      "outputs": []
    },
    {
      "cell_type": "code",
      "source": [
        "print(round(((ans - y_test)**2).mean(),3))"
      ],
      "metadata": {
        "colab": {
          "base_uri": "https://localhost:8080/"
        },
        "id": "kUR79j8xH7h8",
        "outputId": "e0082a5f-efff-4b0b-f1c9-7540240d975b"
      },
      "id": "kUR79j8xH7h8",
      "execution_count": 43,
      "outputs": [
        {
          "output_type": "stream",
          "name": "stdout",
          "text": [
            "0.398\n"
          ]
        }
      ]
    },
    {
      "cell_type": "code",
      "execution_count": 44,
      "id": "9745be8c",
      "metadata": {
        "id": "9745be8c"
      },
      "outputs": [],
      "source": [
        "### Перечислите фичи, которые окажутся наиболее желанными\n",
        "### Your code is here\n"
      ]
    },
    {
      "cell_type": "code",
      "execution_count": 45,
      "id": "ffcb5fc6",
      "metadata": {
        "id": "ffcb5fc6"
      },
      "outputs": [],
      "source": [
        "### Представим, что мы с Вами ничего не знаем про Кросс-Валидацию и отложенную выборку\n",
        "### Замерьте качество линейной регрессии на данных фичах\n",
        "### Сильно ли оно отличается от полученного на Кросс-Валидации в прошлом уроке в ДЗ?\n",
        "\n",
        "### Your code is here\n",
        "\n"
      ]
    },
    {
      "cell_type": "code",
      "execution_count": 45,
      "id": "b17b6f7b",
      "metadata": {
        "id": "b17b6f7b"
      },
      "outputs": [],
      "source": []
    }
  ],
  "metadata": {
    "kernelspec": {
      "display_name": "Python 3 (ipykernel)",
      "language": "python",
      "name": "python3"
    },
    "language_info": {
      "codemirror_mode": {
        "name": "ipython",
        "version": 3
      },
      "file_extension": ".py",
      "mimetype": "text/x-python",
      "name": "python",
      "nbconvert_exporter": "python",
      "pygments_lexer": "ipython3",
      "version": "3.8.10"
    },
    "colab": {
      "provenance": []
    }
  },
  "nbformat": 4,
  "nbformat_minor": 5
}