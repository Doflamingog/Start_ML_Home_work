{
  "cells": [
    {
      "cell_type": "markdown",
      "metadata": {
        "id": "Hhed4P-bWAnP"
      },
      "source": [
        "### Метрики качества классификации.\n",
        "\n",
        "Сегодня мы научимся использовать различные метрики для оценки качества моделей.\n",
        "\n",
        "Для начала загрузим данные с предыдущей домашней задачи с небольшим `сюрпризом`. "
      ]
    },
    {
      "cell_type": "code",
      "execution_count": null,
      "metadata": {
        "_cell_guid": "b1076dfc-b9ad-4769-8c92-a6c4dae69d19",
        "_uuid": "8f2839f25d086af736a60e9eeb907d3b93b6e0e5",
        "execution": {
          "iopub.execute_input": "2022-04-18T19:36:17.596948Z",
          "iopub.status.busy": "2022-04-18T19:36:17.596460Z",
          "iopub.status.idle": "2022-04-18T19:36:17.631863Z",
          "shell.execute_reply": "2022-04-18T19:36:17.630527Z",
          "shell.execute_reply.started": "2022-04-18T19:36:17.596825Z"
        },
        "id": "ILDe3UYkWAnR"
      },
      "outputs": [],
      "source": [
        "import numpy as np\n",
        "import pandas as pd\n",
        "import matplotlib.pyplot as plt"
      ]
    },
    {
      "cell_type": "code",
      "source": [
        "from google.colab import drive\n",
        "drive.mount('/content/drive')"
      ],
      "metadata": {
        "id": "0d8GAUF6WDl2",
        "outputId": "a2059a16-c451-4fe9-fd75-3adf631b9974",
        "colab": {
          "base_uri": "https://localhost:8080/"
        }
      },
      "execution_count": null,
      "outputs": [
        {
          "output_type": "stream",
          "name": "stdout",
          "text": [
            "Drive already mounted at /content/drive; to attempt to forcibly remount, call drive.mount(\"/content/drive\", force_remount=True).\n"
          ]
        }
      ]
    },
    {
      "cell_type": "code",
      "execution_count": null,
      "metadata": {
        "execution": {
          "iopub.execute_input": "2022-04-18T19:36:21.376003Z",
          "iopub.status.busy": "2022-04-18T19:36:21.375153Z",
          "iopub.status.idle": "2022-04-18T19:40:24.843185Z",
          "shell.execute_reply": "2022-04-18T19:40:24.841980Z",
          "shell.execute_reply.started": "2022-04-18T19:36:21.375950Z"
        },
        "id": "mGiwKpC8WAnS"
      },
      "outputs": [],
      "source": [
        "data = pd.read_csv(\"/content/drive/MyDrive/csv/processed_train.csv\")"
      ]
    },
    {
      "cell_type": "code",
      "execution_count": null,
      "metadata": {
        "id": "yISnNiAxWAnS",
        "outputId": "455d6815-4e0a-47a0-e293-29bb465dca5a",
        "colab": {
          "base_uri": "https://localhost:8080/",
          "height": 297
        }
      },
      "outputs": [
        {
          "output_type": "execute_result",
          "data": {
            "text/plain": [
              "   EngineVersion  AppVersion  AvSigVersion  RtpStateBitfield  \\\n",
              "0       0.552153    0.530941      0.587952               7.0   \n",
              "1       0.448751    0.528931      0.484434               7.0   \n",
              "2       0.552153    0.530941      0.557522               7.0   \n",
              "3       0.552153    0.530941      0.482759               7.0   \n",
              "4       0.493175    0.530941      0.505721               7.0   \n",
              "\n",
              "   IsSxsPassiveMode  AVProductStatesIdentifier  AVProductsInstalled  \\\n",
              "0                 0                    53447.0                  1.0   \n",
              "1                 0                    53447.0                  1.0   \n",
              "2                 0                    53447.0                  1.0   \n",
              "3                 0                    53447.0                  1.0   \n",
              "4                 0                    53447.0                  1.0   \n",
              "\n",
              "   AVProductsEnabled  HasTpm  CountryIdentifier  ...  Platform_windows8  \\\n",
              "0                1.0       1                 29  ...                  0   \n",
              "1                1.0       1                 93  ...                  0   \n",
              "2                1.0       1                 86  ...                  0   \n",
              "3                1.0       1                 97  ...                  0   \n",
              "4                1.0       1                164  ...                  0   \n",
              "\n",
              "   Processor_x64  Processor_x86  Census_DeviceFamily_Windows.Server  \\\n",
              "0              1              0                                   0   \n",
              "1              1              0                                   0   \n",
              "2              1              0                                   0   \n",
              "3              1              0                                   0   \n",
              "4              1              0                                   0   \n",
              "\n",
              "   Census_OSArchitecture_arm64  Census_OSArchitecture_x86  \\\n",
              "0                            0                          0   \n",
              "1                            0                          0   \n",
              "2                            0                          0   \n",
              "3                            0                          0   \n",
              "4                            0                          0   \n",
              "\n",
              "   Census_GenuineStateName_IS_GENUINE  Census_GenuineStateName_OFFLINE  \\\n",
              "0                                   1                                0   \n",
              "1                                   0                                1   \n",
              "2                                   1                                0   \n",
              "3                                   1                                0   \n",
              "4                                   1                                0   \n",
              "\n",
              "   Census_GenuineStateName_UNKNOWN  HasDetections  \n",
              "0                                0              0  \n",
              "1                                0              0  \n",
              "2                                0              0  \n",
              "3                                0              0  \n",
              "4                                0              0  \n",
              "\n",
              "[5 rows x 79 columns]"
            ],
            "text/html": [
              "\n",
              "  <div id=\"df-1551d205-d8f0-48e1-a32a-0802a675982d\">\n",
              "    <div class=\"colab-df-container\">\n",
              "      <div>\n",
              "<style scoped>\n",
              "    .dataframe tbody tr th:only-of-type {\n",
              "        vertical-align: middle;\n",
              "    }\n",
              "\n",
              "    .dataframe tbody tr th {\n",
              "        vertical-align: top;\n",
              "    }\n",
              "\n",
              "    .dataframe thead th {\n",
              "        text-align: right;\n",
              "    }\n",
              "</style>\n",
              "<table border=\"1\" class=\"dataframe\">\n",
              "  <thead>\n",
              "    <tr style=\"text-align: right;\">\n",
              "      <th></th>\n",
              "      <th>EngineVersion</th>\n",
              "      <th>AppVersion</th>\n",
              "      <th>AvSigVersion</th>\n",
              "      <th>RtpStateBitfield</th>\n",
              "      <th>IsSxsPassiveMode</th>\n",
              "      <th>AVProductStatesIdentifier</th>\n",
              "      <th>AVProductsInstalled</th>\n",
              "      <th>AVProductsEnabled</th>\n",
              "      <th>HasTpm</th>\n",
              "      <th>CountryIdentifier</th>\n",
              "      <th>...</th>\n",
              "      <th>Platform_windows8</th>\n",
              "      <th>Processor_x64</th>\n",
              "      <th>Processor_x86</th>\n",
              "      <th>Census_DeviceFamily_Windows.Server</th>\n",
              "      <th>Census_OSArchitecture_arm64</th>\n",
              "      <th>Census_OSArchitecture_x86</th>\n",
              "      <th>Census_GenuineStateName_IS_GENUINE</th>\n",
              "      <th>Census_GenuineStateName_OFFLINE</th>\n",
              "      <th>Census_GenuineStateName_UNKNOWN</th>\n",
              "      <th>HasDetections</th>\n",
              "    </tr>\n",
              "  </thead>\n",
              "  <tbody>\n",
              "    <tr>\n",
              "      <th>0</th>\n",
              "      <td>0.552153</td>\n",
              "      <td>0.530941</td>\n",
              "      <td>0.587952</td>\n",
              "      <td>7.0</td>\n",
              "      <td>0</td>\n",
              "      <td>53447.0</td>\n",
              "      <td>1.0</td>\n",
              "      <td>1.0</td>\n",
              "      <td>1</td>\n",
              "      <td>29</td>\n",
              "      <td>...</td>\n",
              "      <td>0</td>\n",
              "      <td>1</td>\n",
              "      <td>0</td>\n",
              "      <td>0</td>\n",
              "      <td>0</td>\n",
              "      <td>0</td>\n",
              "      <td>1</td>\n",
              "      <td>0</td>\n",
              "      <td>0</td>\n",
              "      <td>0</td>\n",
              "    </tr>\n",
              "    <tr>\n",
              "      <th>1</th>\n",
              "      <td>0.448751</td>\n",
              "      <td>0.528931</td>\n",
              "      <td>0.484434</td>\n",
              "      <td>7.0</td>\n",
              "      <td>0</td>\n",
              "      <td>53447.0</td>\n",
              "      <td>1.0</td>\n",
              "      <td>1.0</td>\n",
              "      <td>1</td>\n",
              "      <td>93</td>\n",
              "      <td>...</td>\n",
              "      <td>0</td>\n",
              "      <td>1</td>\n",
              "      <td>0</td>\n",
              "      <td>0</td>\n",
              "      <td>0</td>\n",
              "      <td>0</td>\n",
              "      <td>0</td>\n",
              "      <td>1</td>\n",
              "      <td>0</td>\n",
              "      <td>0</td>\n",
              "    </tr>\n",
              "    <tr>\n",
              "      <th>2</th>\n",
              "      <td>0.552153</td>\n",
              "      <td>0.530941</td>\n",
              "      <td>0.557522</td>\n",
              "      <td>7.0</td>\n",
              "      <td>0</td>\n",
              "      <td>53447.0</td>\n",
              "      <td>1.0</td>\n",
              "      <td>1.0</td>\n",
              "      <td>1</td>\n",
              "      <td>86</td>\n",
              "      <td>...</td>\n",
              "      <td>0</td>\n",
              "      <td>1</td>\n",
              "      <td>0</td>\n",
              "      <td>0</td>\n",
              "      <td>0</td>\n",
              "      <td>0</td>\n",
              "      <td>1</td>\n",
              "      <td>0</td>\n",
              "      <td>0</td>\n",
              "      <td>0</td>\n",
              "    </tr>\n",
              "    <tr>\n",
              "      <th>3</th>\n",
              "      <td>0.552153</td>\n",
              "      <td>0.530941</td>\n",
              "      <td>0.482759</td>\n",
              "      <td>7.0</td>\n",
              "      <td>0</td>\n",
              "      <td>53447.0</td>\n",
              "      <td>1.0</td>\n",
              "      <td>1.0</td>\n",
              "      <td>1</td>\n",
              "      <td>97</td>\n",
              "      <td>...</td>\n",
              "      <td>0</td>\n",
              "      <td>1</td>\n",
              "      <td>0</td>\n",
              "      <td>0</td>\n",
              "      <td>0</td>\n",
              "      <td>0</td>\n",
              "      <td>1</td>\n",
              "      <td>0</td>\n",
              "      <td>0</td>\n",
              "      <td>0</td>\n",
              "    </tr>\n",
              "    <tr>\n",
              "      <th>4</th>\n",
              "      <td>0.493175</td>\n",
              "      <td>0.530941</td>\n",
              "      <td>0.505721</td>\n",
              "      <td>7.0</td>\n",
              "      <td>0</td>\n",
              "      <td>53447.0</td>\n",
              "      <td>1.0</td>\n",
              "      <td>1.0</td>\n",
              "      <td>1</td>\n",
              "      <td>164</td>\n",
              "      <td>...</td>\n",
              "      <td>0</td>\n",
              "      <td>1</td>\n",
              "      <td>0</td>\n",
              "      <td>0</td>\n",
              "      <td>0</td>\n",
              "      <td>0</td>\n",
              "      <td>1</td>\n",
              "      <td>0</td>\n",
              "      <td>0</td>\n",
              "      <td>0</td>\n",
              "    </tr>\n",
              "  </tbody>\n",
              "</table>\n",
              "<p>5 rows × 79 columns</p>\n",
              "</div>\n",
              "      <button class=\"colab-df-convert\" onclick=\"convertToInteractive('df-1551d205-d8f0-48e1-a32a-0802a675982d')\"\n",
              "              title=\"Convert this dataframe to an interactive table.\"\n",
              "              style=\"display:none;\">\n",
              "        \n",
              "  <svg xmlns=\"http://www.w3.org/2000/svg\" height=\"24px\"viewBox=\"0 0 24 24\"\n",
              "       width=\"24px\">\n",
              "    <path d=\"M0 0h24v24H0V0z\" fill=\"none\"/>\n",
              "    <path d=\"M18.56 5.44l.94 2.06.94-2.06 2.06-.94-2.06-.94-.94-2.06-.94 2.06-2.06.94zm-11 1L8.5 8.5l.94-2.06 2.06-.94-2.06-.94L8.5 2.5l-.94 2.06-2.06.94zm10 10l.94 2.06.94-2.06 2.06-.94-2.06-.94-.94-2.06-.94 2.06-2.06.94z\"/><path d=\"M17.41 7.96l-1.37-1.37c-.4-.4-.92-.59-1.43-.59-.52 0-1.04.2-1.43.59L10.3 9.45l-7.72 7.72c-.78.78-.78 2.05 0 2.83L4 21.41c.39.39.9.59 1.41.59.51 0 1.02-.2 1.41-.59l7.78-7.78 2.81-2.81c.8-.78.8-2.07 0-2.86zM5.41 20L4 18.59l7.72-7.72 1.47 1.35L5.41 20z\"/>\n",
              "  </svg>\n",
              "      </button>\n",
              "      \n",
              "  <style>\n",
              "    .colab-df-container {\n",
              "      display:flex;\n",
              "      flex-wrap:wrap;\n",
              "      gap: 12px;\n",
              "    }\n",
              "\n",
              "    .colab-df-convert {\n",
              "      background-color: #E8F0FE;\n",
              "      border: none;\n",
              "      border-radius: 50%;\n",
              "      cursor: pointer;\n",
              "      display: none;\n",
              "      fill: #1967D2;\n",
              "      height: 32px;\n",
              "      padding: 0 0 0 0;\n",
              "      width: 32px;\n",
              "    }\n",
              "\n",
              "    .colab-df-convert:hover {\n",
              "      background-color: #E2EBFA;\n",
              "      box-shadow: 0px 1px 2px rgba(60, 64, 67, 0.3), 0px 1px 3px 1px rgba(60, 64, 67, 0.15);\n",
              "      fill: #174EA6;\n",
              "    }\n",
              "\n",
              "    [theme=dark] .colab-df-convert {\n",
              "      background-color: #3B4455;\n",
              "      fill: #D2E3FC;\n",
              "    }\n",
              "\n",
              "    [theme=dark] .colab-df-convert:hover {\n",
              "      background-color: #434B5C;\n",
              "      box-shadow: 0px 1px 3px 1px rgba(0, 0, 0, 0.15);\n",
              "      filter: drop-shadow(0px 1px 2px rgba(0, 0, 0, 0.3));\n",
              "      fill: #FFFFFF;\n",
              "    }\n",
              "  </style>\n",
              "\n",
              "      <script>\n",
              "        const buttonEl =\n",
              "          document.querySelector('#df-1551d205-d8f0-48e1-a32a-0802a675982d button.colab-df-convert');\n",
              "        buttonEl.style.display =\n",
              "          google.colab.kernel.accessAllowed ? 'block' : 'none';\n",
              "\n",
              "        async function convertToInteractive(key) {\n",
              "          const element = document.querySelector('#df-1551d205-d8f0-48e1-a32a-0802a675982d');\n",
              "          const dataTable =\n",
              "            await google.colab.kernel.invokeFunction('convertToInteractive',\n",
              "                                                     [key], {});\n",
              "          if (!dataTable) return;\n",
              "\n",
              "          const docLinkHtml = 'Like what you see? Visit the ' +\n",
              "            '<a target=\"_blank\" href=https://colab.research.google.com/notebooks/data_table.ipynb>data table notebook</a>'\n",
              "            + ' to learn more about interactive tables.';\n",
              "          element.innerHTML = '';\n",
              "          dataTable['output_type'] = 'display_data';\n",
              "          await google.colab.output.renderOutput(dataTable, element);\n",
              "          const docLink = document.createElement('div');\n",
              "          docLink.innerHTML = docLinkHtml;\n",
              "          element.appendChild(docLink);\n",
              "        }\n",
              "      </script>\n",
              "    </div>\n",
              "  </div>\n",
              "  "
            ]
          },
          "metadata": {},
          "execution_count": 4
        }
      ],
      "source": [
        "data.head()"
      ]
    },
    {
      "cell_type": "markdown",
      "metadata": {
        "id": "gXNJHEapWAnT"
      },
      "source": [
        "Один из гномов очень завидовал своим братьям, переплюнувшим его по `accuracy` в бонусном задании предыдущей домашней работы. Поэтому совершил следующее злодеяние: выкинул кучу объектов таким образом, чтобы баланс классов нарушился! \n",
        "\n",
        "`Может, accuracy у них станет еще больше, зато преподаватель их отругает, ведь использовать accuracy при дисбалансе не очень-то хорошо!` - подумал гном\n",
        "\n",
        "Замерьте количество объектов в порченном датафрейме.\n",
        "В какой пропорции соотносятся классы теперь?"
      ]
    },
    {
      "cell_type": "code",
      "execution_count": null,
      "metadata": {
        "execution": {
          "iopub.execute_input": "2022-04-18T20:14:01.576406Z",
          "iopub.status.busy": "2022-04-18T20:14:01.576086Z",
          "iopub.status.idle": "2022-04-18T20:14:01.616370Z",
          "shell.execute_reply": "2022-04-18T20:14:01.614785Z",
          "shell.execute_reply.started": "2022-04-18T20:14:01.576375Z"
        },
        "id": "-RNxFusaWAnT",
        "colab": {
          "base_uri": "https://localhost:8080/"
        },
        "outputId": "38fcfeba-2418-4ea9-864c-c0371d1fb131"
      },
      "outputs": [
        {
          "output_type": "execute_result",
          "data": {
            "text/plain": [
              "0    99940\n",
              "1    20012\n",
              "Name: HasDetections, dtype: int64"
            ]
          },
          "metadata": {},
          "execution_count": 5
        }
      ],
      "source": [
        "### Your code is here\n",
        "\n",
        "data['HasDetections'].value_counts()\n",
        "\n"
      ]
    },
    {
      "cell_type": "markdown",
      "metadata": {
        "id": "xVuzOgr7WAnU"
      },
      "source": [
        "Произведем процедуру отложенной выборки:"
      ]
    },
    {
      "cell_type": "code",
      "execution_count": null,
      "metadata": {
        "id": "2SLnEZNMWAnU"
      },
      "outputs": [],
      "source": [
        "y = data['HasDetections']\n",
        "X = data.drop('HasDetections', axis=1)\n",
        "\n",
        "from sklearn.model_selection import train_test_split\n",
        "X_train, X_test, y_train, y_test  = train_test_split(X, y, \n",
        "                                                     test_size=0.25, \n",
        "                                                     shuffle=True, \n",
        "                                                     random_state=1)"
      ]
    },
    {
      "cell_type": "markdown",
      "metadata": {
        "id": "iRSK9mTPWAnV"
      },
      "source": [
        "Обучите логистическую регрессию с параметром `l2` регуляризации `C = 0.01` на порченном датасете.\n",
        "Замерьте долю верно классифицированных объектов на трейне и на тесте. Можете использовать абсолютно любые конструкции, главное не забыть пронормировать данные с помощью `StandardScaler`"
      ]
    },
    {
      "cell_type": "code",
      "execution_count": null,
      "metadata": {
        "execution": {
          "iopub.execute_input": "2022-04-18T20:20:31.238316Z",
          "iopub.status.busy": "2022-04-18T20:20:31.238010Z",
          "iopub.status.idle": "2022-04-18T20:20:55.483158Z",
          "shell.execute_reply": "2022-04-18T20:20:55.482073Z",
          "shell.execute_reply.started": "2022-04-18T20:20:31.238283Z"
        },
        "id": "YhePOSSjWAnV"
      },
      "outputs": [],
      "source": [
        "### Your code is here\n",
        "from sklearn.linear_model import LogisticRegression\n",
        "from sklearn.pipeline import Pipeline\n",
        "from sklearn.preprocessing import StandardScaler\n",
        "\n",
        "\n",
        "pipe = Pipeline([('scaler', StandardScaler()), ('LR', LogisticRegression(penalty = \"l2\",C = 0.01))])\n",
        "\n"
      ]
    },
    {
      "cell_type": "code",
      "source": [
        "pipe.fit(X_train,y_train)"
      ],
      "metadata": {
        "colab": {
          "base_uri": "https://localhost:8080/"
        },
        "id": "a947FKmqw-0b",
        "outputId": "c5e58e6d-1f65-4efe-83c7-ae430cd26214"
      },
      "execution_count": null,
      "outputs": [
        {
          "output_type": "execute_result",
          "data": {
            "text/plain": [
              "Pipeline(steps=[('scaler', StandardScaler()),\n",
              "                ('LR', LogisticRegression(C=0.01))])"
            ]
          },
          "metadata": {},
          "execution_count": 8
        }
      ]
    },
    {
      "cell_type": "code",
      "source": [
        "round(pipe.score(X_train,y_train),3)"
      ],
      "metadata": {
        "colab": {
          "base_uri": "https://localhost:8080/"
        },
        "id": "GrZbgZG-xMQN",
        "outputId": "7c3abd73-3469-41da-be7e-1253e688482a"
      },
      "execution_count": null,
      "outputs": [
        {
          "output_type": "execute_result",
          "data": {
            "text/plain": [
              "0.841"
            ]
          },
          "metadata": {},
          "execution_count": 9
        }
      ]
    },
    {
      "cell_type": "code",
      "source": [
        "round(pipe.score(X_test,y_test),3)"
      ],
      "metadata": {
        "colab": {
          "base_uri": "https://localhost:8080/"
        },
        "id": "2Y5y1nIHxEVO",
        "outputId": "f265785d-bfb8-4467-a5a9-53a40a92f960"
      },
      "execution_count": null,
      "outputs": [
        {
          "output_type": "execute_result",
          "data": {
            "text/plain": [
              "0.842"
            ]
          },
          "metadata": {},
          "execution_count": 10
        }
      ]
    },
    {
      "cell_type": "code",
      "source": [
        "answer = pipe.predict(X_test)"
      ],
      "metadata": {
        "id": "e_NkHbQgx3S_"
      },
      "execution_count": null,
      "outputs": []
    },
    {
      "cell_type": "code",
      "source": [
        "y_test.values"
      ],
      "metadata": {
        "colab": {
          "base_uri": "https://localhost:8080/"
        },
        "id": "41-7J2jFypEX",
        "outputId": "bb247865-267d-44eb-ea58-537811c68ed2"
      },
      "execution_count": null,
      "outputs": [
        {
          "output_type": "execute_result",
          "data": {
            "text/plain": [
              "array([0, 1, 1, ..., 0, 0, 0])"
            ]
          },
          "metadata": {},
          "execution_count": 12
        }
      ]
    },
    {
      "cell_type": "markdown",
      "metadata": {
        "id": "Oi5wpfOhWAnV"
      },
      "source": [
        "Кажется, что, по сравнению с результатами в предыдущей домашней работе, мы построили куда более сильную модель. Но мы сильно заблуждаемся, если в это верим!"
      ]
    },
    {
      "cell_type": "markdown",
      "metadata": {
        "id": "Lyg00VIMWAnW"
      },
      "source": [
        "**Задание 2.**\n",
        "Для бинарной классификации можно построить так называемую **confision matrix** (матрица ошибок), которая подсчитывает количество правильных и неправильных предсказаний и разделяет их по двум классам:\n",
        "\n",
        "|          | a(x) = -1  | a(x) = +1  |\n",
        "|----------|------------|------------|\n",
        "|  y = -1  |     TN     |     FP     |\n",
        "|  y = +1  |     FN     |     TP     |\n",
        "\n",
        "* Positive/Negative отражает то, к какому классу определила объект наша модель $a(x)$, в нашем случае нулевой класс соответствует Negative (нет вируса), а единичный класс - Positive (есть вирус).\n",
        "\n",
        "* True/False просто показывает совпало ли предсказание модели с реальным классом объекта, поэтому на главной диагонали стоят True, а на побочной False.\n",
        "\n",
        "**2.1)** Постройте вручную матрицу ошибок на тестовой выборке, используя реальные и предсказанные вашей моделью метки классов. Потом сравните результат с методом `confusion_matrix` в `sklearn`."
      ]
    },
    {
      "cell_type": "code",
      "execution_count": null,
      "metadata": {
        "execution": {
          "iopub.execute_input": "2022-04-18T20:21:30.605778Z",
          "iopub.status.busy": "2022-04-18T20:21:30.605442Z",
          "iopub.status.idle": "2022-04-18T20:21:30.616526Z",
          "shell.execute_reply": "2022-04-18T20:21:30.615956Z",
          "shell.execute_reply.started": "2022-04-18T20:21:30.605741Z"
        },
        "id": "h7DXtaYuWAnW"
      },
      "outputs": [],
      "source": [
        "TP = 0\n",
        "TN = 0\n",
        "FP = 0\n",
        "FN = 0\n",
        "\n",
        "\n",
        "for i in range(len(answer)):\n",
        "  if y_test.values[i] ==0:\n",
        "    if answer[i] == 0:\n",
        "      TN+=1\n",
        "    else:\n",
        "      FP +=1\n",
        "  else:\n",
        "    if answer[i] == 0:\n",
        "      FN+=1\n",
        "    else:\n",
        "      TP +=1\n",
        "\n",
        "\n",
        "\n",
        "### Your code is here\n",
        "\n",
        "\n",
        "\n",
        "\n",
        "\n"
      ]
    },
    {
      "cell_type": "code",
      "source": [
        "print(TN, FP, FN, TP)"
      ],
      "metadata": {
        "colab": {
          "base_uri": "https://localhost:8080/"
        },
        "id": "1-rmex1Ny8T3",
        "outputId": "c1003b59-c5ce-4ff4-b2a1-bf517070ba20"
      },
      "execution_count": null,
      "outputs": [
        {
          "output_type": "stream",
          "name": "stdout",
          "text": [
            "24726 293 4442 527\n"
          ]
        }
      ]
    },
    {
      "cell_type": "code",
      "execution_count": null,
      "metadata": {
        "execution": {
          "iopub.execute_input": "2022-04-18T20:21:35.011917Z",
          "iopub.status.busy": "2022-04-18T20:21:35.011578Z",
          "iopub.status.idle": "2022-04-18T20:21:35.023948Z",
          "shell.execute_reply": "2022-04-18T20:21:35.023227Z",
          "shell.execute_reply.started": "2022-04-18T20:21:35.011882Z"
        },
        "id": "WQOifOQsWAnX"
      },
      "outputs": [],
      "source": [
        "from sklearn.metrics import confusion_matrix\n",
        "\n",
        "### Your code is here\n",
        "\n",
        "\n",
        "\n",
        "\n",
        "\n",
        "\n"
      ]
    },
    {
      "cell_type": "markdown",
      "metadata": {
        "id": "1vjQETe4WAnX"
      },
      "source": [
        "**2.2)** Посчитайте стандартную метрику Accuracy на тестовой выборке c помощью матрицы ошибок. Напомним, что это просто доля верно предсказанных меток:\n",
        "$\n",
        "ACC = \\dfrac{TP + TN}{TP + TN + FP + FN}\n",
        "$.\n",
        "\n",
        "(Не стоит переводить accuracy как точность, так как под точностью иногда еще понимают precision, который является совсем другим показателем! Лучше всегда использовать английские версии метрик, чтобы не возникало недопониманий. )"
      ]
    },
    {
      "cell_type": "code",
      "execution_count": null,
      "metadata": {
        "execution": {
          "iopub.execute_input": "2022-04-18T20:21:39.346296Z",
          "iopub.status.busy": "2022-04-18T20:21:39.345406Z",
          "iopub.status.idle": "2022-04-18T20:21:39.353142Z",
          "shell.execute_reply": "2022-04-18T20:21:39.352372Z",
          "shell.execute_reply.started": "2022-04-18T20:21:39.346248Z"
        },
        "id": "dMmf2MgDWAnX"
      },
      "outputs": [],
      "source": [
        "### Your code is here\n",
        "\n",
        "ACC = (TP + TN) / (TP + TN + FP + FN)\n",
        "\n",
        "\n",
        "\n"
      ]
    },
    {
      "cell_type": "code",
      "source": [
        "ACC"
      ],
      "metadata": {
        "colab": {
          "base_uri": "https://localhost:8080/"
        },
        "id": "FGgDf7DzSNdH",
        "outputId": "649a3b90-5bb5-4b4c-893d-c20aa82cc224"
      },
      "execution_count": null,
      "outputs": [
        {
          "output_type": "execute_result",
          "data": {
            "text/plain": [
              "0.8421035080698946"
            ]
          },
          "metadata": {},
          "execution_count": 17
        }
      ]
    },
    {
      "cell_type": "markdown",
      "metadata": {
        "id": "zvPDeuIDWAnY"
      },
      "source": [
        "Мы ожидаем, что полученная accuracy совпадет с той, что была подсчитана во время использования функции `cross_validate`"
      ]
    },
    {
      "cell_type": "markdown",
      "metadata": {
        "id": "8jzkiHHNWAnY"
      },
      "source": [
        "Мы знаем, что accuracy не является хорошим показателем качества модели при несбалансированных классах. \n",
        "\n",
        "Допустим у нас 1000 объектов, где 990 имеют метку класса 0, а остальные 10 имеют метку 1. В нашем случае, класс 0 соответствует компьютерам, на которых нет вируса, а класс 1 - на которых есть. Тогда accuracy у константной модели, которая всегда предсказывает нулевой класс будет $0.99$, хотя задача как раз состоит в том, чтобы детектировать эти самые 10 объектов, которые соответствуют зараженным компьютерам. "
      ]
    },
    {
      "cell_type": "markdown",
      "metadata": {
        "id": "wCCG_OzvWAnY"
      },
      "source": [
        "При несбалансированных выборках с помощью матрицы ошибок можно посчитать следующие метрики:\n",
        "\n",
        "* **Precision** показывает \"точность\" попадания нашего классификатора в положительный класс, то есть долю правильно предсказанных положительных объектов среди всех **предсказанных** положительных объектов. \n",
        "\n",
        "* **Recall** показывает \"полноту\" предсказаний нашего классификатора, то есть долю правильно предсказанных положительных объектов среди всех **реальных** положительных объектов.\n",
        "\n",
        "**2.3)** Посчитайте Precision и Recall с помощью матрицы ошибок. Потом сравните с реализацией в sklearn. Напомним формулы из лекции:\n",
        "\n",
        "$$\n",
        "Precision = \\dfrac{TP}{TP + FP}, \\quad Recall = \\dfrac{TP}{TP + FN}\n",
        "$$"
      ]
    },
    {
      "cell_type": "code",
      "execution_count": null,
      "metadata": {
        "execution": {
          "iopub.execute_input": "2022-04-18T20:22:01.870920Z",
          "iopub.status.busy": "2022-04-18T20:22:01.870590Z",
          "iopub.status.idle": "2022-04-18T20:22:01.896558Z",
          "shell.execute_reply": "2022-04-18T20:22:01.895618Z",
          "shell.execute_reply.started": "2022-04-18T20:22:01.870886Z"
        },
        "id": "lsBdKioYWAnY",
        "colab": {
          "base_uri": "https://localhost:8080/"
        },
        "outputId": "373621dc-3864-4cd9-d554-d9c6cf19e6d5"
      },
      "outputs": [
        {
          "output_type": "execute_result",
          "data": {
            "text/plain": [
              "(0.10605755685248541, 0.6426829268292683)"
            ]
          },
          "metadata": {},
          "execution_count": 18
        }
      ],
      "source": [
        "from sklearn.metrics import recall_score, precision_score\n",
        "\n",
        "r = recall_score(y_test,answer)\n",
        "p = precision_score(y_test,answer)\n",
        "\n",
        "r,p\n",
        "\n",
        "\n",
        "\n",
        "\n",
        "\n"
      ]
    },
    {
      "cell_type": "code",
      "source": [
        "p_s = TP/(TP + FP)\n",
        "r_s = TP/(TP + FN)"
      ],
      "metadata": {
        "id": "Ef7xXH1nae_F"
      },
      "execution_count": null,
      "outputs": []
    },
    {
      "cell_type": "code",
      "source": [
        "r_s,p_s"
      ],
      "metadata": {
        "colab": {
          "base_uri": "https://localhost:8080/"
        },
        "id": "J_RyM8yRaq2S",
        "outputId": "305e7dac-9cc1-43a0-c114-f6d068415e82"
      },
      "execution_count": null,
      "outputs": [
        {
          "output_type": "execute_result",
          "data": {
            "text/plain": [
              "(0.10605755685248541, 0.6426829268292683)"
            ]
          },
          "metadata": {},
          "execution_count": 20
        }
      ]
    },
    {
      "cell_type": "code",
      "source": [
        "pipe.predict_proba(X_test)[0]"
      ],
      "metadata": {
        "colab": {
          "base_uri": "https://localhost:8080/"
        },
        "id": "we5s5YnEb6f1",
        "outputId": "a5b0fa11-64e8-45a4-ce0a-edc7cbbeb1c9"
      },
      "execution_count": null,
      "outputs": [
        {
          "output_type": "execute_result",
          "data": {
            "text/plain": [
              "array([0.86206445, 0.13793555])"
            ]
          },
          "metadata": {},
          "execution_count": 21
        }
      ]
    },
    {
      "cell_type": "markdown",
      "metadata": {
        "id": "j4P6OAfZWAnZ"
      },
      "source": [
        "Теперь картина кажется не такой уж лучезарной!"
      ]
    },
    {
      "cell_type": "markdown",
      "metadata": {
        "id": "3izsthJOWAnZ"
      },
      "source": [
        "Вспомним, \n",
        "\n",
        "Метод `.predict` на самом деле берёт предсказанные вероятности для каждого класса и каждому объекту присваивает тот класс, у которого больше вероятность. \n",
        "\n",
        "Так как мы сейчас занимаемся бинарной классификацией, то большая вероятность определяется просто сравнением с порогом 0.5.\n",
        "\n",
        "**2.4)** Воспользуйтесь методом `.predict_proba` и с помощью сравнения с порогом 0.5 постройте вектор предсказаний. Проверьте результат на ранее предсказанных метках, вектора должны совпадать."
      ]
    },
    {
      "cell_type": "code",
      "execution_count": null,
      "metadata": {
        "execution": {
          "iopub.execute_input": "2022-04-18T20:22:18.856848Z",
          "iopub.status.busy": "2022-04-18T20:22:18.856503Z",
          "iopub.status.idle": "2022-04-18T20:22:18.869936Z",
          "shell.execute_reply": "2022-04-18T20:22:18.869195Z",
          "shell.execute_reply.started": "2022-04-18T20:22:18.856814Z"
        },
        "id": "DAvpDdXyWAnZ"
      },
      "outputs": [],
      "source": [
        "### Your code is here\n",
        "\n",
        "from sklearn.metrics import precision_recall_curve\n",
        "\n",
        "pr,rec,tresh = precision_recall_curve(y_test,pipe.predict_proba(X_test)[:,1])\n",
        "\n",
        "\n",
        "\n"
      ]
    },
    {
      "cell_type": "code",
      "source": [
        "max = 0\n",
        "max_i = 0\n",
        "for i in range(len(rec)):\n",
        "  if rec[i] >= 0.2:\n",
        "    if pr[i] > max:\n",
        "      max = pr[i]\n",
        "      max_i = i\n",
        "\n"
      ],
      "metadata": {
        "id": "1dnbUOGudD_W"
      },
      "execution_count": null,
      "outputs": []
    },
    {
      "cell_type": "code",
      "source": [
        "print(round(tresh[max_i],3))\n",
        "print(round(pr[max_i],3))"
      ],
      "metadata": {
        "colab": {
          "base_uri": "https://localhost:8080/"
        },
        "id": "sFAFk0s6ehEY",
        "outputId": "853156e9-1358-4a59-e3d7-c283261d6f1b"
      },
      "execution_count": null,
      "outputs": [
        {
          "output_type": "stream",
          "name": "stdout",
          "text": [
            "0.331\n",
            "0.492\n"
          ]
        }
      ]
    },
    {
      "cell_type": "markdown",
      "metadata": {
        "id": "y4UMxuUGWAna"
      },
      "source": [
        "**Задание 3.**\n",
        "Решим бизнес задачу. \\\n",
        "**3.1)** Допустим, заказчик требует, чтобы наш классификатор в 60% случаев правильно предсказывал наличие вируса на компьютере, чтобы не беспокоить клиентов из-за ложноположительных результатов. \\\n",
        "Как решить эту задачу? =>\n",
        "Надо подобрать порог, который максимизирует `recall` при условии, что `precision > 0.6`.\n",
        "\n",
        "$$\n",
        "(recall | precision > 0.6) \\to \\max_{thres}\n",
        "$$"
      ]
    },
    {
      "cell_type": "code",
      "execution_count": null,
      "metadata": {
        "execution": {
          "iopub.execute_input": "2022-04-18T21:30:53.998031Z",
          "iopub.status.busy": "2022-04-18T21:30:53.997709Z",
          "iopub.status.idle": "2022-04-18T21:30:54.007307Z",
          "shell.execute_reply": "2022-04-18T21:30:54.005784Z",
          "shell.execute_reply.started": "2022-04-18T21:30:53.997997Z"
        },
        "id": "3UduBT1UWAna",
        "colab": {
          "base_uri": "https://localhost:8080/"
        },
        "outputId": "72438a7f-47db-46b5-ff0f-f58f1b7fe3fa"
      },
      "outputs": [
        {
          "output_type": "stream",
          "name": "stdout",
          "text": [
            "Precison:\t 0.6003717472118959\n",
            "Recall: \t 0.1300060374320789\n",
            "Threshold:\t 0.45766970448026434\n"
          ]
        }
      ],
      "source": [
        "from sklearn.metrics import precision_recall_curve\n",
        "\n",
        "### Строим всевозможные комбинации precision, recall, threshold\n",
        "\n",
        "precision, recall, thres = precision_recall_curve(y_test, pipe.predict_proba(X_test)[:, 1])\n",
        "\n",
        "### Находим такую тройку, при которой recall максимален, а precision > 0.6\n",
        "\n",
        "ind = np.where(recall == recall[precision > 0.6].max())\n",
        "\n",
        "print(f\"Precison:\\t {precision[ind][-1]}\")\n",
        "print(f\"Recall: \\t {recall[ind][-1]}\")\n",
        "print(f\"Threshold:\\t {thres[ind][-1]}\")"
      ]
    },
    {
      "cell_type": "markdown",
      "metadata": {
        "id": "_jHOrNNHWAna"
      },
      "source": [
        "Теперь чтобы соответствовать установленным условиям, мы будем замерять вероятности для объектов и сравнивать и с найденным `Threshold`, который решает нашу задачу"
      ]
    },
    {
      "cell_type": "markdown",
      "metadata": {
        "id": "-OJVYyUbWAnb"
      },
      "source": [
        "**3.2)** Аналогично решите задачу, где заказчик требует, чтобы наш классификатор находил хотя бы 20% компьютеров с вирусом, среди всех действительно зараженных компьютеров.\n",
        "$$\n",
        "(precision | recall > 0.2) \\to \\max_{thres}\n",
        "$$"
      ]
    },
    {
      "cell_type": "code",
      "execution_count": null,
      "metadata": {
        "execution": {
          "iopub.execute_input": "2022-04-18T21:31:02.333007Z",
          "iopub.status.busy": "2022-04-18T21:31:02.331845Z",
          "iopub.status.idle": "2022-04-18T21:31:02.341309Z",
          "shell.execute_reply": "2022-04-18T21:31:02.340237Z",
          "shell.execute_reply.started": "2022-04-18T21:31:02.332952Z"
        },
        "id": "v0_96m3SWAnb"
      },
      "outputs": [],
      "source": [
        "### Your code is here\n",
        "\n",
        "new_ind =np.where(precision == precision[recall > 0.2].max())\n",
        "\n",
        "\n",
        "\n",
        "\n"
      ]
    },
    {
      "cell_type": "code",
      "source": [
        "print(f\"Precison:\\t {precision[new_ind]}\")\n",
        "print(f\"Recall: \\t {recall[new_ind]}\")\n",
        "print(f\"Threshold:\\t {thres[new_ind]}\")"
      ],
      "metadata": {
        "colab": {
          "base_uri": "https://localhost:8080/"
        },
        "id": "0Wvk4Xc0g9BU",
        "outputId": "c31ad0de-b48b-49fa-c8fb-cb88a1e33e7c"
      },
      "execution_count": null,
      "outputs": [
        {
          "output_type": "stream",
          "name": "stdout",
          "text": [
            "Precison:\t [0.49232293]\n",
            "Recall: \t [0.20004025]\n",
            "Threshold:\t [0.33074936]\n"
          ]
        }
      ]
    },
    {
      "cell_type": "markdown",
      "metadata": {
        "id": "Yw4nteCmWAnb"
      },
      "source": [
        "**Задание 4.** На самом деле, можно объединить предыдущие две задачи и максимизировать взвешенную метрику, которая учитывает и Precision, и Recall. \\\n",
        "Посчитайте три такие метрики: среднее арифметическое, среднее геометрическое и минимум. \n",
        "1) Найдите порог, который их максимизирует. \n",
        "2) Выведите precision и recall, соответствующие этому порогу. \n",
        "3) Нарисуйте линии уровня для каждой из этих метрик, используя функцию `level_lines`. \n",
        "4) Изобразите точку $(recall, precision)$ соответствующую этому порогу на графике линий уровня.\n",
        "\n",
        "$$\n",
        "Arithm_{avg} = \\dfrac{P + R}{2}, \\quad Geom_{avg} = \\sqrt{P \\cdot R}, \\quad Min = \\min(P, R)\n",
        "$$\n"
      ]
    },
    {
      "cell_type": "code",
      "execution_count": null,
      "metadata": {
        "execution": {
          "iopub.execute_input": "2022-04-18T21:06:41.487631Z",
          "iopub.status.busy": "2022-04-18T21:06:41.487165Z",
          "iopub.status.idle": "2022-04-18T21:06:41.497141Z",
          "shell.execute_reply": "2022-04-18T21:06:41.496096Z",
          "shell.execute_reply.started": "2022-04-18T21:06:41.487592Z"
        },
        "id": "6TtKxgL1WAnb"
      },
      "outputs": [],
      "source": [
        "def level_lines(func, name):\n",
        "    x = np.linspace(0, 1.1, 100)\n",
        "    y = np.linspace(0, 1.1, 100)\n",
        "    \n",
        "    X, Y = np.meshgrid(x, y)\n",
        "    Z = func(X, Y)\n",
        "    \n",
        "    plt.figure(figsize=(5, 5))\n",
        "    plt.title(name)\n",
        "    plt.xlabel('Recall')\n",
        "    plt.ylabel('Precision')\n",
        "    plt.contour(X, Y, Z, 15, cmap='plasma');"
      ]
    },
    {
      "cell_type": "code",
      "execution_count": null,
      "metadata": {
        "execution": {
          "iopub.execute_input": "2022-04-18T21:31:12.676559Z",
          "iopub.status.busy": "2022-04-18T21:31:12.675161Z",
          "iopub.status.idle": "2022-04-18T21:31:12.952717Z",
          "shell.execute_reply": "2022-04-18T21:31:12.951877Z",
          "shell.execute_reply.started": "2022-04-18T21:31:12.676468Z"
        },
        "id": "BPXT73nfWAnc",
        "colab": {
          "base_uri": "https://localhost:8080/",
          "height": 401
        },
        "outputId": "77c0e4d2-bacc-4573-a346-708f3b92c708"
      },
      "outputs": [
        {
          "output_type": "stream",
          "name": "stdout",
          "text": [
            "Precision:\t 0.16995681677976557\n",
            "Recall: \t 0.9979875226403703\n",
            "Threshold:\t 0.02198734808673928\n"
          ]
        },
        {
          "output_type": "display_data",
          "data": {
            "text/plain": [
              "<Figure size 360x360 with 1 Axes>"
            ],
            "image/png": "[encoded data removed]"
          },
          "metadata": {
            "needs_background": "light"
          }
        }
      ],
      "source": [
        "### Покажем на примере среднего арифметического, что должно у вас получиться\n",
        "\n",
        "metric_func = lambda x, y: (x + y)/2\n",
        "\n",
        "arithm_idx = (metric_func(precision, recall)).argmax()\n",
        "\n",
        "print(f\"Precision:\\t {precision[arithm_idx]}\")\n",
        "print(f\"Recall: \\t {recall[arithm_idx]}\")\n",
        "print(f\"Threshold:\\t {thres[arithm_idx]}\")\n",
        "\n",
        "level_lines(metric_func, \"Arithmetic AVG\")\n",
        "plt.plot(recall[arithm_idx], precision[arithm_idx], 'ro');"
      ]
    },
    {
      "cell_type": "code",
      "execution_count": null,
      "metadata": {
        "execution": {
          "iopub.execute_input": "2022-04-18T21:06:44.262744Z",
          "iopub.status.busy": "2022-04-18T21:06:44.262365Z",
          "iopub.status.idle": "2022-04-18T21:06:44.552416Z",
          "shell.execute_reply": "2022-04-18T21:06:44.551195Z",
          "shell.execute_reply.started": "2022-04-18T21:06:44.262695Z"
        },
        "id": "VPWRAE_rWAnc",
        "colab": {
          "base_uri": "https://localhost:8080/",
          "height": 401
        },
        "outputId": "6630b9fd-3670-46e0-962a-f868a825de5a"
      },
      "outputs": [
        {
          "output_type": "stream",
          "name": "stdout",
          "text": [
            "Precision:\t 0.22336008856905618\n",
            "Recall: \t 0.8120346146105857\n",
            "Threshold:\t 0.1252926815181235\n"
          ]
        },
        {
          "output_type": "display_data",
          "data": {
            "text/plain": [
              "<Figure size 360x360 with 1 Axes>"
            ],
            "image/png": "[encoded data removed]"
          },
          "metadata": {
            "needs_background": "light"
          }
        }
      ],
      "source": [
        "### Повторите для среднего геометрического\n",
        "### Your code is here\n",
        "\n",
        "metric_func = lambda x, y: (x * y)**0.5\n",
        "\n",
        "arithm_idx = (metric_func(precision, recall)).argmax()\n",
        "\n",
        "print(f\"Precision:\\t {precision[arithm_idx]}\")\n",
        "print(f\"Recall: \\t {recall[arithm_idx]}\")\n",
        "print(f\"Threshold:\\t {thres[arithm_idx]}\")\n",
        "\n",
        "level_lines(metric_func, \"Arithmetic AVG\")\n",
        "plt.plot(recall[arithm_idx], precision[arithm_idx], 'ro');\n",
        "\n",
        "\n",
        "\n",
        "\n"
      ]
    },
    {
      "cell_type": "code",
      "execution_count": null,
      "metadata": {
        "execution": {
          "iopub.execute_input": "2022-04-18T21:06:51.137490Z",
          "iopub.status.busy": "2022-04-18T21:06:51.137163Z",
          "iopub.status.idle": "2022-04-18T21:06:51.399211Z",
          "shell.execute_reply": "2022-04-18T21:06:51.398089Z",
          "shell.execute_reply.started": "2022-04-18T21:06:51.137457Z"
        },
        "id": "lzh3adVQWAnc",
        "colab": {
          "base_uri": "https://localhost:8080/"
        },
        "outputId": "afbb96e1-5c81-44b0-be26-8615e7fceacc"
      },
      "outputs": [
        {
          "output_type": "stream",
          "name": "stdout",
          "text": [
            "Threshold:\t 0.2367492711104692\n",
            "Precision:\t 0.35882471322197623\n",
            "Recall: \t 0.35882471322197623\n"
          ]
        }
      ],
      "source": [
        "### Повторите для минимума\n",
        "### Your code is here\n",
        "\n",
        "a = []\n",
        "for i in range(len(precision)):\n",
        "  a.append(min(precision[i],recall[i]))\n",
        "\n",
        "arithm_idx = np.array(a).argmax()\n",
        "\n",
        "print(f\"Threshold:\\t {thres[arithm_idx]}\")\n",
        "print(f\"Precision:\\t {precision[arithm_idx]}\")\n",
        "print(f\"Recall: \\t {recall[arithm_idx]}\")\n",
        "\n",
        "\n",
        "\n",
        "\n",
        "\n",
        "\n",
        "\n",
        "\n",
        "\n"
      ]
    },
    {
      "cell_type": "code",
      "source": [],
      "metadata": {
        "id": "g_qzz38tmZfn"
      },
      "execution_count": null,
      "outputs": []
    },
    {
      "cell_type": "markdown",
      "metadata": {
        "id": "rWAvpEUmWAnc"
      },
      "source": [
        "**Задание 5.** Одним из самых распространенных показателей качества является **F-мера**, которая обобщает все вышерассмотренные метрики. Более того, в ней можно регулировать параметр $\\beta^2$, который отвечает за предпочтение между precision и recall. \n",
        "$$\n",
        "F = \\dfrac{(1 + \\beta^2) P \\cdot R}{\\beta^2 P + R}\n",
        "$$\n",
        "* При $\\beta^2 = 1$ и precision, и recall нам важны в равной степени.\n",
        "* При $\\beta^2 > 1$ предпочтение отдается recall. Похоже на решение задачи, где мы фиксируем приемлемое для нас значение precision и максимизируем recall.\n",
        "* При $0 < \\beta^2 < 1$ предпочтение отдается precision. Похоже на решение задачи, где мы фиксируем приемлемое для нас значение recall и максимизируем precision.\n",
        "\n",
        "Найдите порог, который максимизирует:\n",
        "1) F-меру с $\\beta^2 = 1$,\n",
        "2) F-меру с $\\beta^2 = 0.05$,\n",
        "3) F-меру с $\\beta^2 = 4$.\\\n",
        "Для всех трех случаев выведите precision, recall, threshold и F-меру. \n",
        "Нарисуйте линии уровня и точку, которая максимизирует F-меру по аналогии с предыдущим пунктом."
      ]
    },
    {
      "cell_type": "code",
      "execution_count": null,
      "metadata": {
        "execution": {
          "iopub.execute_input": "2022-04-18T21:35:08.199747Z",
          "iopub.status.busy": "2022-04-18T21:35:08.199283Z",
          "iopub.status.idle": "2022-04-18T21:35:08.483726Z",
          "shell.execute_reply": "2022-04-18T21:35:08.482715Z",
          "shell.execute_reply.started": "2022-04-18T21:35:08.199696Z"
        },
        "id": "MUl8-8vWWAnd"
      },
      "outputs": [],
      "source": [
        "### Повторите для F-меры при \\beta^2=1\n",
        "### Выведите ее вместе с precision/recall/threshold\n",
        "### Your code is here\n",
        "f = (2 * precision * recall)/(precision + recall)\n",
        "\n",
        "\n",
        "\n",
        "\n",
        "\n",
        "\n"
      ]
    },
    {
      "cell_type": "code",
      "source": [
        "print(round(thres[np.argmax(f)],3))\n",
        "print(round(precision[np.argmax(f)],3))\n",
        "print(round(recall[np.argmax(f)],3))\n",
        "print(round(np.max(f),3))"
      ],
      "metadata": {
        "colab": {
          "base_uri": "https://localhost:8080/"
        },
        "id": "pnfu8tENmjmD",
        "outputId": "97d3fa64-813b-4b78-e6c5-8efe3886d97a"
      },
      "execution_count": null,
      "outputs": [
        {
          "output_type": "stream",
          "name": "stdout",
          "text": [
            "0.192\n",
            "0.285\n",
            "0.525\n",
            "0.369\n"
          ]
        }
      ]
    },
    {
      "cell_type": "code",
      "execution_count": null,
      "metadata": {
        "execution": {
          "iopub.execute_input": "2022-04-18T21:37:11.185314Z",
          "iopub.status.busy": "2022-04-18T21:37:11.184196Z",
          "iopub.status.idle": "2022-04-18T21:37:11.456684Z",
          "shell.execute_reply": "2022-04-18T21:37:11.455149Z",
          "shell.execute_reply.started": "2022-04-18T21:37:11.185205Z"
        },
        "id": "4S2t8TVqWAnd"
      },
      "outputs": [],
      "source": [
        "### Повторите для F-меры при \\beta^2=0.05\n",
        "### Выведите ее вместе с precision/recall/threshold\n",
        "### Your code is here\n",
        "\n",
        "f = (1.05 * precision * recall)/(0.05 * precision + recall)\n",
        "\n",
        "\n",
        "\n",
        "\n",
        "\n"
      ]
    },
    {
      "cell_type": "code",
      "source": [
        "print(round(thres[np.argmax(f)],3))\n",
        "print(round(precision[np.argmax(f)],3))\n",
        "print(round(recall[np.argmax(f)],3))\n",
        "print(round(np.max(f),3))"
      ],
      "metadata": {
        "colab": {
          "base_uri": "https://localhost:8080/"
        },
        "id": "G-FOi3ZLn97y",
        "outputId": "30f72f1a-cc04-4d56-f7b7-816605b5eb2d"
      },
      "execution_count": null,
      "outputs": [
        {
          "output_type": "stream",
          "name": "stdout",
          "text": [
            "0.497\n",
            "0.642\n",
            "0.109\n",
            "0.521\n"
          ]
        }
      ]
    },
    {
      "cell_type": "code",
      "execution_count": null,
      "metadata": {
        "execution": {
          "iopub.execute_input": "2022-04-18T21:37:22.505899Z",
          "iopub.status.busy": "2022-04-18T21:37:22.505490Z",
          "iopub.status.idle": "2022-04-18T21:37:22.779164Z",
          "shell.execute_reply": "2022-04-18T21:37:22.778007Z",
          "shell.execute_reply.started": "2022-04-18T21:37:22.505867Z"
        },
        "id": "cuEnQ-71WAnd"
      },
      "outputs": [],
      "source": [
        "### Повторите для F-меры при \\beta^2=4\n",
        "### Выведите ее вместе с precision/recall/threshold\n",
        "### Your code is here\n",
        "\n",
        "f = (5 * precision * recall)/(4 * precision + recall)\n",
        "\n",
        "\n",
        "\n",
        "\n",
        "\n"
      ]
    },
    {
      "cell_type": "code",
      "source": [
        "print(round(thres[np.argmax(f)],3))\n",
        "print(round(precision[np.argmax(f)],3))\n",
        "print(round(recall[np.argmax(f)],3))\n",
        "print(round(np.max(f),3))"
      ],
      "metadata": {
        "id": "5SM58eu4oMD5",
        "outputId": "48496e44-11df-4187-d93b-ce2e895d4089",
        "colab": {
          "base_uri": "https://localhost:8080/"
        }
      },
      "execution_count": null,
      "outputs": [
        {
          "output_type": "stream",
          "name": "stdout",
          "text": [
            "0.108\n",
            "0.21\n",
            "0.863\n",
            "0.532\n"
          ]
        }
      ]
    }
  ],
  "metadata": {
    "kernelspec": {
      "display_name": "Python 3 (ipykernel)",
      "language": "python",
      "name": "python3"
    },
    "language_info": {
      "codemirror_mode": {
        "name": "ipython",
        "version": 3
      },
      "file_extension": ".py",
      "mimetype": "text/x-python",
      "name": "python",
      "nbconvert_exporter": "python",
      "pygments_lexer": "ipython3",
      "version": "3.8.10"
    },
    "colab": {
      "provenance": []
    }
  },
  "nbformat": 4,
  "nbformat_minor": 0
}